{
 "cells": [
  {
   "cell_type": "code",
   "execution_count": 1,
   "metadata": {},
   "outputs": [],
   "source": [
    "import numpy as np\n",
    "import pandas as pd"
   ]
  },
  {
   "cell_type": "markdown",
   "metadata": {},
   "source": [
    "#### **3. DATA CLEANING & PREPARATION**"
   ]
  },
  {
   "cell_type": "markdown",
   "metadata": {},
   "source": [
    "In this section, we will focus on data preparation and cleaning, a crucial step in ensuring the accuracy and reliability of our analysis. This phase involves several key tasks aimed at transforming raw data into a format that is ready for analysis. Our primary objectives here include:\n",
    "\n",
    "- Handling Missing Values: We'll address any missing values identified during our data understanding phase\n",
    "\n",
    "- Correcting Data Types: We will ensure that each column in our dataset is of the appropriate data type. For instance, dates should be in datetime format, and categorical data should be properly encoded.\n",
    "\n",
    "- Removing Duplicates: Any duplicate records that could skew the analysis will be identified and removed to maintain the uniqueness of our dataset.\n",
    "\n",
    "- Standardizing Data: We will standardize inconsistent or erroneous entries, such as varying formats in categorical variables or incorrect data entries, to ensure uniformity across the dataset."
   ]
  },
  {
   "cell_type": "code",
   "execution_count": 2,
   "metadata": {},
   "outputs": [],
   "source": [
    "# Load Raw dataset\n",
    "df_olist_raw = pd.read_csv('./dataset/df_olist_raw.csv')"
   ]
  },
  {
   "cell_type": "markdown",
   "metadata": {},
   "source": [
    "##### **3.1. Correcting Data Types**"
   ]
  },
  {
   "cell_type": "code",
   "execution_count": 3,
   "metadata": {},
   "outputs": [
    {
     "data": {
      "text/plain": [
       "Index(['order_purchase_timestamp', 'order_delivered_customer_date',\n",
       "       'order_estimated_delivery_date', 'review_creation_date',\n",
       "       'review_answer_timestamp'],\n",
       "      dtype='object')"
      ]
     },
     "execution_count": 3,
     "metadata": {},
     "output_type": "execute_result"
    }
   ],
   "source": [
    "# select all columns that have datetime information\n",
    "time_columns = df_olist_raw.columns[df_olist_raw.columns.str.contains('date|timestamp', case=False)]\n",
    "time_columns"
   ]
  },
  {
   "cell_type": "code",
   "execution_count": 4,
   "metadata": {},
   "outputs": [],
   "source": [
    "# mengubah column dengan keterangan waktu kedalam format datetime\n",
    "df_olist_raw[time_columns] = df_olist_raw[time_columns].apply(pd.to_datetime)"
   ]
  },
  {
   "cell_type": "markdown",
   "metadata": {},
   "source": [
    "##### **3.2. Typo Correction**"
   ]
  },
  {
   "cell_type": "code",
   "execution_count": 5,
   "metadata": {},
   "outputs": [
    {
     "data": {
      "text/plain": [
       "seller_city\n",
       "sao paulo                29489\n",
       "ibitinga                  8373\n",
       "curitiba                  3161\n",
       "santo andre               3149\n",
       "sao jose do rio preto     2693\n",
       "Name: count, dtype: int64"
      ]
     },
     "execution_count": 5,
     "metadata": {},
     "output_type": "execute_result"
    }
   ],
   "source": [
    "typo_dict = {\n",
    "    'são paulo': 'sao paulo',\n",
    "    'sao pauo': 'sao paulo',\n",
    "    'sao paulop': 'sao paulo',\n",
    "    'sao paulo sp': 'sao paulo',\n",
    "    'sao paulo / sao paulo': 'sao paulo',\n",
    "    'sao paulo - sp': 'sao paulo',\n",
    "    'sao paluo': 'sao paulo',\n",
    "    'sp / sp': 'sao paulo',\n",
    "    'sp': 'sao paulo',\n",
    "    'scao jose do rio pardo': 'sao jose do rio pardo',\n",
    "    'sbc/sp': 'sao bernardo do campo',\n",
    "    'sbc': 'sao bernardo do campo'\n",
    "}\n",
    "\n",
    "df_olist_raw['seller_city'] = df_olist_raw['seller_city'].replace(typo_dict)\n",
    "\n",
    "df_olist_raw['seller_city'].value_counts().head()"
   ]
  },
  {
   "cell_type": "markdown",
   "metadata": {},
   "source": [
    "##### **3.3. Handling Missing Values**"
   ]
  },
  {
   "cell_type": "markdown",
   "metadata": {},
   "source": [
    "We will handling the `order_delivered_customer_date`column first since it has the highest missing value. Our analysis perform only focusing on number of succes order. so we will exclude the order with status canceled and unavailable by directly droping the row from `order_status` column."
   ]
  },
  {
   "cell_type": "code",
   "execution_count": 6,
   "metadata": {},
   "outputs": [],
   "source": [
    "def summarize_missing_values(df):\n",
    "    missing_values = df.isna().sum()\n",
    "    missing_percentage = (missing_values / len(df)) * 100\n",
    "\n",
    "    missing_info = pd.DataFrame({\n",
    "        'Missing Values': missing_values,\n",
    "        'Percentage': [f\"{x:.2f}%\" for x in missing_percentage]\n",
    "    })\n",
    "\n",
    "    missing_info = missing_info[missing_info['Missing Values'] > 0]\n",
    "\n",
    "    return missing_info"
   ]
  },
  {
   "cell_type": "code",
   "execution_count": 7,
   "metadata": {},
   "outputs": [
    {
     "data": {
      "text/html": [
       "<div>\n",
       "<style scoped>\n",
       "    .dataframe tbody tr th:only-of-type {\n",
       "        vertical-align: middle;\n",
       "    }\n",
       "\n",
       "    .dataframe tbody tr th {\n",
       "        vertical-align: top;\n",
       "    }\n",
       "\n",
       "    .dataframe thead th {\n",
       "        text-align: right;\n",
       "    }\n",
       "</style>\n",
       "<table border=\"1\" class=\"dataframe\">\n",
       "  <thead>\n",
       "    <tr style=\"text-align: right;\">\n",
       "      <th></th>\n",
       "      <th>Missing Values</th>\n",
       "      <th>Percentage</th>\n",
       "    </tr>\n",
       "  </thead>\n",
       "  <tbody>\n",
       "    <tr>\n",
       "      <th>order_approved_at</th>\n",
       "      <td>177</td>\n",
       "      <td>0.15%</td>\n",
       "    </tr>\n",
       "    <tr>\n",
       "      <th>order_delivered_customer_date</th>\n",
       "      <td>3421</td>\n",
       "      <td>2.87%</td>\n",
       "    </tr>\n",
       "    <tr>\n",
       "      <th>order_item_id</th>\n",
       "      <td>833</td>\n",
       "      <td>0.70%</td>\n",
       "    </tr>\n",
       "    <tr>\n",
       "      <th>product_id</th>\n",
       "      <td>833</td>\n",
       "      <td>0.70%</td>\n",
       "    </tr>\n",
       "    <tr>\n",
       "      <th>seller_id</th>\n",
       "      <td>833</td>\n",
       "      <td>0.70%</td>\n",
       "    </tr>\n",
       "    <tr>\n",
       "      <th>price</th>\n",
       "      <td>833</td>\n",
       "      <td>0.70%</td>\n",
       "    </tr>\n",
       "    <tr>\n",
       "      <th>freight_value</th>\n",
       "      <td>833</td>\n",
       "      <td>0.70%</td>\n",
       "    </tr>\n",
       "    <tr>\n",
       "      <th>payment_sequential</th>\n",
       "      <td>3</td>\n",
       "      <td>0.00%</td>\n",
       "    </tr>\n",
       "    <tr>\n",
       "      <th>payment_type</th>\n",
       "      <td>3</td>\n",
       "      <td>0.00%</td>\n",
       "    </tr>\n",
       "    <tr>\n",
       "      <th>payment_installments</th>\n",
       "      <td>3</td>\n",
       "      <td>0.00%</td>\n",
       "    </tr>\n",
       "    <tr>\n",
       "      <th>payment_value</th>\n",
       "      <td>3</td>\n",
       "      <td>0.00%</td>\n",
       "    </tr>\n",
       "    <tr>\n",
       "      <th>product_category_name</th>\n",
       "      <td>2542</td>\n",
       "      <td>2.13%</td>\n",
       "    </tr>\n",
       "    <tr>\n",
       "      <th>product_category_name_english</th>\n",
       "      <td>2567</td>\n",
       "      <td>2.15%</td>\n",
       "    </tr>\n",
       "    <tr>\n",
       "      <th>seller_city</th>\n",
       "      <td>833</td>\n",
       "      <td>0.70%</td>\n",
       "    </tr>\n",
       "    <tr>\n",
       "      <th>seller_state</th>\n",
       "      <td>833</td>\n",
       "      <td>0.70%</td>\n",
       "    </tr>\n",
       "    <tr>\n",
       "      <th>review_score</th>\n",
       "      <td>997</td>\n",
       "      <td>0.84%</td>\n",
       "    </tr>\n",
       "    <tr>\n",
       "      <th>review_comment_message</th>\n",
       "      <td>68898</td>\n",
       "      <td>57.83%</td>\n",
       "    </tr>\n",
       "    <tr>\n",
       "      <th>review_creation_date</th>\n",
       "      <td>997</td>\n",
       "      <td>0.84%</td>\n",
       "    </tr>\n",
       "    <tr>\n",
       "      <th>review_answer_timestamp</th>\n",
       "      <td>997</td>\n",
       "      <td>0.84%</td>\n",
       "    </tr>\n",
       "  </tbody>\n",
       "</table>\n",
       "</div>"
      ],
      "text/plain": [
       "                               Missing Values Percentage\n",
       "order_approved_at                         177      0.15%\n",
       "order_delivered_customer_date            3421      2.87%\n",
       "order_item_id                             833      0.70%\n",
       "product_id                                833      0.70%\n",
       "seller_id                                 833      0.70%\n",
       "price                                     833      0.70%\n",
       "freight_value                             833      0.70%\n",
       "payment_sequential                          3      0.00%\n",
       "payment_type                                3      0.00%\n",
       "payment_installments                        3      0.00%\n",
       "payment_value                               3      0.00%\n",
       "product_category_name                    2542      2.13%\n",
       "product_category_name_english            2567      2.15%\n",
       "seller_city                               833      0.70%\n",
       "seller_state                              833      0.70%\n",
       "review_score                              997      0.84%\n",
       "review_comment_message                  68898     57.83%\n",
       "review_creation_date                      997      0.84%\n",
       "review_answer_timestamp                   997      0.84%"
      ]
     },
     "execution_count": 7,
     "metadata": {},
     "output_type": "execute_result"
    }
   ],
   "source": [
    "summarize_missing_values(df_olist_raw)"
   ]
  },
  {
   "cell_type": "markdown",
   "metadata": {},
   "source": [
    "    3.3.1. order_delivered_customer_date Missing Value"
   ]
  },
  {
   "cell_type": "code",
   "execution_count": 8,
   "metadata": {},
   "outputs": [
    {
     "data": {
      "text/html": [
       "<div>\n",
       "<style scoped>\n",
       "    .dataframe tbody tr th:only-of-type {\n",
       "        vertical-align: middle;\n",
       "    }\n",
       "\n",
       "    .dataframe tbody tr th {\n",
       "        vertical-align: top;\n",
       "    }\n",
       "\n",
       "    .dataframe thead th {\n",
       "        text-align: right;\n",
       "    }\n",
       "</style>\n",
       "<table border=\"1\" class=\"dataframe\">\n",
       "  <thead>\n",
       "    <tr style=\"text-align: right;\">\n",
       "      <th></th>\n",
       "      <th>customer_id</th>\n",
       "      <th>customer_unique_id</th>\n",
       "      <th>customer_city</th>\n",
       "      <th>customer_state</th>\n",
       "      <th>order_id</th>\n",
       "      <th>order_status</th>\n",
       "      <th>order_purchase_timestamp</th>\n",
       "      <th>order_approved_at</th>\n",
       "      <th>order_delivered_customer_date</th>\n",
       "      <th>order_estimated_delivery_date</th>\n",
       "      <th>...</th>\n",
       "      <th>payment_installments</th>\n",
       "      <th>payment_value</th>\n",
       "      <th>product_category_name</th>\n",
       "      <th>product_category_name_english</th>\n",
       "      <th>seller_city</th>\n",
       "      <th>seller_state</th>\n",
       "      <th>review_score</th>\n",
       "      <th>review_comment_message</th>\n",
       "      <th>review_creation_date</th>\n",
       "      <th>review_answer_timestamp</th>\n",
       "    </tr>\n",
       "  </thead>\n",
       "  <tbody>\n",
       "    <tr>\n",
       "      <th>52</th>\n",
       "      <td>f34a6e874087ec1f0e3dab9fdf659c5d</td>\n",
       "      <td>233896de79986082f1f479f1f85281cb</td>\n",
       "      <td>ituiutaba</td>\n",
       "      <td>MG</td>\n",
       "      <td>6e98de3a85c84ead6689189b825d35b5</td>\n",
       "      <td>canceled</td>\n",
       "      <td>2018-03-15 10:07:02</td>\n",
       "      <td>2018-03-15 10:29:33</td>\n",
       "      <td>NaT</td>\n",
       "      <td>2018-04-09</td>\n",
       "      <td>...</td>\n",
       "      <td>1.0</td>\n",
       "      <td>73.16</td>\n",
       "      <td>NaN</td>\n",
       "      <td>NaN</td>\n",
       "      <td>NaN</td>\n",
       "      <td>NaN</td>\n",
       "      <td>1.0</td>\n",
       "      <td>Muita demora pra entregar e acima de tudo nao ...</td>\n",
       "      <td>2018-04-11</td>\n",
       "      <td>2018-04-11 13:17:25</td>\n",
       "    </tr>\n",
       "    <tr>\n",
       "      <th>341</th>\n",
       "      <td>5bfe800011656c0afb81db64519982db</td>\n",
       "      <td>0071f46a072a9ae25bbe4438b15efe9c</td>\n",
       "      <td>aracatuba</td>\n",
       "      <td>SP</td>\n",
       "      <td>df8c077268f7f3baaac0892eb3143642</td>\n",
       "      <td>unavailable</td>\n",
       "      <td>2017-02-01 00:04:17</td>\n",
       "      <td>2017-02-01 00:30:55</td>\n",
       "      <td>NaT</td>\n",
       "      <td>2017-03-10</td>\n",
       "      <td>...</td>\n",
       "      <td>4.0</td>\n",
       "      <td>174.54</td>\n",
       "      <td>NaN</td>\n",
       "      <td>NaN</td>\n",
       "      <td>NaN</td>\n",
       "      <td>NaN</td>\n",
       "      <td>3.0</td>\n",
       "      <td>Gostaria de saber sobre o meu produto pois já ...</td>\n",
       "      <td>2017-03-12</td>\n",
       "      <td>2017-03-14 11:08:50</td>\n",
       "    </tr>\n",
       "  </tbody>\n",
       "</table>\n",
       "<p>2 rows × 27 columns</p>\n",
       "</div>"
      ],
      "text/plain": [
       "                          customer_id                customer_unique_id  \\\n",
       "52   f34a6e874087ec1f0e3dab9fdf659c5d  233896de79986082f1f479f1f85281cb   \n",
       "341  5bfe800011656c0afb81db64519982db  0071f46a072a9ae25bbe4438b15efe9c   \n",
       "\n",
       "    customer_city customer_state                          order_id  \\\n",
       "52      ituiutaba             MG  6e98de3a85c84ead6689189b825d35b5   \n",
       "341     aracatuba             SP  df8c077268f7f3baaac0892eb3143642   \n",
       "\n",
       "    order_status order_purchase_timestamp    order_approved_at  \\\n",
       "52      canceled      2018-03-15 10:07:02  2018-03-15 10:29:33   \n",
       "341  unavailable      2017-02-01 00:04:17  2017-02-01 00:30:55   \n",
       "\n",
       "    order_delivered_customer_date order_estimated_delivery_date  ...  \\\n",
       "52                            NaT                    2018-04-09  ...   \n",
       "341                           NaT                    2017-03-10  ...   \n",
       "\n",
       "     payment_installments payment_value product_category_name  \\\n",
       "52                    1.0         73.16                   NaN   \n",
       "341                   4.0        174.54                   NaN   \n",
       "\n",
       "     product_category_name_english  seller_city  seller_state review_score  \\\n",
       "52                             NaN          NaN           NaN          1.0   \n",
       "341                            NaN          NaN           NaN          3.0   \n",
       "\n",
       "                                review_comment_message  review_creation_date  \\\n",
       "52   Muita demora pra entregar e acima de tudo nao ...            2018-04-11   \n",
       "341  Gostaria de saber sobre o meu produto pois já ...            2017-03-12   \n",
       "\n",
       "    review_answer_timestamp  \n",
       "52      2018-04-11 13:17:25  \n",
       "341     2017-03-14 11:08:50  \n",
       "\n",
       "[2 rows x 27 columns]"
      ]
     },
     "execution_count": 8,
     "metadata": {},
     "output_type": "execute_result"
    }
   ],
   "source": [
    "# checking the order with status canceled and unavailable \n",
    "missing_vals = df_olist_raw[df_olist_raw['order_status'].isin(['canceled','unavailable'])]\n",
    "missing_vals.head(2)"
   ]
  },
  {
   "cell_type": "markdown",
   "metadata": {},
   "source": [
    "The `order_status` with status canceled and unavailable show us there is no `product_id` and `seller_id` which indicated this data is invalid and cannot be used for further analysis. we decided to directly drop all this missing value."
   ]
  },
  {
   "cell_type": "code",
   "execution_count": 9,
   "metadata": {},
   "outputs": [],
   "source": [
    "# droping the missing value with status canceled and unavailable\n",
    "df_olist_raw.drop(df_olist_raw[df_olist_raw['order_status'].isin(['canceled', 'unavailable'])].index, inplace=True)"
   ]
  },
  {
   "cell_type": "markdown",
   "metadata": {},
   "source": [
    "After that we will also check an order with other order_status information for `shipped`, `invoiced`, `processing`, `created` and `approved`. We will see through the gap different between the `order_estimated_delivery_date` and the latest date from the datasets"
   ]
  },
  {
   "cell_type": "code",
   "execution_count": 10,
   "metadata": {},
   "outputs": [
    {
     "data": {
      "text/html": [
       "<div>\n",
       "<style scoped>\n",
       "    .dataframe tbody tr th:only-of-type {\n",
       "        vertical-align: middle;\n",
       "    }\n",
       "\n",
       "    .dataframe tbody tr th {\n",
       "        vertical-align: top;\n",
       "    }\n",
       "\n",
       "    .dataframe thead th {\n",
       "        text-align: right;\n",
       "    }\n",
       "</style>\n",
       "<table border=\"1\" class=\"dataframe\">\n",
       "  <thead>\n",
       "    <tr style=\"text-align: right;\">\n",
       "      <th></th>\n",
       "      <th>Datetime Column</th>\n",
       "      <th>Max Value</th>\n",
       "    </tr>\n",
       "  </thead>\n",
       "  <tbody>\n",
       "    <tr>\n",
       "      <th>0</th>\n",
       "      <td>order_purchase_timestamp</td>\n",
       "      <td>2018-09-03 09:06:57</td>\n",
       "    </tr>\n",
       "    <tr>\n",
       "      <th>1</th>\n",
       "      <td>order_delivered_customer_date</td>\n",
       "      <td>2018-10-17 13:22:46</td>\n",
       "    </tr>\n",
       "    <tr>\n",
       "      <th>2</th>\n",
       "      <td>order_estimated_delivery_date</td>\n",
       "      <td>2018-10-25 00:00:00</td>\n",
       "    </tr>\n",
       "    <tr>\n",
       "      <th>3</th>\n",
       "      <td>review_creation_date</td>\n",
       "      <td>2018-08-31 00:00:00</td>\n",
       "    </tr>\n",
       "    <tr>\n",
       "      <th>4</th>\n",
       "      <td>review_answer_timestamp</td>\n",
       "      <td>2018-10-29 12:27:35</td>\n",
       "    </tr>\n",
       "  </tbody>\n",
       "</table>\n",
       "</div>"
      ],
      "text/plain": [
       "                 Datetime Column           Max Value\n",
       "0       order_purchase_timestamp 2018-09-03 09:06:57\n",
       "1  order_delivered_customer_date 2018-10-17 13:22:46\n",
       "2  order_estimated_delivery_date 2018-10-25 00:00:00\n",
       "3           review_creation_date 2018-08-31 00:00:00\n",
       "4        review_answer_timestamp 2018-10-29 12:27:35"
      ]
     },
     "execution_count": 10,
     "metadata": {},
     "output_type": "execute_result"
    }
   ],
   "source": [
    "# find the latest date in the dataset by taking the maximum value from columns with datetime dtype\n",
    "datetime_columns = df_olist_raw.select_dtypes(include=['datetime64[ns]', 'datetime64[ns, UTC]', 'datetime64']).columns\n",
    "\n",
    "max_values = {}\n",
    "\n",
    "for col in datetime_columns:\n",
    "    max_values[col] = df_olist_raw[col].max()\n",
    "\n",
    "max_values_df = pd.DataFrame(max_values.items(), columns=['Datetime Column', 'Max Value'])\n",
    "max_values_df\n"
   ]
  },
  {
   "cell_type": "code",
   "execution_count": 11,
   "metadata": {},
   "outputs": [
    {
     "name": "stderr",
     "output_type": "stream",
     "text": [
      "C:\\Users\\user\\AppData\\Local\\Temp\\ipykernel_20208\\1245943324.py:6: SettingWithCopyWarning: \n",
      "A value is trying to be set on a copy of a slice from a DataFrame.\n",
      "Try using .loc[row_indexer,col_indexer] = value instead\n",
      "\n",
      "See the caveats in the documentation: https://pandas.pydata.org/pandas-docs/stable/user_guide/indexing.html#returning-a-view-versus-a-copy\n",
      "  non_delivered_df_olist['time_difference'] = (last_date - non_delivered_df_olist['order_estimated_delivery_date']).dt.days\n"
     ]
    },
    {
     "data": {
      "text/html": [
       "<div>\n",
       "<style scoped>\n",
       "    .dataframe tbody tr th:only-of-type {\n",
       "        vertical-align: middle;\n",
       "    }\n",
       "\n",
       "    .dataframe tbody tr th {\n",
       "        vertical-align: top;\n",
       "    }\n",
       "\n",
       "    .dataframe thead th {\n",
       "        text-align: right;\n",
       "    }\n",
       "</style>\n",
       "<table border=\"1\" class=\"dataframe\">\n",
       "  <thead>\n",
       "    <tr style=\"text-align: right;\">\n",
       "      <th></th>\n",
       "      <th>order_id</th>\n",
       "      <th>order_status</th>\n",
       "      <th>order_estimated_delivery_date</th>\n",
       "      <th>time_difference</th>\n",
       "    </tr>\n",
       "  </thead>\n",
       "  <tbody>\n",
       "    <tr>\n",
       "      <th>51865</th>\n",
       "      <td>00a99c50fdff7e36262caba33821875a</td>\n",
       "      <td>shipped</td>\n",
       "      <td>2018-09-18</td>\n",
       "      <td>37</td>\n",
       "    </tr>\n",
       "    <tr>\n",
       "      <th>64365</th>\n",
       "      <td>b1c978cd633caac1ce86e36b61e8aeb3</td>\n",
       "      <td>shipped</td>\n",
       "      <td>2018-09-06</td>\n",
       "      <td>49</td>\n",
       "    </tr>\n",
       "    <tr>\n",
       "      <th>79458</th>\n",
       "      <td>54282e97f61c23b78330c15b154c867d</td>\n",
       "      <td>shipped</td>\n",
       "      <td>2018-09-06</td>\n",
       "      <td>49</td>\n",
       "    </tr>\n",
       "    <tr>\n",
       "      <th>72386</th>\n",
       "      <td>5e6f7229aec06e67732033777ee84816</td>\n",
       "      <td>shipped</td>\n",
       "      <td>2018-09-04</td>\n",
       "      <td>51</td>\n",
       "    </tr>\n",
       "    <tr>\n",
       "      <th>14231</th>\n",
       "      <td>ef13a698cf88c9e17ccca0261e0b9e7a</td>\n",
       "      <td>shipped</td>\n",
       "      <td>2018-08-30</td>\n",
       "      <td>56</td>\n",
       "    </tr>\n",
       "  </tbody>\n",
       "</table>\n",
       "</div>"
      ],
      "text/plain": [
       "                               order_id order_status  \\\n",
       "51865  00a99c50fdff7e36262caba33821875a      shipped   \n",
       "64365  b1c978cd633caac1ce86e36b61e8aeb3      shipped   \n",
       "79458  54282e97f61c23b78330c15b154c867d      shipped   \n",
       "72386  5e6f7229aec06e67732033777ee84816      shipped   \n",
       "14231  ef13a698cf88c9e17ccca0261e0b9e7a      shipped   \n",
       "\n",
       "      order_estimated_delivery_date  time_difference  \n",
       "51865                    2018-09-18               37  \n",
       "64365                    2018-09-06               49  \n",
       "79458                    2018-09-06               49  \n",
       "72386                    2018-09-04               51  \n",
       "14231                    2018-08-30               56  "
      ]
     },
     "execution_count": 11,
     "metadata": {},
     "output_type": "execute_result"
    }
   ],
   "source": [
    "# latest date on dataset\n",
    "last_date = pd.to_datetime('2018-10-25 00:00:00')\n",
    "\n",
    "non_delivered_df_olist = df_olist_raw[df_olist_raw['order_status'] != 'delivered']\n",
    "\n",
    "non_delivered_df_olist['time_difference'] = (last_date - non_delivered_df_olist['order_estimated_delivery_date']).dt.days\n",
    "\n",
    "non_delivered_df_olist[['order_id', 'order_status', 'order_estimated_delivery_date', 'time_difference']].sort_values(by='time_difference', ascending=True).head()\n",
    "\n"
   ]
  },
  {
   "cell_type": "markdown",
   "metadata": {},
   "source": [
    "Orders with a status other than 'delivered' have a time difference of more than 30 days between `order_estimated_delivery_date` and the latest date in the dataset. This indicates that these are orders that failed to reach the customer, and no further action was taken by either the seller or the shipper. With minimal information for proper handling, it is decided that all rows with the above information will be dropped from the dataset.\n"
   ]
  },
  {
   "cell_type": "code",
   "execution_count": 12,
   "metadata": {},
   "outputs": [
    {
     "data": {
      "text/plain": [
       "order_status\n",
       "delivered     115723\n",
       "shipped         1256\n",
       "invoiced         378\n",
       "processing       376\n",
       "created            5\n",
       "approved           3\n",
       "Name: count, dtype: int64"
      ]
     },
     "execution_count": 12,
     "metadata": {},
     "output_type": "execute_result"
    }
   ],
   "source": [
    "df_olist_raw['order_status'].value_counts()"
   ]
  },
  {
   "cell_type": "code",
   "execution_count": 13,
   "metadata": {},
   "outputs": [],
   "source": [
    "df_olist_raw.drop(df_olist_raw[df_olist_raw['order_status'].isin(['shipped', 'invoiced','processing','created','approved'])].index, inplace=True)"
   ]
  },
  {
   "cell_type": "markdown",
   "metadata": {},
   "source": [
    "    3.3.2. product_category_name Missing Value"
   ]
  },
  {
   "cell_type": "markdown",
   "metadata": {},
   "source": [
    "next for `product_category_name_english` missing values\n",
    "\n",
    "There’s a slight difference in missing values between the `product_category_name` in Portuguese and English, with the English version missing 25 more entries. This likely means there are a few categories in Portuguese that don’t have an English translation. Let’s check which ones are missing"
   ]
  },
  {
   "cell_type": "code",
   "execution_count": 14,
   "metadata": {},
   "outputs": [
    {
     "data": {
      "text/plain": [
       "product_category_name\n",
       "portateis_cozinha_e_preparadores_de_alimentos    14\n",
       "pc_gamer                                          9\n",
       "Name: count, dtype: int64"
      ]
     },
     "metadata": {},
     "output_type": "display_data"
    },
    {
     "data": {
      "text/html": [
       "<div>\n",
       "<style scoped>\n",
       "    .dataframe tbody tr th:only-of-type {\n",
       "        vertical-align: middle;\n",
       "    }\n",
       "\n",
       "    .dataframe tbody tr th {\n",
       "        vertical-align: top;\n",
       "    }\n",
       "\n",
       "    .dataframe thead th {\n",
       "        text-align: right;\n",
       "    }\n",
       "</style>\n",
       "<table border=\"1\" class=\"dataframe\">\n",
       "  <thead>\n",
       "    <tr style=\"text-align: right;\">\n",
       "      <th></th>\n",
       "      <th>order_id</th>\n",
       "      <th>product_id</th>\n",
       "      <th>product_category_name</th>\n",
       "      <th>product_category_name_english</th>\n",
       "      <th>order_status</th>\n",
       "    </tr>\n",
       "  </thead>\n",
       "  <tbody>\n",
       "    <tr>\n",
       "      <th>7</th>\n",
       "      <td>1093c8304c7a003280dd34598194913d</td>\n",
       "      <td>124f74f703e88efe001a10bfa718b6ff</td>\n",
       "      <td>NaN</td>\n",
       "      <td>NaN</td>\n",
       "      <td>delivered</td>\n",
       "    </tr>\n",
       "    <tr>\n",
       "      <th>183</th>\n",
       "      <td>f51e3c7f79d1e2c076acbb6af1588b95</td>\n",
       "      <td>e1da02256dce4dee2207c36853547c7b</td>\n",
       "      <td>NaN</td>\n",
       "      <td>NaN</td>\n",
       "      <td>delivered</td>\n",
       "    </tr>\n",
       "    <tr>\n",
       "      <th>377</th>\n",
       "      <td>144bc17d37931097a63d8dbb87bfd2a9</td>\n",
       "      <td>f9b1795281ce51b1cf39ef6d101ae8ab</td>\n",
       "      <td>NaN</td>\n",
       "      <td>NaN</td>\n",
       "      <td>delivered</td>\n",
       "    </tr>\n",
       "    <tr>\n",
       "      <th>450</th>\n",
       "      <td>cb655436a926b3051ca8d308eee56323</td>\n",
       "      <td>e0f33a3329af6716a0bb47fd7a664439</td>\n",
       "      <td>NaN</td>\n",
       "      <td>NaN</td>\n",
       "      <td>delivered</td>\n",
       "    </tr>\n",
       "    <tr>\n",
       "      <th>468</th>\n",
       "      <td>a8318f40d6ce7e1367863809d56a63c3</td>\n",
       "      <td>a4d8f727f92014da5dd64116af14634c</td>\n",
       "      <td>NaN</td>\n",
       "      <td>NaN</td>\n",
       "      <td>delivered</td>\n",
       "    </tr>\n",
       "    <tr>\n",
       "      <th>...</th>\n",
       "      <td>...</td>\n",
       "      <td>...</td>\n",
       "      <td>...</td>\n",
       "      <td>...</td>\n",
       "      <td>...</td>\n",
       "    </tr>\n",
       "    <tr>\n",
       "      <th>118884</th>\n",
       "      <td>a1fa82769a203e30b8faf81cd32e5193</td>\n",
       "      <td>24aba57735be13fd785bc04d1a8812e4</td>\n",
       "      <td>NaN</td>\n",
       "      <td>NaN</td>\n",
       "      <td>delivered</td>\n",
       "    </tr>\n",
       "    <tr>\n",
       "      <th>118885</th>\n",
       "      <td>a1fa82769a203e30b8faf81cd32e5193</td>\n",
       "      <td>24aba57735be13fd785bc04d1a8812e4</td>\n",
       "      <td>NaN</td>\n",
       "      <td>NaN</td>\n",
       "      <td>delivered</td>\n",
       "    </tr>\n",
       "    <tr>\n",
       "      <th>118886</th>\n",
       "      <td>a1fa82769a203e30b8faf81cd32e5193</td>\n",
       "      <td>24aba57735be13fd785bc04d1a8812e4</td>\n",
       "      <td>NaN</td>\n",
       "      <td>NaN</td>\n",
       "      <td>delivered</td>\n",
       "    </tr>\n",
       "    <tr>\n",
       "      <th>118887</th>\n",
       "      <td>a1fa82769a203e30b8faf81cd32e5193</td>\n",
       "      <td>24aba57735be13fd785bc04d1a8812e4</td>\n",
       "      <td>NaN</td>\n",
       "      <td>NaN</td>\n",
       "      <td>delivered</td>\n",
       "    </tr>\n",
       "    <tr>\n",
       "      <th>119001</th>\n",
       "      <td>5f95f5f78f509a3af5a6c83d81c1117f</td>\n",
       "      <td>2b7f2a7cf1025b94bc5dc6c28746beaf</td>\n",
       "      <td>NaN</td>\n",
       "      <td>NaN</td>\n",
       "      <td>delivered</td>\n",
       "    </tr>\n",
       "  </tbody>\n",
       "</table>\n",
       "<p>1661 rows × 5 columns</p>\n",
       "</div>"
      ],
      "text/plain": [
       "                                order_id                        product_id  \\\n",
       "7       1093c8304c7a003280dd34598194913d  124f74f703e88efe001a10bfa718b6ff   \n",
       "183     f51e3c7f79d1e2c076acbb6af1588b95  e1da02256dce4dee2207c36853547c7b   \n",
       "377     144bc17d37931097a63d8dbb87bfd2a9  f9b1795281ce51b1cf39ef6d101ae8ab   \n",
       "450     cb655436a926b3051ca8d308eee56323  e0f33a3329af6716a0bb47fd7a664439   \n",
       "468     a8318f40d6ce7e1367863809d56a63c3  a4d8f727f92014da5dd64116af14634c   \n",
       "...                                  ...                               ...   \n",
       "118884  a1fa82769a203e30b8faf81cd32e5193  24aba57735be13fd785bc04d1a8812e4   \n",
       "118885  a1fa82769a203e30b8faf81cd32e5193  24aba57735be13fd785bc04d1a8812e4   \n",
       "118886  a1fa82769a203e30b8faf81cd32e5193  24aba57735be13fd785bc04d1a8812e4   \n",
       "118887  a1fa82769a203e30b8faf81cd32e5193  24aba57735be13fd785bc04d1a8812e4   \n",
       "119001  5f95f5f78f509a3af5a6c83d81c1117f  2b7f2a7cf1025b94bc5dc6c28746beaf   \n",
       "\n",
       "       product_category_name product_category_name_english order_status  \n",
       "7                        NaN                           NaN    delivered  \n",
       "183                      NaN                           NaN    delivered  \n",
       "377                      NaN                           NaN    delivered  \n",
       "450                      NaN                           NaN    delivered  \n",
       "468                      NaN                           NaN    delivered  \n",
       "...                      ...                           ...          ...  \n",
       "118884                   NaN                           NaN    delivered  \n",
       "118885                   NaN                           NaN    delivered  \n",
       "118886                   NaN                           NaN    delivered  \n",
       "118887                   NaN                           NaN    delivered  \n",
       "119001                   NaN                           NaN    delivered  \n",
       "\n",
       "[1661 rows x 5 columns]"
      ]
     },
     "metadata": {},
     "output_type": "display_data"
    }
   ],
   "source": [
    "nan_product_cat = df_olist_raw[df_olist_raw['product_category_name_english'].isna()]\n",
    "nan_product_cat = nan_product_cat[['order_id', 'product_id', 'product_category_name', 'product_category_name_english', 'order_status']]\n",
    "display(nan_product_cat['product_category_name'].value_counts(),\n",
    "       nan_product_cat)"
   ]
  },
  {
   "cell_type": "code",
   "execution_count": 15,
   "metadata": {},
   "outputs": [
    {
     "name": "stderr",
     "output_type": "stream",
     "text": [
      "C:\\Users\\user\\AppData\\Local\\Temp\\ipykernel_20208\\406725904.py:6: FutureWarning: A value is trying to be set on a copy of a DataFrame or Series through chained assignment using an inplace method.\n",
      "The behavior will change in pandas 3.0. This inplace method will never work because the intermediate object on which we are setting values always behaves as a copy.\n",
      "\n",
      "For example, when doing 'df[col].method(value, inplace=True)', try using 'df.method({col: value}, inplace=True)' or df[col] = df[col].method(value) instead, to perform the operation inplace on the original object.\n",
      "\n",
      "\n",
      "  df_olist_raw['product_category_name_english'].fillna(\n"
     ]
    }
   ],
   "source": [
    "category_mapping = {\n",
    "    'portateis_cozinha_e_preparadores_de_alimentos': 'portable_kitchen_and_food_preparers',\n",
    "    'pc_gamer': 'pc_gamer'\n",
    "}\n",
    "\n",
    "df_olist_raw['product_category_name_english'].fillna(\n",
    "    df_olist_raw['product_category_name'].map(category_mapping),\n",
    "    inplace=True\n",
    ")"
   ]
  },
  {
   "cell_type": "code",
   "execution_count": 16,
   "metadata": {},
   "outputs": [
    {
     "data": {
      "text/html": [
       "<div>\n",
       "<style scoped>\n",
       "    .dataframe tbody tr th:only-of-type {\n",
       "        vertical-align: middle;\n",
       "    }\n",
       "\n",
       "    .dataframe tbody tr th {\n",
       "        vertical-align: top;\n",
       "    }\n",
       "\n",
       "    .dataframe thead th {\n",
       "        text-align: right;\n",
       "    }\n",
       "</style>\n",
       "<table border=\"1\" class=\"dataframe\">\n",
       "  <thead>\n",
       "    <tr style=\"text-align: right;\">\n",
       "      <th></th>\n",
       "      <th>Missing Values</th>\n",
       "      <th>Percentage</th>\n",
       "    </tr>\n",
       "  </thead>\n",
       "  <tbody>\n",
       "    <tr>\n",
       "      <th>order_approved_at</th>\n",
       "      <td>15</td>\n",
       "      <td>0.01%</td>\n",
       "    </tr>\n",
       "    <tr>\n",
       "      <th>order_delivered_customer_date</th>\n",
       "      <td>8</td>\n",
       "      <td>0.01%</td>\n",
       "    </tr>\n",
       "    <tr>\n",
       "      <th>payment_sequential</th>\n",
       "      <td>3</td>\n",
       "      <td>0.00%</td>\n",
       "    </tr>\n",
       "    <tr>\n",
       "      <th>payment_type</th>\n",
       "      <td>3</td>\n",
       "      <td>0.00%</td>\n",
       "    </tr>\n",
       "    <tr>\n",
       "      <th>payment_installments</th>\n",
       "      <td>3</td>\n",
       "      <td>0.00%</td>\n",
       "    </tr>\n",
       "    <tr>\n",
       "      <th>payment_value</th>\n",
       "      <td>3</td>\n",
       "      <td>0.00%</td>\n",
       "    </tr>\n",
       "    <tr>\n",
       "      <th>product_category_name</th>\n",
       "      <td>1638</td>\n",
       "      <td>1.42%</td>\n",
       "    </tr>\n",
       "    <tr>\n",
       "      <th>product_category_name_english</th>\n",
       "      <td>1638</td>\n",
       "      <td>1.42%</td>\n",
       "    </tr>\n",
       "    <tr>\n",
       "      <th>review_score</th>\n",
       "      <td>861</td>\n",
       "      <td>0.74%</td>\n",
       "    </tr>\n",
       "    <tr>\n",
       "      <th>review_comment_message</th>\n",
       "      <td>67628</td>\n",
       "      <td>58.44%</td>\n",
       "    </tr>\n",
       "    <tr>\n",
       "      <th>review_creation_date</th>\n",
       "      <td>861</td>\n",
       "      <td>0.74%</td>\n",
       "    </tr>\n",
       "    <tr>\n",
       "      <th>review_answer_timestamp</th>\n",
       "      <td>861</td>\n",
       "      <td>0.74%</td>\n",
       "    </tr>\n",
       "  </tbody>\n",
       "</table>\n",
       "</div>"
      ],
      "text/plain": [
       "                               Missing Values Percentage\n",
       "order_approved_at                          15      0.01%\n",
       "order_delivered_customer_date               8      0.01%\n",
       "payment_sequential                          3      0.00%\n",
       "payment_type                                3      0.00%\n",
       "payment_installments                        3      0.00%\n",
       "payment_value                               3      0.00%\n",
       "product_category_name                    1638      1.42%\n",
       "product_category_name_english            1638      1.42%\n",
       "review_score                              861      0.74%\n",
       "review_comment_message                  67628     58.44%\n",
       "review_creation_date                      861      0.74%\n",
       "review_answer_timestamp                   861      0.74%"
      ]
     },
     "execution_count": 16,
     "metadata": {},
     "output_type": "execute_result"
    }
   ],
   "source": [
    "summarize_missing_values(df_olist_raw)"
   ]
  },
  {
   "cell_type": "markdown",
   "metadata": {},
   "source": [
    "We found that the missing values in the `product_category_name` column in Portuguese correspond to missing values in the English column. This suggests that these categories are missing translations in both languages. To simplify things, we’ll update the Portuguese product_category_name column with the corresponding English names from the `product_category_name_english` column. We will then drop the `product_category_name_english` column since it is redundant."
   ]
  },
  {
   "cell_type": "code",
   "execution_count": 17,
   "metadata": {},
   "outputs": [],
   "source": [
    "df_olist_raw['product_category_name'] = df_olist_raw['product_category_name_english']\n",
    "df_olist_raw.drop('product_category_name_english', axis=1, inplace=True)"
   ]
  },
  {
   "cell_type": "code",
   "execution_count": 18,
   "metadata": {},
   "outputs": [
    {
     "data": {
      "text/html": [
       "<div>\n",
       "<style scoped>\n",
       "    .dataframe tbody tr th:only-of-type {\n",
       "        vertical-align: middle;\n",
       "    }\n",
       "\n",
       "    .dataframe tbody tr th {\n",
       "        vertical-align: top;\n",
       "    }\n",
       "\n",
       "    .dataframe thead th {\n",
       "        text-align: right;\n",
       "    }\n",
       "</style>\n",
       "<table border=\"1\" class=\"dataframe\">\n",
       "  <thead>\n",
       "    <tr style=\"text-align: right;\">\n",
       "      <th></th>\n",
       "      <th>product_category_name</th>\n",
       "      <th>count</th>\n",
       "    </tr>\n",
       "  </thead>\n",
       "  <tbody>\n",
       "    <tr>\n",
       "      <th>0</th>\n",
       "      <td>bed_bath_table</td>\n",
       "      <td>11814</td>\n",
       "    </tr>\n",
       "    <tr>\n",
       "      <th>1</th>\n",
       "      <td>health_beauty</td>\n",
       "      <td>9816</td>\n",
       "    </tr>\n",
       "    <tr>\n",
       "      <th>2</th>\n",
       "      <td>sports_leisure</td>\n",
       "      <td>8791</td>\n",
       "    </tr>\n",
       "    <tr>\n",
       "      <th>3</th>\n",
       "      <td>furniture_decor</td>\n",
       "      <td>8643</td>\n",
       "    </tr>\n",
       "    <tr>\n",
       "      <th>4</th>\n",
       "      <td>computers_accessories</td>\n",
       "      <td>7963</td>\n",
       "    </tr>\n",
       "  </tbody>\n",
       "</table>\n",
       "</div>"
      ],
      "text/plain": [
       "   product_category_name  count\n",
       "0         bed_bath_table  11814\n",
       "1          health_beauty   9816\n",
       "2         sports_leisure   8791\n",
       "3        furniture_decor   8643\n",
       "4  computers_accessories   7963"
      ]
     },
     "execution_count": 18,
     "metadata": {},
     "output_type": "execute_result"
    }
   ],
   "source": [
    "df_olist_raw['product_category_name'].value_counts().reset_index().head()"
   ]
  },
  {
   "cell_type": "markdown",
   "metadata": {},
   "source": [
    "Now that all category names are in English. This approach will make the dataset more straightforward and easier to work with."
   ]
  },
  {
   "cell_type": "code",
   "execution_count": 19,
   "metadata": {},
   "outputs": [
    {
     "data": {
      "text/html": [
       "<div>\n",
       "<style scoped>\n",
       "    .dataframe tbody tr th:only-of-type {\n",
       "        vertical-align: middle;\n",
       "    }\n",
       "\n",
       "    .dataframe tbody tr th {\n",
       "        vertical-align: top;\n",
       "    }\n",
       "\n",
       "    .dataframe thead th {\n",
       "        text-align: right;\n",
       "    }\n",
       "</style>\n",
       "<table border=\"1\" class=\"dataframe\">\n",
       "  <thead>\n",
       "    <tr style=\"text-align: right;\">\n",
       "      <th></th>\n",
       "      <th>Missing Values</th>\n",
       "      <th>Percentage</th>\n",
       "    </tr>\n",
       "  </thead>\n",
       "  <tbody>\n",
       "    <tr>\n",
       "      <th>order_approved_at</th>\n",
       "      <td>15</td>\n",
       "      <td>0.01%</td>\n",
       "    </tr>\n",
       "    <tr>\n",
       "      <th>order_delivered_customer_date</th>\n",
       "      <td>8</td>\n",
       "      <td>0.01%</td>\n",
       "    </tr>\n",
       "    <tr>\n",
       "      <th>payment_sequential</th>\n",
       "      <td>3</td>\n",
       "      <td>0.00%</td>\n",
       "    </tr>\n",
       "    <tr>\n",
       "      <th>payment_type</th>\n",
       "      <td>3</td>\n",
       "      <td>0.00%</td>\n",
       "    </tr>\n",
       "    <tr>\n",
       "      <th>payment_installments</th>\n",
       "      <td>3</td>\n",
       "      <td>0.00%</td>\n",
       "    </tr>\n",
       "    <tr>\n",
       "      <th>payment_value</th>\n",
       "      <td>3</td>\n",
       "      <td>0.00%</td>\n",
       "    </tr>\n",
       "    <tr>\n",
       "      <th>product_category_name</th>\n",
       "      <td>1638</td>\n",
       "      <td>1.42%</td>\n",
       "    </tr>\n",
       "    <tr>\n",
       "      <th>review_score</th>\n",
       "      <td>861</td>\n",
       "      <td>0.74%</td>\n",
       "    </tr>\n",
       "    <tr>\n",
       "      <th>review_comment_message</th>\n",
       "      <td>67628</td>\n",
       "      <td>58.44%</td>\n",
       "    </tr>\n",
       "    <tr>\n",
       "      <th>review_creation_date</th>\n",
       "      <td>861</td>\n",
       "      <td>0.74%</td>\n",
       "    </tr>\n",
       "    <tr>\n",
       "      <th>review_answer_timestamp</th>\n",
       "      <td>861</td>\n",
       "      <td>0.74%</td>\n",
       "    </tr>\n",
       "  </tbody>\n",
       "</table>\n",
       "</div>"
      ],
      "text/plain": [
       "                               Missing Values Percentage\n",
       "order_approved_at                          15      0.01%\n",
       "order_delivered_customer_date               8      0.01%\n",
       "payment_sequential                          3      0.00%\n",
       "payment_type                                3      0.00%\n",
       "payment_installments                        3      0.00%\n",
       "payment_value                               3      0.00%\n",
       "product_category_name                    1638      1.42%\n",
       "review_score                              861      0.74%\n",
       "review_comment_message                  67628     58.44%\n",
       "review_creation_date                      861      0.74%\n",
       "review_answer_timestamp                   861      0.74%"
      ]
     },
     "execution_count": 19,
     "metadata": {},
     "output_type": "execute_result"
    }
   ],
   "source": [
    "summarize_missing_values(df_olist_raw)"
   ]
  },
  {
   "cell_type": "markdown",
   "metadata": {},
   "source": [
    "Considering that the `product_category_name` is essential for our recommendation system and the missing values represent just 1.44% of the dataset, we believe the best approach is to drop these rows. This ensures that our recommendation system works with complete and relevant data, which is crucial for making accurate recommendations."
   ]
  },
  {
   "cell_type": "code",
   "execution_count": 20,
   "metadata": {},
   "outputs": [],
   "source": [
    "df_olist_raw = df_olist_raw.dropna(subset=['product_category_name'])"
   ]
  },
  {
   "cell_type": "code",
   "execution_count": 21,
   "metadata": {},
   "outputs": [
    {
     "data": {
      "text/html": [
       "<div>\n",
       "<style scoped>\n",
       "    .dataframe tbody tr th:only-of-type {\n",
       "        vertical-align: middle;\n",
       "    }\n",
       "\n",
       "    .dataframe tbody tr th {\n",
       "        vertical-align: top;\n",
       "    }\n",
       "\n",
       "    .dataframe thead th {\n",
       "        text-align: right;\n",
       "    }\n",
       "</style>\n",
       "<table border=\"1\" class=\"dataframe\">\n",
       "  <thead>\n",
       "    <tr style=\"text-align: right;\">\n",
       "      <th></th>\n",
       "      <th>Missing Values</th>\n",
       "      <th>Percentage</th>\n",
       "    </tr>\n",
       "  </thead>\n",
       "  <tbody>\n",
       "    <tr>\n",
       "      <th>order_approved_at</th>\n",
       "      <td>14</td>\n",
       "      <td>0.01%</td>\n",
       "    </tr>\n",
       "    <tr>\n",
       "      <th>order_delivered_customer_date</th>\n",
       "      <td>8</td>\n",
       "      <td>0.01%</td>\n",
       "    </tr>\n",
       "    <tr>\n",
       "      <th>payment_sequential</th>\n",
       "      <td>3</td>\n",
       "      <td>0.00%</td>\n",
       "    </tr>\n",
       "    <tr>\n",
       "      <th>payment_type</th>\n",
       "      <td>3</td>\n",
       "      <td>0.00%</td>\n",
       "    </tr>\n",
       "    <tr>\n",
       "      <th>payment_installments</th>\n",
       "      <td>3</td>\n",
       "      <td>0.00%</td>\n",
       "    </tr>\n",
       "    <tr>\n",
       "      <th>payment_value</th>\n",
       "      <td>3</td>\n",
       "      <td>0.00%</td>\n",
       "    </tr>\n",
       "    <tr>\n",
       "      <th>review_score</th>\n",
       "      <td>849</td>\n",
       "      <td>0.74%</td>\n",
       "    </tr>\n",
       "    <tr>\n",
       "      <th>review_comment_message</th>\n",
       "      <td>66707</td>\n",
       "      <td>58.47%</td>\n",
       "    </tr>\n",
       "    <tr>\n",
       "      <th>review_creation_date</th>\n",
       "      <td>849</td>\n",
       "      <td>0.74%</td>\n",
       "    </tr>\n",
       "    <tr>\n",
       "      <th>review_answer_timestamp</th>\n",
       "      <td>849</td>\n",
       "      <td>0.74%</td>\n",
       "    </tr>\n",
       "  </tbody>\n",
       "</table>\n",
       "</div>"
      ],
      "text/plain": [
       "                               Missing Values Percentage\n",
       "order_approved_at                          14      0.01%\n",
       "order_delivered_customer_date               8      0.01%\n",
       "payment_sequential                          3      0.00%\n",
       "payment_type                                3      0.00%\n",
       "payment_installments                        3      0.00%\n",
       "payment_value                               3      0.00%\n",
       "review_score                              849      0.74%\n",
       "review_comment_message                  66707     58.47%\n",
       "review_creation_date                      849      0.74%\n",
       "review_answer_timestamp                   849      0.74%"
      ]
     },
     "execution_count": 21,
     "metadata": {},
     "output_type": "execute_result"
    }
   ],
   "source": [
    "summarize_missing_values(df_olist_raw)"
   ]
  },
  {
   "cell_type": "markdown",
   "metadata": {},
   "source": [
    "    3.3.3. payments Missing Value"
   ]
  },
  {
   "cell_type": "code",
   "execution_count": 22,
   "metadata": {},
   "outputs": [
    {
     "data": {
      "text/html": [
       "<div>\n",
       "<style scoped>\n",
       "    .dataframe tbody tr th:only-of-type {\n",
       "        vertical-align: middle;\n",
       "    }\n",
       "\n",
       "    .dataframe tbody tr th {\n",
       "        vertical-align: top;\n",
       "    }\n",
       "\n",
       "    .dataframe thead th {\n",
       "        text-align: right;\n",
       "    }\n",
       "</style>\n",
       "<table border=\"1\" class=\"dataframe\">\n",
       "  <thead>\n",
       "    <tr style=\"text-align: right;\">\n",
       "      <th></th>\n",
       "      <th>customer_id</th>\n",
       "      <th>customer_unique_id</th>\n",
       "      <th>customer_city</th>\n",
       "      <th>customer_state</th>\n",
       "      <th>order_id</th>\n",
       "      <th>order_status</th>\n",
       "      <th>order_purchase_timestamp</th>\n",
       "      <th>order_approved_at</th>\n",
       "      <th>order_delivered_customer_date</th>\n",
       "      <th>order_estimated_delivery_date</th>\n",
       "      <th>...</th>\n",
       "      <th>payment_type</th>\n",
       "      <th>payment_installments</th>\n",
       "      <th>payment_value</th>\n",
       "      <th>product_category_name</th>\n",
       "      <th>seller_city</th>\n",
       "      <th>seller_state</th>\n",
       "      <th>review_score</th>\n",
       "      <th>review_comment_message</th>\n",
       "      <th>review_creation_date</th>\n",
       "      <th>review_answer_timestamp</th>\n",
       "    </tr>\n",
       "  </thead>\n",
       "  <tbody>\n",
       "    <tr>\n",
       "      <th>25365</th>\n",
       "      <td>86dc2ffce2dfff336de2f386a786e574</td>\n",
       "      <td>830d5b7aaa3b6f1e9ad63703bec97d23</td>\n",
       "      <td>sao joaquim da barra</td>\n",
       "      <td>SP</td>\n",
       "      <td>bfbd0f9bdef84302105ad712db648a6c</td>\n",
       "      <td>delivered</td>\n",
       "      <td>2016-09-15 12:16:38</td>\n",
       "      <td>2016-09-15 12:16:38</td>\n",
       "      <td>2016-11-09 07:47:38</td>\n",
       "      <td>2016-10-04</td>\n",
       "      <td>...</td>\n",
       "      <td>NaN</td>\n",
       "      <td>NaN</td>\n",
       "      <td>NaN</td>\n",
       "      <td>health_beauty</td>\n",
       "      <td>curitiba</td>\n",
       "      <td>PR</td>\n",
       "      <td>1.0</td>\n",
       "      <td>nao recebi o produto e nem resposta da empresa</td>\n",
       "      <td>2016-10-06</td>\n",
       "      <td>2016-10-07 18:32:28</td>\n",
       "    </tr>\n",
       "    <tr>\n",
       "      <th>25366</th>\n",
       "      <td>86dc2ffce2dfff336de2f386a786e574</td>\n",
       "      <td>830d5b7aaa3b6f1e9ad63703bec97d23</td>\n",
       "      <td>sao joaquim da barra</td>\n",
       "      <td>SP</td>\n",
       "      <td>bfbd0f9bdef84302105ad712db648a6c</td>\n",
       "      <td>delivered</td>\n",
       "      <td>2016-09-15 12:16:38</td>\n",
       "      <td>2016-09-15 12:16:38</td>\n",
       "      <td>2016-11-09 07:47:38</td>\n",
       "      <td>2016-10-04</td>\n",
       "      <td>...</td>\n",
       "      <td>NaN</td>\n",
       "      <td>NaN</td>\n",
       "      <td>NaN</td>\n",
       "      <td>health_beauty</td>\n",
       "      <td>curitiba</td>\n",
       "      <td>PR</td>\n",
       "      <td>1.0</td>\n",
       "      <td>nao recebi o produto e nem resposta da empresa</td>\n",
       "      <td>2016-10-06</td>\n",
       "      <td>2016-10-07 18:32:28</td>\n",
       "    </tr>\n",
       "    <tr>\n",
       "      <th>25367</th>\n",
       "      <td>86dc2ffce2dfff336de2f386a786e574</td>\n",
       "      <td>830d5b7aaa3b6f1e9ad63703bec97d23</td>\n",
       "      <td>sao joaquim da barra</td>\n",
       "      <td>SP</td>\n",
       "      <td>bfbd0f9bdef84302105ad712db648a6c</td>\n",
       "      <td>delivered</td>\n",
       "      <td>2016-09-15 12:16:38</td>\n",
       "      <td>2016-09-15 12:16:38</td>\n",
       "      <td>2016-11-09 07:47:38</td>\n",
       "      <td>2016-10-04</td>\n",
       "      <td>...</td>\n",
       "      <td>NaN</td>\n",
       "      <td>NaN</td>\n",
       "      <td>NaN</td>\n",
       "      <td>health_beauty</td>\n",
       "      <td>curitiba</td>\n",
       "      <td>PR</td>\n",
       "      <td>1.0</td>\n",
       "      <td>nao recebi o produto e nem resposta da empresa</td>\n",
       "      <td>2016-10-06</td>\n",
       "      <td>2016-10-07 18:32:28</td>\n",
       "    </tr>\n",
       "  </tbody>\n",
       "</table>\n",
       "<p>3 rows × 26 columns</p>\n",
       "</div>"
      ],
      "text/plain": [
       "                            customer_id                customer_unique_id  \\\n",
       "25365  86dc2ffce2dfff336de2f386a786e574  830d5b7aaa3b6f1e9ad63703bec97d23   \n",
       "25366  86dc2ffce2dfff336de2f386a786e574  830d5b7aaa3b6f1e9ad63703bec97d23   \n",
       "25367  86dc2ffce2dfff336de2f386a786e574  830d5b7aaa3b6f1e9ad63703bec97d23   \n",
       "\n",
       "              customer_city customer_state                          order_id  \\\n",
       "25365  sao joaquim da barra             SP  bfbd0f9bdef84302105ad712db648a6c   \n",
       "25366  sao joaquim da barra             SP  bfbd0f9bdef84302105ad712db648a6c   \n",
       "25367  sao joaquim da barra             SP  bfbd0f9bdef84302105ad712db648a6c   \n",
       "\n",
       "      order_status order_purchase_timestamp    order_approved_at  \\\n",
       "25365    delivered      2016-09-15 12:16:38  2016-09-15 12:16:38   \n",
       "25366    delivered      2016-09-15 12:16:38  2016-09-15 12:16:38   \n",
       "25367    delivered      2016-09-15 12:16:38  2016-09-15 12:16:38   \n",
       "\n",
       "      order_delivered_customer_date order_estimated_delivery_date  ...  \\\n",
       "25365           2016-11-09 07:47:38                    2016-10-04  ...   \n",
       "25366           2016-11-09 07:47:38                    2016-10-04  ...   \n",
       "25367           2016-11-09 07:47:38                    2016-10-04  ...   \n",
       "\n",
       "       payment_type payment_installments payment_value  product_category_name  \\\n",
       "25365           NaN                  NaN           NaN          health_beauty   \n",
       "25366           NaN                  NaN           NaN          health_beauty   \n",
       "25367           NaN                  NaN           NaN          health_beauty   \n",
       "\n",
       "       seller_city  seller_state review_score  \\\n",
       "25365     curitiba            PR          1.0   \n",
       "25366     curitiba            PR          1.0   \n",
       "25367     curitiba            PR          1.0   \n",
       "\n",
       "                               review_comment_message  review_creation_date  \\\n",
       "25365  nao recebi o produto e nem resposta da empresa            2016-10-06   \n",
       "25366  nao recebi o produto e nem resposta da empresa            2016-10-06   \n",
       "25367  nao recebi o produto e nem resposta da empresa            2016-10-06   \n",
       "\n",
       "      review_answer_timestamp  \n",
       "25365     2016-10-07 18:32:28  \n",
       "25366     2016-10-07 18:32:28  \n",
       "25367     2016-10-07 18:32:28  \n",
       "\n",
       "[3 rows x 26 columns]"
      ]
     },
     "execution_count": 22,
     "metadata": {},
     "output_type": "execute_result"
    }
   ],
   "source": [
    "nan_payment = df_olist_raw[df_olist_raw['payment_type'].isna()]\n",
    "nan_payment"
   ]
  },
  {
   "cell_type": "code",
   "execution_count": 23,
   "metadata": {},
   "outputs": [
    {
     "data": {
      "text/html": [
       "<div>\n",
       "<style scoped>\n",
       "    .dataframe tbody tr th:only-of-type {\n",
       "        vertical-align: middle;\n",
       "    }\n",
       "\n",
       "    .dataframe tbody tr th {\n",
       "        vertical-align: top;\n",
       "    }\n",
       "\n",
       "    .dataframe thead th {\n",
       "        text-align: right;\n",
       "    }\n",
       "</style>\n",
       "<table border=\"1\" class=\"dataframe\">\n",
       "  <thead>\n",
       "    <tr style=\"text-align: right;\">\n",
       "      <th></th>\n",
       "      <th>customer_id</th>\n",
       "      <th>customer_unique_id</th>\n",
       "      <th>customer_city</th>\n",
       "      <th>customer_state</th>\n",
       "      <th>order_id</th>\n",
       "      <th>order_status</th>\n",
       "      <th>order_purchase_timestamp</th>\n",
       "      <th>order_approved_at</th>\n",
       "      <th>order_delivered_customer_date</th>\n",
       "      <th>order_estimated_delivery_date</th>\n",
       "      <th>...</th>\n",
       "      <th>payment_type</th>\n",
       "      <th>payment_installments</th>\n",
       "      <th>payment_value</th>\n",
       "      <th>product_category_name</th>\n",
       "      <th>seller_city</th>\n",
       "      <th>seller_state</th>\n",
       "      <th>review_score</th>\n",
       "      <th>review_comment_message</th>\n",
       "      <th>review_creation_date</th>\n",
       "      <th>review_answer_timestamp</th>\n",
       "    </tr>\n",
       "  </thead>\n",
       "  <tbody>\n",
       "    <tr>\n",
       "      <th>25365</th>\n",
       "      <td>86dc2ffce2dfff336de2f386a786e574</td>\n",
       "      <td>830d5b7aaa3b6f1e9ad63703bec97d23</td>\n",
       "      <td>sao joaquim da barra</td>\n",
       "      <td>SP</td>\n",
       "      <td>bfbd0f9bdef84302105ad712db648a6c</td>\n",
       "      <td>delivered</td>\n",
       "      <td>2016-09-15 12:16:38</td>\n",
       "      <td>2016-09-15 12:16:38</td>\n",
       "      <td>2016-11-09 07:47:38</td>\n",
       "      <td>2016-10-04</td>\n",
       "      <td>...</td>\n",
       "      <td>credit_card</td>\n",
       "      <td>2.0</td>\n",
       "      <td>44.99</td>\n",
       "      <td>health_beauty</td>\n",
       "      <td>curitiba</td>\n",
       "      <td>PR</td>\n",
       "      <td>1.0</td>\n",
       "      <td>nao recebi o produto e nem resposta da empresa</td>\n",
       "      <td>2016-10-06</td>\n",
       "      <td>2016-10-07 18:32:28</td>\n",
       "    </tr>\n",
       "    <tr>\n",
       "      <th>25366</th>\n",
       "      <td>86dc2ffce2dfff336de2f386a786e574</td>\n",
       "      <td>830d5b7aaa3b6f1e9ad63703bec97d23</td>\n",
       "      <td>sao joaquim da barra</td>\n",
       "      <td>SP</td>\n",
       "      <td>bfbd0f9bdef84302105ad712db648a6c</td>\n",
       "      <td>delivered</td>\n",
       "      <td>2016-09-15 12:16:38</td>\n",
       "      <td>2016-09-15 12:16:38</td>\n",
       "      <td>2016-11-09 07:47:38</td>\n",
       "      <td>2016-10-04</td>\n",
       "      <td>...</td>\n",
       "      <td>credit_card</td>\n",
       "      <td>2.0</td>\n",
       "      <td>44.99</td>\n",
       "      <td>health_beauty</td>\n",
       "      <td>curitiba</td>\n",
       "      <td>PR</td>\n",
       "      <td>1.0</td>\n",
       "      <td>nao recebi o produto e nem resposta da empresa</td>\n",
       "      <td>2016-10-06</td>\n",
       "      <td>2016-10-07 18:32:28</td>\n",
       "    </tr>\n",
       "    <tr>\n",
       "      <th>25367</th>\n",
       "      <td>86dc2ffce2dfff336de2f386a786e574</td>\n",
       "      <td>830d5b7aaa3b6f1e9ad63703bec97d23</td>\n",
       "      <td>sao joaquim da barra</td>\n",
       "      <td>SP</td>\n",
       "      <td>bfbd0f9bdef84302105ad712db648a6c</td>\n",
       "      <td>delivered</td>\n",
       "      <td>2016-09-15 12:16:38</td>\n",
       "      <td>2016-09-15 12:16:38</td>\n",
       "      <td>2016-11-09 07:47:38</td>\n",
       "      <td>2016-10-04</td>\n",
       "      <td>...</td>\n",
       "      <td>credit_card</td>\n",
       "      <td>2.0</td>\n",
       "      <td>44.99</td>\n",
       "      <td>health_beauty</td>\n",
       "      <td>curitiba</td>\n",
       "      <td>PR</td>\n",
       "      <td>1.0</td>\n",
       "      <td>nao recebi o produto e nem resposta da empresa</td>\n",
       "      <td>2016-10-06</td>\n",
       "      <td>2016-10-07 18:32:28</td>\n",
       "    </tr>\n",
       "  </tbody>\n",
       "</table>\n",
       "<p>3 rows × 26 columns</p>\n",
       "</div>"
      ],
      "text/plain": [
       "                            customer_id                customer_unique_id  \\\n",
       "25365  86dc2ffce2dfff336de2f386a786e574  830d5b7aaa3b6f1e9ad63703bec97d23   \n",
       "25366  86dc2ffce2dfff336de2f386a786e574  830d5b7aaa3b6f1e9ad63703bec97d23   \n",
       "25367  86dc2ffce2dfff336de2f386a786e574  830d5b7aaa3b6f1e9ad63703bec97d23   \n",
       "\n",
       "              customer_city customer_state                          order_id  \\\n",
       "25365  sao joaquim da barra             SP  bfbd0f9bdef84302105ad712db648a6c   \n",
       "25366  sao joaquim da barra             SP  bfbd0f9bdef84302105ad712db648a6c   \n",
       "25367  sao joaquim da barra             SP  bfbd0f9bdef84302105ad712db648a6c   \n",
       "\n",
       "      order_status order_purchase_timestamp    order_approved_at  \\\n",
       "25365    delivered      2016-09-15 12:16:38  2016-09-15 12:16:38   \n",
       "25366    delivered      2016-09-15 12:16:38  2016-09-15 12:16:38   \n",
       "25367    delivered      2016-09-15 12:16:38  2016-09-15 12:16:38   \n",
       "\n",
       "      order_delivered_customer_date order_estimated_delivery_date  ...  \\\n",
       "25365           2016-11-09 07:47:38                    2016-10-04  ...   \n",
       "25366           2016-11-09 07:47:38                    2016-10-04  ...   \n",
       "25367           2016-11-09 07:47:38                    2016-10-04  ...   \n",
       "\n",
       "       payment_type payment_installments payment_value  product_category_name  \\\n",
       "25365   credit_card                  2.0         44.99          health_beauty   \n",
       "25366   credit_card                  2.0         44.99          health_beauty   \n",
       "25367   credit_card                  2.0         44.99          health_beauty   \n",
       "\n",
       "       seller_city  seller_state review_score  \\\n",
       "25365     curitiba            PR          1.0   \n",
       "25366     curitiba            PR          1.0   \n",
       "25367     curitiba            PR          1.0   \n",
       "\n",
       "                               review_comment_message  review_creation_date  \\\n",
       "25365  nao recebi o produto e nem resposta da empresa            2016-10-06   \n",
       "25366  nao recebi o produto e nem resposta da empresa            2016-10-06   \n",
       "25367  nao recebi o produto e nem resposta da empresa            2016-10-06   \n",
       "\n",
       "      review_answer_timestamp  \n",
       "25365     2016-10-07 18:32:28  \n",
       "25366     2016-10-07 18:32:28  \n",
       "25367     2016-10-07 18:32:28  \n",
       "\n",
       "[3 rows x 26 columns]"
      ]
     },
     "execution_count": 23,
     "metadata": {},
     "output_type": "execute_result"
    }
   ],
   "source": [
    "# ensure we only fill missing values for the specific order_id below\n",
    "order_id_to_fill = 'bfbd0f9bdef84302105ad712db648a6c'\n",
    "\n",
    "# fill payment_sequential with the mode (most common value) only where it is missing value (NaN)\n",
    "df_olist_raw.loc[(df_olist_raw['order_id'] == order_id_to_fill) & (df_olist_raw['payment_sequential'].isna()), 'payment_sequential'] = df_olist_raw['payment_sequential'].mode()[0]\n",
    "\n",
    "# fill payment_installments with the median value only where it is missing value (NaN)\n",
    "df_olist_raw.loc[(df_olist_raw['order_id'] == order_id_to_fill) & (df_olist_raw['payment_installments'].isna()), 'payment_installments'] = df_olist_raw['payment_installments'].median()\n",
    "\n",
    "# fill payment_value with the corresponding price of the order_id and only where it is missing value (NaN)\n",
    "df_olist_raw.loc[(df_olist_raw['order_id'] == order_id_to_fill) & (df_olist_raw['payment_value'].isna()), 'payment_value'] = df_olist_raw['price']\n",
    "\n",
    "# fill payment_type with the mode only where it is missing value (NaN)\n",
    "df_olist_raw.loc[(df_olist_raw['order_id'] == order_id_to_fill) & (df_olist_raw['payment_type'].isna()), 'payment_type'] = df_olist_raw['payment_type'].mode()[0]\n",
    "\n",
    "# make sure it is applied well\n",
    "df_olist_raw[df_olist_raw['order_id'] == 'bfbd0f9bdef84302105ad712db648a6c']"
   ]
  },
  {
   "cell_type": "code",
   "execution_count": 24,
   "metadata": {},
   "outputs": [
    {
     "data": {
      "text/html": [
       "<div>\n",
       "<style scoped>\n",
       "    .dataframe tbody tr th:only-of-type {\n",
       "        vertical-align: middle;\n",
       "    }\n",
       "\n",
       "    .dataframe tbody tr th {\n",
       "        vertical-align: top;\n",
       "    }\n",
       "\n",
       "    .dataframe thead th {\n",
       "        text-align: right;\n",
       "    }\n",
       "</style>\n",
       "<table border=\"1\" class=\"dataframe\">\n",
       "  <thead>\n",
       "    <tr style=\"text-align: right;\">\n",
       "      <th></th>\n",
       "      <th>Missing Values</th>\n",
       "      <th>Percentage</th>\n",
       "    </tr>\n",
       "  </thead>\n",
       "  <tbody>\n",
       "    <tr>\n",
       "      <th>order_approved_at</th>\n",
       "      <td>14</td>\n",
       "      <td>0.01%</td>\n",
       "    </tr>\n",
       "    <tr>\n",
       "      <th>order_delivered_customer_date</th>\n",
       "      <td>8</td>\n",
       "      <td>0.01%</td>\n",
       "    </tr>\n",
       "    <tr>\n",
       "      <th>review_score</th>\n",
       "      <td>849</td>\n",
       "      <td>0.74%</td>\n",
       "    </tr>\n",
       "    <tr>\n",
       "      <th>review_comment_message</th>\n",
       "      <td>66707</td>\n",
       "      <td>58.47%</td>\n",
       "    </tr>\n",
       "    <tr>\n",
       "      <th>review_creation_date</th>\n",
       "      <td>849</td>\n",
       "      <td>0.74%</td>\n",
       "    </tr>\n",
       "    <tr>\n",
       "      <th>review_answer_timestamp</th>\n",
       "      <td>849</td>\n",
       "      <td>0.74%</td>\n",
       "    </tr>\n",
       "  </tbody>\n",
       "</table>\n",
       "</div>"
      ],
      "text/plain": [
       "                               Missing Values Percentage\n",
       "order_approved_at                          14      0.01%\n",
       "order_delivered_customer_date               8      0.01%\n",
       "review_score                              849      0.74%\n",
       "review_comment_message                  66707     58.47%\n",
       "review_creation_date                      849      0.74%\n",
       "review_answer_timestamp                   849      0.74%"
      ]
     },
     "execution_count": 24,
     "metadata": {},
     "output_type": "execute_result"
    }
   ],
   "source": [
    "summarize_missing_values(df_olist_raw)"
   ]
  },
  {
   "cell_type": "markdown",
   "metadata": {},
   "source": [
    "    3.3.4. order_approved_at Missing Value"
   ]
  },
  {
   "cell_type": "markdown",
   "metadata": {},
   "source": [
    "To handle missing values in the `order_approved_at` column for orders where the status is delivered. We will Calculate the Average Time Difference: Compute the average time difference between `order_purchase_timestamp` and order_approved_at for rows where `order_approved_at` is not missing."
   ]
  },
  {
   "cell_type": "code",
   "execution_count": 25,
   "metadata": {},
   "outputs": [
    {
     "name": "stderr",
     "output_type": "stream",
     "text": [
      "C:\\Users\\user\\AppData\\Local\\Temp\\ipykernel_20208\\3093250187.py:6: SettingWithCopyWarning: \n",
      "A value is trying to be set on a copy of a slice from a DataFrame.\n",
      "Try using .loc[row_indexer,col_indexer] = value instead\n",
      "\n",
      "See the caveats in the documentation: https://pandas.pydata.org/pandas-docs/stable/user_guide/indexing.html#returning-a-view-versus-a-copy\n",
      "  valid_times['time_difference'] = valid_times['order_approved_at'] - valid_times['order_purchase_timestamp']\n"
     ]
    }
   ],
   "source": [
    "df_olist_raw['order_purchase_timestamp'] = pd.to_datetime(df_olist_raw['order_purchase_timestamp'])\n",
    "df_olist_raw['order_approved_at'] = pd.to_datetime(df_olist_raw['order_approved_at'], errors='coerce')\n",
    "\n",
    "# Calculate time difference where 'order_approved_at' is not missing\n",
    "valid_times = df_olist_raw.dropna(subset=['order_approved_at'])\n",
    "valid_times['time_difference'] = valid_times['order_approved_at'] - valid_times['order_purchase_timestamp']\n",
    "average_time_difference = valid_times['time_difference'].mean()\n",
    "\n",
    "# Fill missing 'order_approved_at' values\n",
    "missing_times = df_olist_raw[df_olist_raw['order_approved_at'].isna()]\n",
    "df_olist_raw.loc[missing_times.index, 'order_approved_at'] = missing_times['order_purchase_timestamp'] + average_time_difference\n"
   ]
  },
  {
   "cell_type": "code",
   "execution_count": 26,
   "metadata": {},
   "outputs": [
    {
     "data": {
      "text/html": [
       "<div>\n",
       "<style scoped>\n",
       "    .dataframe tbody tr th:only-of-type {\n",
       "        vertical-align: middle;\n",
       "    }\n",
       "\n",
       "    .dataframe tbody tr th {\n",
       "        vertical-align: top;\n",
       "    }\n",
       "\n",
       "    .dataframe thead th {\n",
       "        text-align: right;\n",
       "    }\n",
       "</style>\n",
       "<table border=\"1\" class=\"dataframe\">\n",
       "  <thead>\n",
       "    <tr style=\"text-align: right;\">\n",
       "      <th></th>\n",
       "      <th>Missing Values</th>\n",
       "      <th>Percentage</th>\n",
       "    </tr>\n",
       "  </thead>\n",
       "  <tbody>\n",
       "    <tr>\n",
       "      <th>order_delivered_customer_date</th>\n",
       "      <td>8</td>\n",
       "      <td>0.01%</td>\n",
       "    </tr>\n",
       "    <tr>\n",
       "      <th>review_score</th>\n",
       "      <td>849</td>\n",
       "      <td>0.74%</td>\n",
       "    </tr>\n",
       "    <tr>\n",
       "      <th>review_comment_message</th>\n",
       "      <td>66707</td>\n",
       "      <td>58.47%</td>\n",
       "    </tr>\n",
       "    <tr>\n",
       "      <th>review_creation_date</th>\n",
       "      <td>849</td>\n",
       "      <td>0.74%</td>\n",
       "    </tr>\n",
       "    <tr>\n",
       "      <th>review_answer_timestamp</th>\n",
       "      <td>849</td>\n",
       "      <td>0.74%</td>\n",
       "    </tr>\n",
       "  </tbody>\n",
       "</table>\n",
       "</div>"
      ],
      "text/plain": [
       "                               Missing Values Percentage\n",
       "order_delivered_customer_date               8      0.01%\n",
       "review_score                              849      0.74%\n",
       "review_comment_message                  66707     58.47%\n",
       "review_creation_date                      849      0.74%\n",
       "review_answer_timestamp                   849      0.74%"
      ]
     },
     "execution_count": 26,
     "metadata": {},
     "output_type": "execute_result"
    }
   ],
   "source": [
    "summarize_missing_values(df_olist_raw)"
   ]
  },
  {
   "cell_type": "markdown",
   "metadata": {},
   "source": [
    "    3.3.5. order_delivered_customer Missing Value"
   ]
  },
  {
   "cell_type": "markdown",
   "metadata": {},
   "source": [
    "To handle missing values in the `order_delivered_customer_date` column for orders where the status is delivered, we will:\n",
    "\n",
    "- Calculate the Average Time Difference: Compute the average time difference between `order_estimated_delivery_date` and `order_delivered_customer_date` for rows where `order_delivered_customer_date` is not missing.\n",
    "\n",
    "- Fill Missing Values: Use the average time difference calculated in step 1 to estimate `order_delivered_customer_date` by adding it to the `order_estimated_delivery_date` for rows where `order_delivered_customer_date` is missing."
   ]
  },
  {
   "cell_type": "code",
   "execution_count": 27,
   "metadata": {},
   "outputs": [],
   "source": [
    "# Ensure the columns are in datetime format\n",
    "df_olist_raw['order_delivered_customer_date'] = pd.to_datetime(df_olist_raw['order_delivered_customer_date'])\n",
    "df_olist_raw['order_estimated_delivery_date'] = pd.to_datetime(df_olist_raw['order_estimated_delivery_date'])\n",
    "\n",
    "# Calculate the average time difference in days directly\n",
    "average_time_difference = (\n",
    "    (df_olist_raw['order_delivered_customer_date'] - df_olist_raw['order_estimated_delivery_date'])\n",
    "    .dropna()\n",
    "    .dt.total_seconds() / (60 * 60 * 24)\n",
    ").mean()"
   ]
  },
  {
   "cell_type": "code",
   "execution_count": 28,
   "metadata": {},
   "outputs": [
    {
     "name": "stderr",
     "output_type": "stream",
     "text": [
      "C:\\Users\\user\\AppData\\Local\\Temp\\ipykernel_20208\\51069371.py:3: FutureWarning: 'S' is deprecated and will be removed in a future version, please use 's' instead.\n",
      "  (df_olist_raw['order_estimated_delivery_date'] + pd.to_timedelta(average_time_difference, unit='d')).dt.round('S'),\n",
      "C:\\Users\\user\\AppData\\Local\\Temp\\ipykernel_20208\\51069371.py:2: FutureWarning: A value is trying to be set on a copy of a DataFrame or Series through chained assignment using an inplace method.\n",
      "The behavior will change in pandas 3.0. This inplace method will never work because the intermediate object on which we are setting values always behaves as a copy.\n",
      "\n",
      "For example, when doing 'df[col].method(value, inplace=True)', try using 'df.method({col: value}, inplace=True)' or df[col] = df[col].method(value) instead, to perform the operation inplace on the original object.\n",
      "\n",
      "\n",
      "  df_olist_raw['order_delivered_customer_date'].fillna(\n"
     ]
    }
   ],
   "source": [
    "\n",
    "# Fill missing values in 'order_delivered_customer_date'\n",
    "df_olist_raw['order_delivered_customer_date'].fillna(\n",
    "    (df_olist_raw['order_estimated_delivery_date'] + pd.to_timedelta(average_time_difference, unit='d')).dt.round('S'),\n",
    "    inplace=True\n",
    ")"
   ]
  },
  {
   "cell_type": "markdown",
   "metadata": {},
   "source": [
    "    3.3.6. review_creation_date Missing Value"
   ]
  },
  {
   "cell_type": "code",
   "execution_count": 29,
   "metadata": {},
   "outputs": [
    {
     "data": {
      "text/html": [
       "<div>\n",
       "<style scoped>\n",
       "    .dataframe tbody tr th:only-of-type {\n",
       "        vertical-align: middle;\n",
       "    }\n",
       "\n",
       "    .dataframe tbody tr th {\n",
       "        vertical-align: top;\n",
       "    }\n",
       "\n",
       "    .dataframe thead th {\n",
       "        text-align: right;\n",
       "    }\n",
       "</style>\n",
       "<table border=\"1\" class=\"dataframe\">\n",
       "  <thead>\n",
       "    <tr style=\"text-align: right;\">\n",
       "      <th></th>\n",
       "      <th>Missing Values</th>\n",
       "      <th>Percentage</th>\n",
       "    </tr>\n",
       "  </thead>\n",
       "  <tbody>\n",
       "    <tr>\n",
       "      <th>review_score</th>\n",
       "      <td>849</td>\n",
       "      <td>0.74%</td>\n",
       "    </tr>\n",
       "    <tr>\n",
       "      <th>review_comment_message</th>\n",
       "      <td>66707</td>\n",
       "      <td>58.47%</td>\n",
       "    </tr>\n",
       "    <tr>\n",
       "      <th>review_creation_date</th>\n",
       "      <td>849</td>\n",
       "      <td>0.74%</td>\n",
       "    </tr>\n",
       "    <tr>\n",
       "      <th>review_answer_timestamp</th>\n",
       "      <td>849</td>\n",
       "      <td>0.74%</td>\n",
       "    </tr>\n",
       "  </tbody>\n",
       "</table>\n",
       "</div>"
      ],
      "text/plain": [
       "                         Missing Values Percentage\n",
       "review_score                        849      0.74%\n",
       "review_comment_message            66707     58.47%\n",
       "review_creation_date                849      0.74%\n",
       "review_answer_timestamp             849      0.74%"
      ]
     },
     "execution_count": 29,
     "metadata": {},
     "output_type": "execute_result"
    }
   ],
   "source": [
    "summarize_missing_values(df_olist_raw)"
   ]
  },
  {
   "cell_type": "markdown",
   "metadata": {},
   "source": [
    "To handle missing values in the review_creation_date column for orders where the status is delivered, we will:\n",
    "\n",
    "- Calculate the Average Time Difference: Compute the average time difference between `order_delivered_customer_date` and `order_purchase_timestamp` for rows where `order_delivered_customer_date` is not missing.\n",
    "\n",
    "- Fill Missing Values: Use the average time difference calculated in step 1 to `estimate review_creation_date` by adding it to the `order_delivered_customer_date` for rows where `review_creation_date` is missing."
   ]
  },
  {
   "cell_type": "code",
   "execution_count": 30,
   "metadata": {},
   "outputs": [],
   "source": [
    "# Calculate time difference between order_delivered_customer_date and order_purchase_timestamp for non-missing values\n",
    "time_differences = df_olist_raw['order_delivered_customer_date'] - df_olist_raw['order_purchase_timestamp']\n",
    "average_time_difference = time_differences.mean()\n",
    "\n",
    "# Fill missing review_creation_date values\n",
    "missing_reviews = df_olist_raw[df_olist_raw['review_creation_date'].isna()]\n",
    "df_olist_raw.loc[missing_reviews.index, 'review_creation_date'] = missing_reviews['order_delivered_customer_date'] + average_time_difference"
   ]
  },
  {
   "cell_type": "code",
   "execution_count": 31,
   "metadata": {},
   "outputs": [
    {
     "data": {
      "text/html": [
       "<div>\n",
       "<style scoped>\n",
       "    .dataframe tbody tr th:only-of-type {\n",
       "        vertical-align: middle;\n",
       "    }\n",
       "\n",
       "    .dataframe tbody tr th {\n",
       "        vertical-align: top;\n",
       "    }\n",
       "\n",
       "    .dataframe thead th {\n",
       "        text-align: right;\n",
       "    }\n",
       "</style>\n",
       "<table border=\"1\" class=\"dataframe\">\n",
       "  <thead>\n",
       "    <tr style=\"text-align: right;\">\n",
       "      <th></th>\n",
       "      <th>Missing Values</th>\n",
       "      <th>Percentage</th>\n",
       "    </tr>\n",
       "  </thead>\n",
       "  <tbody>\n",
       "    <tr>\n",
       "      <th>review_score</th>\n",
       "      <td>849</td>\n",
       "      <td>0.74%</td>\n",
       "    </tr>\n",
       "    <tr>\n",
       "      <th>review_comment_message</th>\n",
       "      <td>66707</td>\n",
       "      <td>58.47%</td>\n",
       "    </tr>\n",
       "    <tr>\n",
       "      <th>review_answer_timestamp</th>\n",
       "      <td>849</td>\n",
       "      <td>0.74%</td>\n",
       "    </tr>\n",
       "  </tbody>\n",
       "</table>\n",
       "</div>"
      ],
      "text/plain": [
       "                         Missing Values Percentage\n",
       "review_score                        849      0.74%\n",
       "review_comment_message            66707     58.47%\n",
       "review_answer_timestamp             849      0.74%"
      ]
     },
     "execution_count": 31,
     "metadata": {},
     "output_type": "execute_result"
    }
   ],
   "source": [
    "summarize_missing_values(df_olist_raw)"
   ]
  },
  {
   "cell_type": "markdown",
   "metadata": {},
   "source": [
    "    3.3.7. review_score Missing Value\n"
   ]
  },
  {
   "cell_type": "code",
   "execution_count": 32,
   "metadata": {},
   "outputs": [],
   "source": [
    "# Menghitung median review score per seller\n",
    "avg_review_score_by_seller = df_olist_raw.groupby('seller_id')['review_score'].median()\n",
    "\n",
    "# Menggabungkan median review score dengan dataset utama\n",
    "df_olist_raw = df_olist_raw.merge(avg_review_score_by_seller, on='seller_id', how='left', suffixes=('', '_median'))\n",
    "\n",
    "# Mengisi nilai review score yang hilang dengan median per seller\n",
    "df_olist_raw['review_score'] = df_olist_raw['review_score'].fillna(df_olist_raw['review_score_median'])\n",
    "\n",
    "# Menghapus kolom median setelah digunakan\n",
    "df_olist_raw.drop(columns=['review_score_median'], inplace=True)\n",
    "\n",
    "# Mengisi nilai yang masih hilang dengan median keseluruhan dan membulatkannya\n",
    "df_olist_raw['review_score'] = df_olist_raw['review_score'].fillna(df_olist_raw['review_score'].median()).round()\n"
   ]
  },
  {
   "cell_type": "markdown",
   "metadata": {},
   "source": [
    "    3.3.8. review_asnwer Missing Value"
   ]
  },
  {
   "cell_type": "code",
   "execution_count": 33,
   "metadata": {},
   "outputs": [
    {
     "data": {
      "text/plain": [
       "2.9602630509756422"
      ]
     },
     "execution_count": 33,
     "metadata": {},
     "output_type": "execute_result"
    }
   ],
   "source": [
    "# 1. Convert columns to datetime\n",
    "df_olist_raw['order_delivered_customer_date'] = pd.to_datetime(df_olist_raw['order_delivered_customer_date'])\n",
    "df_olist_raw['review_answer_timestamp'] = pd.to_datetime(df_olist_raw['review_answer_timestamp'])\n",
    "\n",
    "#2. Calculate the gap time\n",
    "gap_time = (df_olist_raw['review_answer_timestamp'] - df_olist_raw['order_delivered_customer_date']).dt.total_seconds() / (60 * 60 * 24)\n",
    "\n",
    "# 3. Calculate the average gap time in days [ignoring NaN values]\n",
    "average_gap_time = gap_time.mean()\n",
    "\n",
    "# 4. Showing the average gap time\n",
    "average_gap_time"
   ]
  },
  {
   "cell_type": "markdown",
   "metadata": {},
   "source": [
    "The mean value of 2.99 days represents the average time difference between the order delivery date and the review answer date. This means that, on average, reviews were answered about 3 days after the order was delivered. This average can be used to fill in missing review answer dates by adding approximately 3 days to the order's delivery date."
   ]
  },
  {
   "cell_type": "code",
   "execution_count": 34,
   "metadata": {},
   "outputs": [],
   "source": [
    "# 5. Fill missing review_answer_timestamp with the average gap time\n",
    "df_olist_raw['review_answer_timestamp'] = df_olist_raw['review_answer_timestamp'].fillna(\n",
    "    df_olist_raw['order_delivered_customer_date'] + pd.to_timedelta(average_gap_time, unit='d')\n",
    ")\n",
    "\n",
    "# 6. Round the filled dates to seconds\n",
    "df_olist_raw['review_answer_timestamp'] = df_olist_raw['review_answer_timestamp'].dt.round('s')\n"
   ]
  },
  {
   "cell_type": "markdown",
   "metadata": {},
   "source": [
    "    3.3.9 review_comment Missing Value"
   ]
  },
  {
   "cell_type": "markdown",
   "metadata": {},
   "source": [
    "**NOTE** : We will not impute or remove missing data in the review comment column because our primary objective is to analyze the existing comments for customer complaints. Since we're focused on identifying key issues in the purchasing process, the analysis will rely on the available data without needing a complete dataset. This approach allows us to capture valuable insights from the comments that are present, even if the column contains missing values"
   ]
  },
  {
   "cell_type": "markdown",
   "metadata": {},
   "source": [
    "##### **3.4. State Mapping**"
   ]
  },
  {
   "cell_type": "code",
   "execution_count": 35,
   "metadata": {},
   "outputs": [],
   "source": [
    "state_mapping = {\n",
    "    'AC': 'Acre',\n",
    "    'AL': 'Alagoas',\n",
    "    'AP': 'Amapá',\n",
    "    'AM': 'Amazonas',\n",
    "    'BA': 'Bahia',\n",
    "    'CE': 'Ceará',\n",
    "    'DF': 'Distrito Federal',\n",
    "    'ES': 'Espírito Santo',\n",
    "    'GO': 'Goiás',\n",
    "    'MA': 'Maranhão',\n",
    "    'MT': 'Mato Grosso',\n",
    "    'MS': 'Mato Grosso do Sul',\n",
    "    'MG': 'Minas Gerais',\n",
    "    'PA': 'Pará',\n",
    "    'PB': 'Paraíba',\n",
    "    'PR': 'Paraná',\n",
    "    'PE': 'Pernambuco',\n",
    "    'PI': 'Piauí',\n",
    "    'RJ': 'Rio de Janeiro',\n",
    "    'RN': 'Rio Grande do Norte',\n",
    "    'RS': 'Rio Grande do Sul',\n",
    "    'RO': 'Rondônia',\n",
    "    'RR': 'Roraima',\n",
    "    'SC': 'Santa Catarina',\n",
    "    'SP': 'São Paulo',\n",
    "    'SE': 'Sergipe',\n",
    "    'TO': 'Tocantins'\n",
    "}\n",
    "\n",
    "# Update the 'customer_state' column using the state_mapping dictionary\n",
    "df_olist_raw['customer_state'] = df_olist_raw['customer_state'].map(state_mapping)\n"
   ]
  },
  {
   "cell_type": "markdown",
   "metadata": {},
   "source": [
    "##### **3.5. Factorization**"
   ]
  },
  {
   "cell_type": "markdown",
   "metadata": {},
   "source": [
    "In this process, we did the factorization for columns like customer_unique_id and seller_id to make it easier when carrying out data analysis as well during visualization. This conversion of the ID already in text format into numbers is a factorization operation which will be helpful during machine learning algorithms to deal with it. In addition, the factorization assists in better storage & processing efficiency and take away some of complexity when interpreting relationships between variables present in data. So factorization step is an essential part to handle data analysis properly which generate effective models."
   ]
  },
  {
   "cell_type": "markdown",
   "metadata": {},
   "source": [
    "    3.5.1 Before Factorization"
   ]
  },
  {
   "cell_type": "code",
   "execution_count": 36,
   "metadata": {},
   "outputs": [
    {
     "data": {
      "text/html": [
       "<div>\n",
       "<style scoped>\n",
       "    .dataframe tbody tr th:only-of-type {\n",
       "        vertical-align: middle;\n",
       "    }\n",
       "\n",
       "    .dataframe tbody tr th {\n",
       "        vertical-align: top;\n",
       "    }\n",
       "\n",
       "    .dataframe thead th {\n",
       "        text-align: right;\n",
       "    }\n",
       "</style>\n",
       "<table border=\"1\" class=\"dataframe\">\n",
       "  <thead>\n",
       "    <tr style=\"text-align: right;\">\n",
       "      <th></th>\n",
       "      <th>count</th>\n",
       "      <th>unique</th>\n",
       "      <th>top</th>\n",
       "      <th>freq</th>\n",
       "    </tr>\n",
       "  </thead>\n",
       "  <tbody>\n",
       "    <tr>\n",
       "      <th>customer_unique_id</th>\n",
       "      <td>114085</td>\n",
       "      <td>92098</td>\n",
       "      <td>9a736b248f67d166d2fbb006bcb877c3</td>\n",
       "      <td>75</td>\n",
       "    </tr>\n",
       "    <tr>\n",
       "      <th>seller_id</th>\n",
       "      <td>114085</td>\n",
       "      <td>2914</td>\n",
       "      <td>4a3ca9315b744ce9f8e9374361493884</td>\n",
       "      <td>2116</td>\n",
       "    </tr>\n",
       "    <tr>\n",
       "      <th>product_id</th>\n",
       "      <td>114085</td>\n",
       "      <td>31632</td>\n",
       "      <td>aca2eb7d00ea1a7b8ebd4e68314663af</td>\n",
       "      <td>529</td>\n",
       "    </tr>\n",
       "  </tbody>\n",
       "</table>\n",
       "</div>"
      ],
      "text/plain": [
       "                     count unique                               top  freq\n",
       "customer_unique_id  114085  92098  9a736b248f67d166d2fbb006bcb877c3    75\n",
       "seller_id           114085   2914  4a3ca9315b744ce9f8e9374361493884  2116\n",
       "product_id          114085  31632  aca2eb7d00ea1a7b8ebd4e68314663af   529"
      ]
     },
     "execution_count": 36,
     "metadata": {},
     "output_type": "execute_result"
    }
   ],
   "source": [
    "df_olist_raw[['customer_unique_id','seller_id','product_id']].describe().T"
   ]
  },
  {
   "cell_type": "markdown",
   "metadata": {},
   "source": [
    "    3.5.2 Factorization Process"
   ]
  },
  {
   "cell_type": "code",
   "execution_count": 37,
   "metadata": {},
   "outputs": [],
   "source": [
    "# 1. Factorize and prefix Customer IDs\n",
    "df_olist_raw[\"customer_unique_id\"] = pd.factorize(df_olist_raw[\"customer_unique_id\"], sort=True)[0] + 1\n",
    "df_olist_raw[\"customer_unique_id\"] = df_olist_raw[\"customer_unique_id\"].apply(lambda x: f\"C{x}\")\n",
    "\n",
    "#2. Factorize and prefix Seller IDs\n",
    "df_olist_raw[\"seller_id\"] = pd.factorize(df_olist_raw[\"seller_id\"], sort=True)[0] + 1\n",
    "df_olist_raw[\"seller_id\"] = df_olist_raw[\"seller_id\"].apply(lambda x: f\"S{x}\")\n",
    "\n",
    "# 3. Factorize and prefix Product IDs\n",
    "df_olist_raw[\"product_id\"] = pd.factorize(df_olist_raw[\"product_id\"], sort=True)[0] + 1\n",
    "df_olist_raw[\"product_id\"] = df_olist_raw[\"product_id\"].apply(lambda x: f\"P{x}\")\n"
   ]
  },
  {
   "cell_type": "markdown",
   "metadata": {},
   "source": [
    "    3.5.3 After Factorization"
   ]
  },
  {
   "cell_type": "code",
   "execution_count": 38,
   "metadata": {},
   "outputs": [
    {
     "data": {
      "text/html": [
       "<div>\n",
       "<style scoped>\n",
       "    .dataframe tbody tr th:only-of-type {\n",
       "        vertical-align: middle;\n",
       "    }\n",
       "\n",
       "    .dataframe tbody tr th {\n",
       "        vertical-align: top;\n",
       "    }\n",
       "\n",
       "    .dataframe thead th {\n",
       "        text-align: right;\n",
       "    }\n",
       "</style>\n",
       "<table border=\"1\" class=\"dataframe\">\n",
       "  <thead>\n",
       "    <tr style=\"text-align: right;\">\n",
       "      <th></th>\n",
       "      <th>count</th>\n",
       "      <th>unique</th>\n",
       "      <th>top</th>\n",
       "      <th>freq</th>\n",
       "    </tr>\n",
       "  </thead>\n",
       "  <tbody>\n",
       "    <tr>\n",
       "      <th>customer_unique_id</th>\n",
       "      <td>114085</td>\n",
       "      <td>92098</td>\n",
       "      <td>C55602</td>\n",
       "      <td>75</td>\n",
       "    </tr>\n",
       "    <tr>\n",
       "      <th>seller_id</th>\n",
       "      <td>114085</td>\n",
       "      <td>2914</td>\n",
       "      <td>S846</td>\n",
       "      <td>2116</td>\n",
       "    </tr>\n",
       "    <tr>\n",
       "      <th>product_id</th>\n",
       "      <td>114085</td>\n",
       "      <td>31632</td>\n",
       "      <td>P21247</td>\n",
       "      <td>529</td>\n",
       "    </tr>\n",
       "  </tbody>\n",
       "</table>\n",
       "</div>"
      ],
      "text/plain": [
       "                     count unique     top  freq\n",
       "customer_unique_id  114085  92098  C55602    75\n",
       "seller_id           114085   2914    S846  2116\n",
       "product_id          114085  31632  P21247   529"
      ]
     },
     "execution_count": 38,
     "metadata": {},
     "output_type": "execute_result"
    }
   ],
   "source": [
    "df_olist_raw[['customer_unique_id','seller_id','product_id']].describe().T"
   ]
  },
  {
   "cell_type": "markdown",
   "metadata": {},
   "source": [
    "the frequenct of unique value each columns remains same, nothing is change"
   ]
  },
  {
   "cell_type": "markdown",
   "metadata": {},
   "source": [
    "##### **3.6. Saving the clean dataset**"
   ]
  },
  {
   "cell_type": "code",
   "execution_count": 39,
   "metadata": {},
   "outputs": [],
   "source": [
    "import os\n",
    "\n",
    "# saving the the raw datasets after join\n",
    "folder_path = 'dataset'\n",
    "file_name = 'df_olist_clean.csv'\n",
    "file_path = os.path.join(folder_path, file_name)\n",
    "df_olist_raw.to_csv(file_path, index=False)"
   ]
  }
 ],
 "metadata": {
  "kernelspec": {
   "display_name": "Python 3",
   "language": "python",
   "name": "python3"
  },
  "language_info": {
   "codemirror_mode": {
    "name": "ipython",
    "version": 3
   },
   "file_extension": ".py",
   "mimetype": "text/x-python",
   "name": "python",
   "nbconvert_exporter": "python",
   "pygments_lexer": "ipython3",
   "version": "3.12.1"
  }
 },
 "nbformat": 4,
 "nbformat_minor": 2
}
