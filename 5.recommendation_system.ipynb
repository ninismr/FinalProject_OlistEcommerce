{
  "cells": [
    {
      "cell_type": "markdown",
      "metadata": {
        "id": "m68MFJVdQ2ab"
      },
      "source": [
        "#### **5.Machine Learning Model :  Recommendation System**\n",
        "\n",
        "The recommendation will be in three different approach : content-based method, collaborative filtering and combining both in a hybrid model of recommendation system.\n",
        "\n",
        "The difference in recommendations between content-based filtering and collaborative filtering comes from the underlying mechanisms of how these methods work:\n",
        "\n",
        "**A. Content-Based Filtering:**\n",
        "\n",
        "**How it works:** Content-based filtering recommends items that are similar to those a user has liked in the past, based on the features of the items themselves. In this case, features like product_category_name_english are used to find similarities between items.\n",
        "\n",
        "Since the method is based on features (like category, description length, etc.), it will naturally recommend items that are similar to those the user has interacted with in the same category. For example, if the user likes electronics, content-based filtering will recommend other electronics products, as they share similar attributes (e.g., category).\n",
        "\n",
        "**In-Short :** Content-Based Filtering is based solely on the similarity of item features.\n",
        "\n",
        "**B. Collaborative Filtering:**\n",
        "\n",
        "**How it works:** Collaborative filtering uses the preferences of many users to make recommendations. It looks at what other users with similar tastes have liked and recommends those items to you, regardless of the content or category of the items.\n",
        "\n",
        "Collaborative filtering does not directly consider item features like categories. Instead, it looks at patterns of user behavior. If other users who liked the same items as you have also liked items in different categories, it may recommend those cross-category items to you. This is why collaborative filtering can recommend items from different categories—because it leverages user behavior patterns, not just item similarities.\n",
        "\n",
        "**In-Short :** Collaborative Filtering considers user preferences based on their ratings of other items.\n",
        "\n",
        "\n",
        "\n",
        "\n",
        "\n",
        "\n",
        "\n"
      ]
    },
    {
      "cell_type": "code",
      "execution_count": 1,
      "metadata": {
        "colab": {
          "base_uri": "https://localhost:8080/"
        },
        "id": "qZMmToRM4VoP",
        "outputId": "c8f2cd0b-ced6-433b-d006-c0388f7bbc85"
      },
      "outputs": [
        {
          "name": "stdout",
          "output_type": "stream",
          "text": [
            "Requirement already satisfied: surprise in /usr/local/lib/python3.10/dist-packages (0.1)\n",
            "Requirement already satisfied: scikit-surprise in /usr/local/lib/python3.10/dist-packages (from surprise) (1.1.4)\n",
            "Requirement already satisfied: joblib>=1.2.0 in /usr/local/lib/python3.10/dist-packages (from scikit-surprise->surprise) (1.4.2)\n",
            "Requirement already satisfied: numpy>=1.19.5 in /usr/local/lib/python3.10/dist-packages (from scikit-surprise->surprise) (1.26.4)\n",
            "Requirement already satisfied: scipy>=1.6.0 in /usr/local/lib/python3.10/dist-packages (from scikit-surprise->surprise) (1.13.1)\n"
          ]
        }
      ],
      "source": [
        "!pip install surprise"
      ]
    },
    {
      "cell_type": "code",
      "execution_count": 2,
      "metadata": {
        "id": "pPvNZfUPPqpg"
      },
      "outputs": [],
      "source": [
        "import pandas as pd\n",
        "import numpy as np\n",
        "\n",
        "from sklearn.metrics import mean_squared_error\n",
        "from sklearn.metrics.pairwise import linear_kernel\n",
        "from sklearn.model_selection import train_test_split\n",
        "from sklearn.feature_extraction.text import TfidfVectorizer\n",
        "\n",
        "\n",
        "from surprise import Dataset, Reader, SVD, accuracy\n",
        "from surprise.model_selection import train_test_split as surprise_train_test_split\n",
        "from sklearn.metrics.pairwise import cosine_similarity\n",
        "\n",
        "\n",
        "from surprise import accuracy, Reader, Dataset\n",
        "from surprise import NormalPredictor, KNNBasic, SVD, SVDpp, CoClustering, SlopeOne, NMF, KNNBaseline\n",
        "from surprise.model_selection import cross_validate, KFold, GridSearchCV, train_test_split\n"
      ]
    },
    {
      "cell_type": "code",
      "execution_count": 3,
      "metadata": {
        "id": "tMMH5nrmCQGF"
      },
      "outputs": [],
      "source": [
        "def format_percentage(value):\n",
        "    return f\"{value:.2f}%\""
      ]
    },
    {
      "cell_type": "code",
      "execution_count": 4,
      "metadata": {
        "colab": {
          "base_uri": "https://localhost:8080/",
          "height": 343
        },
        "id": "JkBE25k3yCxm",
        "outputId": "96b6030a-9314-465b-d98f-b354089e8c18"
      },
      "outputs": [
        {
          "data": {
            "application/vnd.google.colaboratory.intrinsic+json": {
              "type": "dataframe",
              "variable_name": "df_all"
            },
            "text/html": [
              "\n",
              "  <div id=\"df-7ef887a8-a2ad-4506-9a07-d7f4287ef4ba\" class=\"colab-df-container\">\n",
              "    <div>\n",
              "<style scoped>\n",
              "    .dataframe tbody tr th:only-of-type {\n",
              "        vertical-align: middle;\n",
              "    }\n",
              "\n",
              "    .dataframe tbody tr th {\n",
              "        vertical-align: top;\n",
              "    }\n",
              "\n",
              "    .dataframe thead th {\n",
              "        text-align: right;\n",
              "    }\n",
              "</style>\n",
              "<table border=\"1\" class=\"dataframe\">\n",
              "  <thead>\n",
              "    <tr style=\"text-align: right;\">\n",
              "      <th></th>\n",
              "      <th>customer_id</th>\n",
              "      <th>customer_unique_id</th>\n",
              "      <th>customer_city</th>\n",
              "      <th>customer_state</th>\n",
              "      <th>order_id</th>\n",
              "      <th>order_status</th>\n",
              "      <th>order_purchase_timestamp</th>\n",
              "      <th>order_approved_at</th>\n",
              "      <th>order_delivered_customer_date</th>\n",
              "      <th>order_estimated_delivery_date</th>\n",
              "      <th>...</th>\n",
              "      <th>payment_type</th>\n",
              "      <th>payment_installments</th>\n",
              "      <th>payment_value</th>\n",
              "      <th>product_category_name</th>\n",
              "      <th>seller_city</th>\n",
              "      <th>seller_state</th>\n",
              "      <th>review_score</th>\n",
              "      <th>review_comment_message</th>\n",
              "      <th>review_creation_date</th>\n",
              "      <th>review_answer_timestamp</th>\n",
              "    </tr>\n",
              "  </thead>\n",
              "  <tbody>\n",
              "    <tr>\n",
              "      <th>0</th>\n",
              "      <td>06b8999e2fba1a1fbc88172c00ba8bc7</td>\n",
              "      <td>C48272</td>\n",
              "      <td>franca</td>\n",
              "      <td>SP</td>\n",
              "      <td>00e7ee1b050b8499577073aeb2a297a1</td>\n",
              "      <td>delivered</td>\n",
              "      <td>2017-05-16 15:05:35</td>\n",
              "      <td>2017-05-16 15:22:12</td>\n",
              "      <td>2017-05-25 10:35:35</td>\n",
              "      <td>2017-06-05</td>\n",
              "      <td>...</td>\n",
              "      <td>credit_card</td>\n",
              "      <td>2.0</td>\n",
              "      <td>146.87</td>\n",
              "      <td>office_furniture</td>\n",
              "      <td>itaquaquecetuba</td>\n",
              "      <td>SP</td>\n",
              "      <td>4.0</td>\n",
              "      <td>NaN</td>\n",
              "      <td>2017-05-26 00:00:00.000000000</td>\n",
              "      <td>2017-05-30 22:34:40</td>\n",
              "    </tr>\n",
              "    <tr>\n",
              "      <th>1</th>\n",
              "      <td>18955e83d337fd6b2def6b18a428ac77</td>\n",
              "      <td>C14788</td>\n",
              "      <td>sao bernardo do campo</td>\n",
              "      <td>SP</td>\n",
              "      <td>29150127e6685892b6eab3eec79f59c7</td>\n",
              "      <td>delivered</td>\n",
              "      <td>2018-01-12 20:48:24</td>\n",
              "      <td>2018-01-12 20:58:32</td>\n",
              "      <td>2018-01-29 12:41:19</td>\n",
              "      <td>2018-02-06</td>\n",
              "      <td>...</td>\n",
              "      <td>credit_card</td>\n",
              "      <td>8.0</td>\n",
              "      <td>335.48</td>\n",
              "      <td>housewares</td>\n",
              "      <td>itajai</td>\n",
              "      <td>SC</td>\n",
              "      <td>5.0</td>\n",
              "      <td>NaN</td>\n",
              "      <td>2018-01-30 00:00:00.000000000</td>\n",
              "      <td>2018-02-10 22:43:29</td>\n",
              "    </tr>\n",
              "    <tr>\n",
              "      <th>2</th>\n",
              "      <td>4e7b3e00288586ebd08712fdd0374a03</td>\n",
              "      <td>C2174</td>\n",
              "      <td>sao paulo</td>\n",
              "      <td>SP</td>\n",
              "      <td>b2059ed67ce144a36e2aa97d2c9e9ad2</td>\n",
              "      <td>delivered</td>\n",
              "      <td>2018-05-19 16:07:45</td>\n",
              "      <td>2018-05-20 16:19:10</td>\n",
              "      <td>2018-06-14 17:58:51</td>\n",
              "      <td>2018-06-13</td>\n",
              "      <td>...</td>\n",
              "      <td>credit_card</td>\n",
              "      <td>7.0</td>\n",
              "      <td>157.73</td>\n",
              "      <td>office_furniture</td>\n",
              "      <td>itaquaquecetuba</td>\n",
              "      <td>SP</td>\n",
              "      <td>5.0</td>\n",
              "      <td>NaN</td>\n",
              "      <td>2018-06-15 00:00:00.000000000</td>\n",
              "      <td>2018-06-15 12:10:59</td>\n",
              "    </tr>\n",
              "    <tr>\n",
              "      <th>3</th>\n",
              "      <td>b2b6027bc5c5109e529d4dc6358b12c3</td>\n",
              "      <td>C13604</td>\n",
              "      <td>mogi das cruzes</td>\n",
              "      <td>SP</td>\n",
              "      <td>951670f92359f4fe4a63112aa7306eba</td>\n",
              "      <td>delivered</td>\n",
              "      <td>2018-03-13 16:06:38</td>\n",
              "      <td>2018-03-13 17:29:19</td>\n",
              "      <td>2018-03-28 16:04:25</td>\n",
              "      <td>2018-04-10</td>\n",
              "      <td>...</td>\n",
              "      <td>credit_card</td>\n",
              "      <td>1.0</td>\n",
              "      <td>173.30</td>\n",
              "      <td>office_furniture</td>\n",
              "      <td>itaquaquecetuba</td>\n",
              "      <td>SP</td>\n",
              "      <td>5.0</td>\n",
              "      <td>NaN</td>\n",
              "      <td>2018-03-29 00:00:00.000000000</td>\n",
              "      <td>2018-04-02 18:36:47</td>\n",
              "    </tr>\n",
              "    <tr>\n",
              "      <th>4</th>\n",
              "      <td>4f2d8ab171c80ec8364f7c12e35b23ad</td>\n",
              "      <td>C18911</td>\n",
              "      <td>campinas</td>\n",
              "      <td>SP</td>\n",
              "      <td>6b7d50bd145f6fc7f33cebabd7e49d0f</td>\n",
              "      <td>delivered</td>\n",
              "      <td>2018-07-29 09:51:30</td>\n",
              "      <td>2018-07-29 10:10:09</td>\n",
              "      <td>2018-08-09 20:55:48</td>\n",
              "      <td>2018-08-15</td>\n",
              "      <td>...</td>\n",
              "      <td>credit_card</td>\n",
              "      <td>8.0</td>\n",
              "      <td>252.25</td>\n",
              "      <td>home_confort</td>\n",
              "      <td>ibitinga</td>\n",
              "      <td>SP</td>\n",
              "      <td>5.0</td>\n",
              "      <td>O baratheon è esxelente Amo adoro o baratheon</td>\n",
              "      <td>2018-08-10 00:00:00.000000000</td>\n",
              "      <td>2018-08-17 01:59:52</td>\n",
              "    </tr>\n",
              "  </tbody>\n",
              "</table>\n",
              "<p>5 rows × 26 columns</p>\n",
              "</div>\n",
              "    <div class=\"colab-df-buttons\">\n",
              "\n",
              "  <div class=\"colab-df-container\">\n",
              "    <button class=\"colab-df-convert\" onclick=\"convertToInteractive('df-7ef887a8-a2ad-4506-9a07-d7f4287ef4ba')\"\n",
              "            title=\"Convert this dataframe to an interactive table.\"\n",
              "            style=\"display:none;\">\n",
              "\n",
              "  <svg xmlns=\"http://www.w3.org/2000/svg\" height=\"24px\" viewBox=\"0 -960 960 960\">\n",
              "    <path d=\"M120-120v-720h720v720H120Zm60-500h600v-160H180v160Zm220 220h160v-160H400v160Zm0 220h160v-160H400v160ZM180-400h160v-160H180v160Zm440 0h160v-160H620v160ZM180-180h160v-160H180v160Zm440 0h160v-160H620v160Z\"/>\n",
              "  </svg>\n",
              "    </button>\n",
              "\n",
              "  <style>\n",
              "    .colab-df-container {\n",
              "      display:flex;\n",
              "      gap: 12px;\n",
              "    }\n",
              "\n",
              "    .colab-df-convert {\n",
              "      background-color: #E8F0FE;\n",
              "      border: none;\n",
              "      border-radius: 50%;\n",
              "      cursor: pointer;\n",
              "      display: none;\n",
              "      fill: #1967D2;\n",
              "      height: 32px;\n",
              "      padding: 0 0 0 0;\n",
              "      width: 32px;\n",
              "    }\n",
              "\n",
              "    .colab-df-convert:hover {\n",
              "      background-color: #E2EBFA;\n",
              "      box-shadow: 0px 1px 2px rgba(60, 64, 67, 0.3), 0px 1px 3px 1px rgba(60, 64, 67, 0.15);\n",
              "      fill: #174EA6;\n",
              "    }\n",
              "\n",
              "    .colab-df-buttons div {\n",
              "      margin-bottom: 4px;\n",
              "    }\n",
              "\n",
              "    [theme=dark] .colab-df-convert {\n",
              "      background-color: #3B4455;\n",
              "      fill: #D2E3FC;\n",
              "    }\n",
              "\n",
              "    [theme=dark] .colab-df-convert:hover {\n",
              "      background-color: #434B5C;\n",
              "      box-shadow: 0px 1px 3px 1px rgba(0, 0, 0, 0.15);\n",
              "      filter: drop-shadow(0px 1px 2px rgba(0, 0, 0, 0.3));\n",
              "      fill: #FFFFFF;\n",
              "    }\n",
              "  </style>\n",
              "\n",
              "    <script>\n",
              "      const buttonEl =\n",
              "        document.querySelector('#df-7ef887a8-a2ad-4506-9a07-d7f4287ef4ba button.colab-df-convert');\n",
              "      buttonEl.style.display =\n",
              "        google.colab.kernel.accessAllowed ? 'block' : 'none';\n",
              "\n",
              "      async function convertToInteractive(key) {\n",
              "        const element = document.querySelector('#df-7ef887a8-a2ad-4506-9a07-d7f4287ef4ba');\n",
              "        const dataTable =\n",
              "          await google.colab.kernel.invokeFunction('convertToInteractive',\n",
              "                                                    [key], {});\n",
              "        if (!dataTable) return;\n",
              "\n",
              "        const docLinkHtml = 'Like what you see? Visit the ' +\n",
              "          '<a target=\"_blank\" href=https://colab.research.google.com/notebooks/data_table.ipynb>data table notebook</a>'\n",
              "          + ' to learn more about interactive tables.';\n",
              "        element.innerHTML = '';\n",
              "        dataTable['output_type'] = 'display_data';\n",
              "        await google.colab.output.renderOutput(dataTable, element);\n",
              "        const docLink = document.createElement('div');\n",
              "        docLink.innerHTML = docLinkHtml;\n",
              "        element.appendChild(docLink);\n",
              "      }\n",
              "    </script>\n",
              "  </div>\n",
              "\n",
              "\n",
              "<div id=\"df-67cbdbeb-4c1c-4b1b-95df-1aba90c63707\">\n",
              "  <button class=\"colab-df-quickchart\" onclick=\"quickchart('df-67cbdbeb-4c1c-4b1b-95df-1aba90c63707')\"\n",
              "            title=\"Suggest charts\"\n",
              "            style=\"display:none;\">\n",
              "\n",
              "<svg xmlns=\"http://www.w3.org/2000/svg\" height=\"24px\"viewBox=\"0 0 24 24\"\n",
              "     width=\"24px\">\n",
              "    <g>\n",
              "        <path d=\"M19 3H5c-1.1 0-2 .9-2 2v14c0 1.1.9 2 2 2h14c1.1 0 2-.9 2-2V5c0-1.1-.9-2-2-2zM9 17H7v-7h2v7zm4 0h-2V7h2v10zm4 0h-2v-4h2v4z\"/>\n",
              "    </g>\n",
              "</svg>\n",
              "  </button>\n",
              "\n",
              "<style>\n",
              "  .colab-df-quickchart {\n",
              "      --bg-color: #E8F0FE;\n",
              "      --fill-color: #1967D2;\n",
              "      --hover-bg-color: #E2EBFA;\n",
              "      --hover-fill-color: #174EA6;\n",
              "      --disabled-fill-color: #AAA;\n",
              "      --disabled-bg-color: #DDD;\n",
              "  }\n",
              "\n",
              "  [theme=dark] .colab-df-quickchart {\n",
              "      --bg-color: #3B4455;\n",
              "      --fill-color: #D2E3FC;\n",
              "      --hover-bg-color: #434B5C;\n",
              "      --hover-fill-color: #FFFFFF;\n",
              "      --disabled-bg-color: #3B4455;\n",
              "      --disabled-fill-color: #666;\n",
              "  }\n",
              "\n",
              "  .colab-df-quickchart {\n",
              "    background-color: var(--bg-color);\n",
              "    border: none;\n",
              "    border-radius: 50%;\n",
              "    cursor: pointer;\n",
              "    display: none;\n",
              "    fill: var(--fill-color);\n",
              "    height: 32px;\n",
              "    padding: 0;\n",
              "    width: 32px;\n",
              "  }\n",
              "\n",
              "  .colab-df-quickchart:hover {\n",
              "    background-color: var(--hover-bg-color);\n",
              "    box-shadow: 0 1px 2px rgba(60, 64, 67, 0.3), 0 1px 3px 1px rgba(60, 64, 67, 0.15);\n",
              "    fill: var(--button-hover-fill-color);\n",
              "  }\n",
              "\n",
              "  .colab-df-quickchart-complete:disabled,\n",
              "  .colab-df-quickchart-complete:disabled:hover {\n",
              "    background-color: var(--disabled-bg-color);\n",
              "    fill: var(--disabled-fill-color);\n",
              "    box-shadow: none;\n",
              "  }\n",
              "\n",
              "  .colab-df-spinner {\n",
              "    border: 2px solid var(--fill-color);\n",
              "    border-color: transparent;\n",
              "    border-bottom-color: var(--fill-color);\n",
              "    animation:\n",
              "      spin 1s steps(1) infinite;\n",
              "  }\n",
              "\n",
              "  @keyframes spin {\n",
              "    0% {\n",
              "      border-color: transparent;\n",
              "      border-bottom-color: var(--fill-color);\n",
              "      border-left-color: var(--fill-color);\n",
              "    }\n",
              "    20% {\n",
              "      border-color: transparent;\n",
              "      border-left-color: var(--fill-color);\n",
              "      border-top-color: var(--fill-color);\n",
              "    }\n",
              "    30% {\n",
              "      border-color: transparent;\n",
              "      border-left-color: var(--fill-color);\n",
              "      border-top-color: var(--fill-color);\n",
              "      border-right-color: var(--fill-color);\n",
              "    }\n",
              "    40% {\n",
              "      border-color: transparent;\n",
              "      border-right-color: var(--fill-color);\n",
              "      border-top-color: var(--fill-color);\n",
              "    }\n",
              "    60% {\n",
              "      border-color: transparent;\n",
              "      border-right-color: var(--fill-color);\n",
              "    }\n",
              "    80% {\n",
              "      border-color: transparent;\n",
              "      border-right-color: var(--fill-color);\n",
              "      border-bottom-color: var(--fill-color);\n",
              "    }\n",
              "    90% {\n",
              "      border-color: transparent;\n",
              "      border-bottom-color: var(--fill-color);\n",
              "    }\n",
              "  }\n",
              "</style>\n",
              "\n",
              "  <script>\n",
              "    async function quickchart(key) {\n",
              "      const quickchartButtonEl =\n",
              "        document.querySelector('#' + key + ' button');\n",
              "      quickchartButtonEl.disabled = true;  // To prevent multiple clicks.\n",
              "      quickchartButtonEl.classList.add('colab-df-spinner');\n",
              "      try {\n",
              "        const charts = await google.colab.kernel.invokeFunction(\n",
              "            'suggestCharts', [key], {});\n",
              "      } catch (error) {\n",
              "        console.error('Error during call to suggestCharts:', error);\n",
              "      }\n",
              "      quickchartButtonEl.classList.remove('colab-df-spinner');\n",
              "      quickchartButtonEl.classList.add('colab-df-quickchart-complete');\n",
              "    }\n",
              "    (() => {\n",
              "      let quickchartButtonEl =\n",
              "        document.querySelector('#df-67cbdbeb-4c1c-4b1b-95df-1aba90c63707 button');\n",
              "      quickchartButtonEl.style.display =\n",
              "        google.colab.kernel.accessAllowed ? 'block' : 'none';\n",
              "    })();\n",
              "  </script>\n",
              "</div>\n",
              "\n",
              "    </div>\n",
              "  </div>\n"
            ],
            "text/plain": [
              "                        customer_id customer_unique_id          customer_city  \\\n",
              "0  06b8999e2fba1a1fbc88172c00ba8bc7             C48272                 franca   \n",
              "1  18955e83d337fd6b2def6b18a428ac77             C14788  sao bernardo do campo   \n",
              "2  4e7b3e00288586ebd08712fdd0374a03              C2174              sao paulo   \n",
              "3  b2b6027bc5c5109e529d4dc6358b12c3             C13604        mogi das cruzes   \n",
              "4  4f2d8ab171c80ec8364f7c12e35b23ad             C18911               campinas   \n",
              "\n",
              "  customer_state                          order_id order_status  \\\n",
              "0             SP  00e7ee1b050b8499577073aeb2a297a1    delivered   \n",
              "1             SP  29150127e6685892b6eab3eec79f59c7    delivered   \n",
              "2             SP  b2059ed67ce144a36e2aa97d2c9e9ad2    delivered   \n",
              "3             SP  951670f92359f4fe4a63112aa7306eba    delivered   \n",
              "4             SP  6b7d50bd145f6fc7f33cebabd7e49d0f    delivered   \n",
              "\n",
              "  order_purchase_timestamp    order_approved_at order_delivered_customer_date  \\\n",
              "0      2017-05-16 15:05:35  2017-05-16 15:22:12           2017-05-25 10:35:35   \n",
              "1      2018-01-12 20:48:24  2018-01-12 20:58:32           2018-01-29 12:41:19   \n",
              "2      2018-05-19 16:07:45  2018-05-20 16:19:10           2018-06-14 17:58:51   \n",
              "3      2018-03-13 16:06:38  2018-03-13 17:29:19           2018-03-28 16:04:25   \n",
              "4      2018-07-29 09:51:30  2018-07-29 10:10:09           2018-08-09 20:55:48   \n",
              "\n",
              "  order_estimated_delivery_date  ...  payment_type payment_installments  \\\n",
              "0                    2017-06-05  ...   credit_card                  2.0   \n",
              "1                    2018-02-06  ...   credit_card                  8.0   \n",
              "2                    2018-06-13  ...   credit_card                  7.0   \n",
              "3                    2018-04-10  ...   credit_card                  1.0   \n",
              "4                    2018-08-15  ...   credit_card                  8.0   \n",
              "\n",
              "  payment_value  product_category_name      seller_city  seller_state  \\\n",
              "0        146.87       office_furniture  itaquaquecetuba            SP   \n",
              "1        335.48             housewares           itajai            SC   \n",
              "2        157.73       office_furniture  itaquaquecetuba            SP   \n",
              "3        173.30       office_furniture  itaquaquecetuba            SP   \n",
              "4        252.25           home_confort         ibitinga            SP   \n",
              "\n",
              "  review_score                         review_comment_message  \\\n",
              "0          4.0                                            NaN   \n",
              "1          5.0                                            NaN   \n",
              "2          5.0                                            NaN   \n",
              "3          5.0                                            NaN   \n",
              "4          5.0  O baratheon è esxelente Amo adoro o baratheon   \n",
              "\n",
              "            review_creation_date review_answer_timestamp  \n",
              "0  2017-05-26 00:00:00.000000000     2017-05-30 22:34:40  \n",
              "1  2018-01-30 00:00:00.000000000     2018-02-10 22:43:29  \n",
              "2  2018-06-15 00:00:00.000000000     2018-06-15 12:10:59  \n",
              "3  2018-03-29 00:00:00.000000000     2018-04-02 18:36:47  \n",
              "4  2018-08-10 00:00:00.000000000     2018-08-17 01:59:52  \n",
              "\n",
              "[5 rows x 26 columns]"
            ]
          },
          "execution_count": 4,
          "metadata": {},
          "output_type": "execute_result"
        }
      ],
      "source": [
        "df_all = pd.read_csv('/content/df_olist_clean.csv')\n",
        "df_all.head()"
      ]
    },
    {
      "cell_type": "code",
      "execution_count": 5,
      "metadata": {
        "colab": {
          "base_uri": "https://localhost:8080/"
        },
        "id": "3pbRrwJj_z01",
        "outputId": "43e90b37-cfc0-428e-d68e-d80ee86bcc7c"
      },
      "outputs": [
        {
          "data": {
            "text/plain": [
              "(114085, 26)"
            ]
          },
          "execution_count": 5,
          "metadata": {},
          "output_type": "execute_result"
        }
      ],
      "source": [
        "df_all.shape"
      ]
    },
    {
      "cell_type": "markdown",
      "metadata": {
        "id": "QGEf9_HVdFRp"
      },
      "source": [
        "##### **5.1 Feature Engineering and Selection**"
      ]
    },
    {
      "cell_type": "markdown",
      "metadata": {
        "id": "mJkNExyVPl0c"
      },
      "source": [
        "##### **5.1.1 Feature Selection**"
      ]
    },
    {
      "cell_type": "code",
      "execution_count": 7,
      "metadata": {
        "id": "ZrsKaZkb0OZd"
      },
      "outputs": [],
      "source": [
        "df_collab = df_all.groupby(['customer_unique_id', 'product_id'])['review_score'].agg('mean').reset_index()\n",
        "df_collab = df_collab.rename(columns={'review_score': 'rating'})\n",
        "\n",
        "\n",
        "df_content = df_all[['product_id',\n",
        "                     'product_category_name']].drop_duplicates()\n"
      ]
    },
    {
      "cell_type": "code",
      "execution_count": 8,
      "metadata": {
        "colab": {
          "base_uri": "https://localhost:8080/"
        },
        "id": "t6xAuFHE8f3Y",
        "outputId": "1e9eeef5-9877-4362-dae4-25fd5d9a14b9"
      },
      "outputs": [
        {
          "name": "stdout",
          "output_type": "stream",
          "text": [
            "datetime64[ns]\n"
          ]
        }
      ],
      "source": [
        "df_all['order_purchase_timestamp'] = pd.to_datetime(df_all['order_purchase_timestamp'])\n",
        "print(df_all['order_purchase_timestamp'].dtype)\n"
      ]
    },
    {
      "cell_type": "markdown",
      "metadata": {
        "id": "Q0FkLpbXjKiv"
      },
      "source": [
        "    5.1.2 Dataset Preparation : Model Performance Evaluation\n",
        "\n",
        "In this section, we will separate the dataset to be used for building and testing models by dividing it between customers who have made their first purchase, which will later be used for a content-based filtering model and a hybrid recommendation system, and customers who have made their second purchase, which will be used for a collaborative filtering model."
      ]
    },
    {
      "cell_type": "code",
      "execution_count": 10,
      "metadata": {
        "colab": {
          "base_uri": "https://localhost:8080/"
        },
        "id": "qKO-BitdsDk1",
        "outputId": "fd40df3c-69be-4cff-c9d4-ed950886e8e0"
      },
      "outputs": [
        {
          "data": {
            "text/plain": [
              "(114085, 26)"
            ]
          },
          "execution_count": 10,
          "metadata": {},
          "output_type": "execute_result"
        }
      ],
      "source": [
        "df_all.shape"
      ]
    },
    {
      "cell_type": "code",
      "execution_count": 12,
      "metadata": {
        "id": "yaGkUcWW6LsW"
      },
      "outputs": [],
      "source": [
        "# Group by 'customer_unique_id' and filter for customers with exactly 2 unique 'order_id'\n",
        "df_two_transactions = df_all.groupby('customer_unique_id').filter(lambda x: x['order_id'].nunique() == 2)\n",
        "\n",
        "# Ensuring the data contains only customers with exactly 2 transactions\n",
        "df_two_transactions = df_two_transactions.groupby('customer_unique_id').filter(lambda x: len(x) == 2)\n"
      ]
    },
    {
      "cell_type": "markdown",
      "metadata": {
        "id": "sDA0qD76P-a4"
      },
      "source": [
        "    5.1.2.A Dataset for Repeat Transaction Evaluation"
      ]
    },
    {
      "cell_type": "code",
      "execution_count": 13,
      "metadata": {
        "colab": {
          "base_uri": "https://localhost:8080/"
        },
        "id": "CWyXK98MLY2M",
        "outputId": "9d5cc62c-2a91-46c4-8103-76078310d9a3"
      },
      "outputs": [
        {
          "data": {
            "text/plain": [
              "(113985, 27)"
            ]
          },
          "execution_count": 13,
          "metadata": {},
          "output_type": "execute_result"
        }
      ],
      "source": [
        "import numpy as np\n",
        "\n",
        "# Set the random seed\n",
        "np.random.seed(42)\n",
        "\n",
        "# Ensure the data contains only customers with exactly 2 transactions\n",
        "df_two_transactions = df_two_transactions.groupby('customer_unique_id').filter(lambda x: len(x) == 2)\n",
        "\n",
        "# Get the last transaction of each unique customer (ordered by 'customer_unique_id' and 'order_id')\n",
        "df_last_transaction = df_two_transactions.sort_values(['customer_unique_id', 'order_id']).groupby('customer_unique_id').tail(1).reset_index(drop=True)\n",
        "\n",
        "# Select the first 100 unique customers' last transactions\n",
        "df_check = df_last_transaction.head(100).reset_index(drop=True)\n",
        "df_check = df_check.sort_values(['customer_unique_id', 'order_id'])\n",
        "\n",
        "\n",
        "# Exclude the identified last transactions from df_all and update df_all\n",
        "df_all = df_all.merge(df_check[['customer_unique_id', 'order_id']], on=['customer_unique_id', 'order_id'], how='left', indicator=True)\n",
        "# df_all = df_all.merge(df_check[['customer_unique_id', 'order_id']], on=['customer_unique_id', 'order_id'], how='left', indicator=True)\n",
        "df_all = df_all[df_all['_merge'] == 'left_only'].drop('_merge', axis=1)\n",
        "\n",
        "# Print the resulting df_all\n",
        "df_all.shape\n"
      ]
    },
    {
      "cell_type": "markdown",
      "metadata": {
        "id": "MPqLi5yYQMPL"
      },
      "source": [
        "    5.1.2.B Dataset for Cross Categorical Repeat Transaction Evaluation"
      ]
    },
    {
      "cell_type": "code",
      "execution_count": 15,
      "metadata": {
        "colab": {
          "base_uri": "https://localhost:8080/"
        },
        "id": "NgBfko__Nag3",
        "outputId": "e46d4506-1ec5-4ede-9b16-de6374c59669"
      },
      "outputs": [
        {
          "name": "stdout",
          "output_type": "stream",
          "text": [
            "(113951, 27)\n"
          ]
        }
      ],
      "source": [
        "import pandas as pd\n",
        "\n",
        "# Step 1: Ensure the data is sorted by 'customer_unique_id' and 'order_id' to distinguish 1st and 2nd transactions\n",
        "df_two_transactions_sorted = df_two_transactions.sort_values(by=['customer_unique_id', 'order_id'])\n",
        "\n",
        "# Step 2: Identify customers whose 1st and 2nd transactions have different product categories\n",
        "df_different_categories = df_two_transactions_sorted.groupby('customer_unique_id').filter(\n",
        "    lambda x: x.iloc[0]['product_category_name'] != x.iloc[1]['product_category_name']\n",
        ")\n",
        "\n",
        "# Step 3: Get the last transaction for each customer in df_different_categories\n",
        "df_last_different_category_transaction = df_different_categories.groupby('customer_unique_id').tail(1).reset_index(drop=True)\n",
        "\n",
        "# Step 4: Select the first 100 unique customers' last transactions where 1st and 2nd transactions have different categories\n",
        "df_check_2 = df_last_different_category_transaction.head(100).reset_index(drop=True)\n",
        "# Step 1: Exclude the identified last transactions in df_check_2 from df_all\n",
        "df_all = df_all.merge(df_check_2[['customer_unique_id', 'order_id']], on=['customer_unique_id', 'order_id'], how='left', indicator=True)\n",
        "\n",
        "# Step 2: Keep only the rows that are not in df_check_2\n",
        "df_all = df_all[df_all['_merge'] == 'left_only'].drop('_merge', axis=1)\n",
        "\n",
        "# Print the resulting df_all to verify\n",
        "print(df_all.shape)\n",
        "\n"
      ]
    },
    {
      "cell_type": "markdown",
      "metadata": {
        "id": "bOQuojqN0QSr"
      },
      "source": [
        "##### **5.2. Modelling Recommendation Systems**\n",
        "\n"
      ]
    },
    {
      "cell_type": "code",
      "execution_count": 18,
      "metadata": {
        "colab": {
          "base_uri": "https://localhost:8080/"
        },
        "id": "dRpsZDEKYbKE",
        "outputId": "92c70f52-5737-4235-93e1-63390670c725"
      },
      "outputs": [
        {
          "data": {
            "text/plain": [
              "Index(['customer_id', 'customer_unique_id', 'customer_city', 'customer_state',\n",
              "       'order_id', 'order_status', 'order_purchase_timestamp',\n",
              "       'order_approved_at', 'order_delivered_customer_date',\n",
              "       'order_estimated_delivery_date', 'order_item_id', 'product_id',\n",
              "       'seller_id', 'price', 'freight_value', 'payment_sequential',\n",
              "       'payment_type', 'payment_installments', 'payment_value',\n",
              "       'product_category_name', 'seller_city', 'seller_state', 'review_score',\n",
              "       'review_comment_message', 'review_creation_date',\n",
              "       'review_answer_timestamp', 'seller_avg_review_score'],\n",
              "      dtype='object')"
            ]
          },
          "execution_count": 18,
          "metadata": {},
          "output_type": "execute_result"
        }
      ],
      "source": [
        "df_all.columns"
      ]
    },
    {
      "cell_type": "markdown",
      "metadata": {
        "id": "yTyNH1SSuhpQ"
      },
      "source": [
        "    5.2.1 Collaborative Filtering"
      ]
    },
    {
      "cell_type": "code",
      "execution_count": 19,
      "metadata": {
        "colab": {
          "base_uri": "https://localhost:8080/"
        },
        "id": "gcUKt4IsvYty",
        "outputId": "c4c4475f-83ca-4333-b975-ca193ee4f1f4"
      },
      "outputs": [
        {
          "data": {
            "text/plain": [
              "(35597, 28)"
            ]
          },
          "execution_count": 19,
          "metadata": {},
          "output_type": "execute_result"
        }
      ],
      "source": [
        "#Identify customers with more than one occurrence (Repeat Customer)\n",
        "repeat = df_all.groupby('customer_unique_id').filter(lambda x: len(x) > 1)\n",
        "repeat['repeat'] = 1\n",
        "repeat.shape"
      ]
    },
    {
      "cell_type": "code",
      "execution_count": 20,
      "metadata": {
        "colab": {
          "base_uri": "https://localhost:8080/"
        },
        "id": "fY6HjmcGvYko",
        "outputId": "c9e5d244-02b2-4866-d0b0-1d018f4f53c8"
      },
      "outputs": [
        {
          "data": {
            "text/plain": [
              "(78354, 28)"
            ]
          },
          "execution_count": 20,
          "metadata": {},
          "output_type": "execute_result"
        }
      ],
      "source": [
        "#Identify customers with one occurrence (First Time Customer)\n",
        "new = df_all.groupby('customer_unique_id').filter(lambda x: len(x) == 1).reset_index(drop=True)\n",
        "new['repeat'] = 0\n",
        "new.shape"
      ]
    },
    {
      "cell_type": "code",
      "execution_count": 21,
      "metadata": {
        "id": "PgmRAvhtv-UH"
      },
      "outputs": [],
      "source": [
        "df_full = pd.concat((repeat, new), axis=0).reset_index(drop=True)"
      ]
    },
    {
      "cell_type": "code",
      "execution_count": 22,
      "metadata": {
        "id": "THl3CINocxi9"
      },
      "outputs": [],
      "source": [
        "df_collaborative = repeat.groupby(['customer_unique_id','product_id'])['review_score'].agg(['mean']).reset_index()\n",
        "df_collaborative = df_collaborative.rename({'mean':'estimator', 'product_id':'productId'}, axis=1)"
      ]
    },
    {
      "cell_type": "code",
      "execution_count": 23,
      "metadata": {
        "colab": {
          "base_uri": "https://localhost:8080/",
          "height": 424
        },
        "id": "VWsuUxdhwNDz",
        "outputId": "e2b1881e-ef2e-48eb-c52f-dcc96ec9924c"
      },
      "outputs": [
        {
          "data": {
            "application/vnd.google.colaboratory.intrinsic+json": {
              "summary": "{\n  \"name\": \"df_collaborative\",\n  \"rows\": 19908,\n  \"fields\": [\n    {\n      \"column\": \"customer_unique_id\",\n      \"properties\": {\n        \"dtype\": \"string\",\n        \"num_unique_values\": 13744,\n        \"samples\": [\n          \"C49926\",\n          \"C32343\",\n          \"C13335\"\n        ],\n        \"semantic_type\": \"\",\n        \"description\": \"\"\n      }\n    },\n    {\n      \"column\": \"productId\",\n      \"properties\": {\n        \"dtype\": \"string\",\n        \"num_unique_values\": 11324,\n        \"samples\": [\n          \"P17576\",\n          \"P9026\",\n          \"P13343\"\n        ],\n        \"semantic_type\": \"\",\n        \"description\": \"\"\n      }\n    },\n    {\n      \"column\": \"estimator\",\n      \"properties\": {\n        \"dtype\": \"number\",\n        \"std\": 1.523986802548169,\n        \"min\": 1.0,\n        \"max\": 5.0,\n        \"num_unique_values\": 26,\n        \"samples\": [\n          3.75,\n          3.0,\n          5.0\n        ],\n        \"semantic_type\": \"\",\n        \"description\": \"\"\n      }\n    }\n  ]\n}",
              "type": "dataframe"
            },
            "text/html": [
              "\n",
              "  <div id=\"df-3723eaa7-019d-483b-ab01-efa38758f047\" class=\"colab-df-container\">\n",
              "    <div>\n",
              "<style scoped>\n",
              "    .dataframe tbody tr th:only-of-type {\n",
              "        vertical-align: middle;\n",
              "    }\n",
              "\n",
              "    .dataframe tbody tr th {\n",
              "        vertical-align: top;\n",
              "    }\n",
              "\n",
              "    .dataframe thead th {\n",
              "        text-align: right;\n",
              "    }\n",
              "</style>\n",
              "<table border=\"1\" class=\"dataframe\">\n",
              "  <thead>\n",
              "    <tr style=\"text-align: right;\">\n",
              "      <th></th>\n",
              "      <th>customer_unique_id</th>\n",
              "      <th>productId</th>\n",
              "      <th>estimator</th>\n",
              "    </tr>\n",
              "  </thead>\n",
              "  <tbody>\n",
              "    <tr>\n",
              "      <th>5830</th>\n",
              "      <td>C358</td>\n",
              "      <td>P17041</td>\n",
              "      <td>5.0</td>\n",
              "    </tr>\n",
              "    <tr>\n",
              "      <th>14574</th>\n",
              "      <td>C71291</td>\n",
              "      <td>P9418</td>\n",
              "      <td>5.0</td>\n",
              "    </tr>\n",
              "    <tr>\n",
              "      <th>14577</th>\n",
              "      <td>C71306</td>\n",
              "      <td>P28749</td>\n",
              "      <td>5.0</td>\n",
              "    </tr>\n",
              "    <tr>\n",
              "      <th>14576</th>\n",
              "      <td>C71305</td>\n",
              "      <td>P25790</td>\n",
              "      <td>5.0</td>\n",
              "    </tr>\n",
              "    <tr>\n",
              "      <th>14575</th>\n",
              "      <td>C71295</td>\n",
              "      <td>P20518</td>\n",
              "      <td>5.0</td>\n",
              "    </tr>\n",
              "    <tr>\n",
              "      <th>...</th>\n",
              "      <td>...</td>\n",
              "      <td>...</td>\n",
              "      <td>...</td>\n",
              "    </tr>\n",
              "    <tr>\n",
              "      <th>15501</th>\n",
              "      <td>C75235</td>\n",
              "      <td>P5803</td>\n",
              "      <td>1.0</td>\n",
              "    </tr>\n",
              "    <tr>\n",
              "      <th>6145</th>\n",
              "      <td>C37102</td>\n",
              "      <td>P26294</td>\n",
              "      <td>1.0</td>\n",
              "    </tr>\n",
              "    <tr>\n",
              "      <th>15490</th>\n",
              "      <td>C75172</td>\n",
              "      <td>P30295</td>\n",
              "      <td>1.0</td>\n",
              "    </tr>\n",
              "    <tr>\n",
              "      <th>15489</th>\n",
              "      <td>C75172</td>\n",
              "      <td>P19509</td>\n",
              "      <td>1.0</td>\n",
              "    </tr>\n",
              "    <tr>\n",
              "      <th>19907</th>\n",
              "      <td>C9996</td>\n",
              "      <td>P23946</td>\n",
              "      <td>1.0</td>\n",
              "    </tr>\n",
              "  </tbody>\n",
              "</table>\n",
              "<p>19908 rows × 3 columns</p>\n",
              "</div>\n",
              "    <div class=\"colab-df-buttons\">\n",
              "\n",
              "  <div class=\"colab-df-container\">\n",
              "    <button class=\"colab-df-convert\" onclick=\"convertToInteractive('df-3723eaa7-019d-483b-ab01-efa38758f047')\"\n",
              "            title=\"Convert this dataframe to an interactive table.\"\n",
              "            style=\"display:none;\">\n",
              "\n",
              "  <svg xmlns=\"http://www.w3.org/2000/svg\" height=\"24px\" viewBox=\"0 -960 960 960\">\n",
              "    <path d=\"M120-120v-720h720v720H120Zm60-500h600v-160H180v160Zm220 220h160v-160H400v160Zm0 220h160v-160H400v160ZM180-400h160v-160H180v160Zm440 0h160v-160H620v160ZM180-180h160v-160H180v160Zm440 0h160v-160H620v160Z\"/>\n",
              "  </svg>\n",
              "    </button>\n",
              "\n",
              "  <style>\n",
              "    .colab-df-container {\n",
              "      display:flex;\n",
              "      gap: 12px;\n",
              "    }\n",
              "\n",
              "    .colab-df-convert {\n",
              "      background-color: #E8F0FE;\n",
              "      border: none;\n",
              "      border-radius: 50%;\n",
              "      cursor: pointer;\n",
              "      display: none;\n",
              "      fill: #1967D2;\n",
              "      height: 32px;\n",
              "      padding: 0 0 0 0;\n",
              "      width: 32px;\n",
              "    }\n",
              "\n",
              "    .colab-df-convert:hover {\n",
              "      background-color: #E2EBFA;\n",
              "      box-shadow: 0px 1px 2px rgba(60, 64, 67, 0.3), 0px 1px 3px 1px rgba(60, 64, 67, 0.15);\n",
              "      fill: #174EA6;\n",
              "    }\n",
              "\n",
              "    .colab-df-buttons div {\n",
              "      margin-bottom: 4px;\n",
              "    }\n",
              "\n",
              "    [theme=dark] .colab-df-convert {\n",
              "      background-color: #3B4455;\n",
              "      fill: #D2E3FC;\n",
              "    }\n",
              "\n",
              "    [theme=dark] .colab-df-convert:hover {\n",
              "      background-color: #434B5C;\n",
              "      box-shadow: 0px 1px 3px 1px rgba(0, 0, 0, 0.15);\n",
              "      filter: drop-shadow(0px 1px 2px rgba(0, 0, 0, 0.3));\n",
              "      fill: #FFFFFF;\n",
              "    }\n",
              "  </style>\n",
              "\n",
              "    <script>\n",
              "      const buttonEl =\n",
              "        document.querySelector('#df-3723eaa7-019d-483b-ab01-efa38758f047 button.colab-df-convert');\n",
              "      buttonEl.style.display =\n",
              "        google.colab.kernel.accessAllowed ? 'block' : 'none';\n",
              "\n",
              "      async function convertToInteractive(key) {\n",
              "        const element = document.querySelector('#df-3723eaa7-019d-483b-ab01-efa38758f047');\n",
              "        const dataTable =\n",
              "          await google.colab.kernel.invokeFunction('convertToInteractive',\n",
              "                                                    [key], {});\n",
              "        if (!dataTable) return;\n",
              "\n",
              "        const docLinkHtml = 'Like what you see? Visit the ' +\n",
              "          '<a target=\"_blank\" href=https://colab.research.google.com/notebooks/data_table.ipynb>data table notebook</a>'\n",
              "          + ' to learn more about interactive tables.';\n",
              "        element.innerHTML = '';\n",
              "        dataTable['output_type'] = 'display_data';\n",
              "        await google.colab.output.renderOutput(dataTable, element);\n",
              "        const docLink = document.createElement('div');\n",
              "        docLink.innerHTML = docLinkHtml;\n",
              "        element.appendChild(docLink);\n",
              "      }\n",
              "    </script>\n",
              "  </div>\n",
              "\n",
              "\n",
              "<div id=\"df-fc62d9b1-7142-4d03-84b4-8498c3998e2e\">\n",
              "  <button class=\"colab-df-quickchart\" onclick=\"quickchart('df-fc62d9b1-7142-4d03-84b4-8498c3998e2e')\"\n",
              "            title=\"Suggest charts\"\n",
              "            style=\"display:none;\">\n",
              "\n",
              "<svg xmlns=\"http://www.w3.org/2000/svg\" height=\"24px\"viewBox=\"0 0 24 24\"\n",
              "     width=\"24px\">\n",
              "    <g>\n",
              "        <path d=\"M19 3H5c-1.1 0-2 .9-2 2v14c0 1.1.9 2 2 2h14c1.1 0 2-.9 2-2V5c0-1.1-.9-2-2-2zM9 17H7v-7h2v7zm4 0h-2V7h2v10zm4 0h-2v-4h2v4z\"/>\n",
              "    </g>\n",
              "</svg>\n",
              "  </button>\n",
              "\n",
              "<style>\n",
              "  .colab-df-quickchart {\n",
              "      --bg-color: #E8F0FE;\n",
              "      --fill-color: #1967D2;\n",
              "      --hover-bg-color: #E2EBFA;\n",
              "      --hover-fill-color: #174EA6;\n",
              "      --disabled-fill-color: #AAA;\n",
              "      --disabled-bg-color: #DDD;\n",
              "  }\n",
              "\n",
              "  [theme=dark] .colab-df-quickchart {\n",
              "      --bg-color: #3B4455;\n",
              "      --fill-color: #D2E3FC;\n",
              "      --hover-bg-color: #434B5C;\n",
              "      --hover-fill-color: #FFFFFF;\n",
              "      --disabled-bg-color: #3B4455;\n",
              "      --disabled-fill-color: #666;\n",
              "  }\n",
              "\n",
              "  .colab-df-quickchart {\n",
              "    background-color: var(--bg-color);\n",
              "    border: none;\n",
              "    border-radius: 50%;\n",
              "    cursor: pointer;\n",
              "    display: none;\n",
              "    fill: var(--fill-color);\n",
              "    height: 32px;\n",
              "    padding: 0;\n",
              "    width: 32px;\n",
              "  }\n",
              "\n",
              "  .colab-df-quickchart:hover {\n",
              "    background-color: var(--hover-bg-color);\n",
              "    box-shadow: 0 1px 2px rgba(60, 64, 67, 0.3), 0 1px 3px 1px rgba(60, 64, 67, 0.15);\n",
              "    fill: var(--button-hover-fill-color);\n",
              "  }\n",
              "\n",
              "  .colab-df-quickchart-complete:disabled,\n",
              "  .colab-df-quickchart-complete:disabled:hover {\n",
              "    background-color: var(--disabled-bg-color);\n",
              "    fill: var(--disabled-fill-color);\n",
              "    box-shadow: none;\n",
              "  }\n",
              "\n",
              "  .colab-df-spinner {\n",
              "    border: 2px solid var(--fill-color);\n",
              "    border-color: transparent;\n",
              "    border-bottom-color: var(--fill-color);\n",
              "    animation:\n",
              "      spin 1s steps(1) infinite;\n",
              "  }\n",
              "\n",
              "  @keyframes spin {\n",
              "    0% {\n",
              "      border-color: transparent;\n",
              "      border-bottom-color: var(--fill-color);\n",
              "      border-left-color: var(--fill-color);\n",
              "    }\n",
              "    20% {\n",
              "      border-color: transparent;\n",
              "      border-left-color: var(--fill-color);\n",
              "      border-top-color: var(--fill-color);\n",
              "    }\n",
              "    30% {\n",
              "      border-color: transparent;\n",
              "      border-left-color: var(--fill-color);\n",
              "      border-top-color: var(--fill-color);\n",
              "      border-right-color: var(--fill-color);\n",
              "    }\n",
              "    40% {\n",
              "      border-color: transparent;\n",
              "      border-right-color: var(--fill-color);\n",
              "      border-top-color: var(--fill-color);\n",
              "    }\n",
              "    60% {\n",
              "      border-color: transparent;\n",
              "      border-right-color: var(--fill-color);\n",
              "    }\n",
              "    80% {\n",
              "      border-color: transparent;\n",
              "      border-right-color: var(--fill-color);\n",
              "      border-bottom-color: var(--fill-color);\n",
              "    }\n",
              "    90% {\n",
              "      border-color: transparent;\n",
              "      border-bottom-color: var(--fill-color);\n",
              "    }\n",
              "  }\n",
              "</style>\n",
              "\n",
              "  <script>\n",
              "    async function quickchart(key) {\n",
              "      const quickchartButtonEl =\n",
              "        document.querySelector('#' + key + ' button');\n",
              "      quickchartButtonEl.disabled = true;  // To prevent multiple clicks.\n",
              "      quickchartButtonEl.classList.add('colab-df-spinner');\n",
              "      try {\n",
              "        const charts = await google.colab.kernel.invokeFunction(\n",
              "            'suggestCharts', [key], {});\n",
              "      } catch (error) {\n",
              "        console.error('Error during call to suggestCharts:', error);\n",
              "      }\n",
              "      quickchartButtonEl.classList.remove('colab-df-spinner');\n",
              "      quickchartButtonEl.classList.add('colab-df-quickchart-complete');\n",
              "    }\n",
              "    (() => {\n",
              "      let quickchartButtonEl =\n",
              "        document.querySelector('#df-fc62d9b1-7142-4d03-84b4-8498c3998e2e button');\n",
              "      quickchartButtonEl.style.display =\n",
              "        google.colab.kernel.accessAllowed ? 'block' : 'none';\n",
              "    })();\n",
              "  </script>\n",
              "</div>\n",
              "\n",
              "    </div>\n",
              "  </div>\n"
            ],
            "text/plain": [
              "      customer_unique_id productId  estimator\n",
              "5830                C358    P17041        5.0\n",
              "14574             C71291     P9418        5.0\n",
              "14577             C71306    P28749        5.0\n",
              "14576             C71305    P25790        5.0\n",
              "14575             C71295    P20518        5.0\n",
              "...                  ...       ...        ...\n",
              "15501             C75235     P5803        1.0\n",
              "6145              C37102    P26294        1.0\n",
              "15490             C75172    P30295        1.0\n",
              "15489             C75172    P19509        1.0\n",
              "19907              C9996    P23946        1.0\n",
              "\n",
              "[19908 rows x 3 columns]"
            ]
          },
          "execution_count": 23,
          "metadata": {},
          "output_type": "execute_result"
        }
      ],
      "source": [
        "df_collaborative.sort_values(by='estimator', ascending=False)"
      ]
    },
    {
      "cell_type": "code",
      "execution_count": 24,
      "metadata": {
        "colab": {
          "base_uri": "https://localhost:8080/",
          "height": 178
        },
        "id": "xdNQM6d1Ek_P",
        "outputId": "88ddcf69-365f-4455-8465-16798e2a5a1f"
      },
      "outputs": [
        {
          "data": {
            "text/html": [
              "<div>\n",
              "<style scoped>\n",
              "    .dataframe tbody tr th:only-of-type {\n",
              "        vertical-align: middle;\n",
              "    }\n",
              "\n",
              "    .dataframe tbody tr th {\n",
              "        vertical-align: top;\n",
              "    }\n",
              "\n",
              "    .dataframe thead th {\n",
              "        text-align: right;\n",
              "    }\n",
              "</style>\n",
              "<table border=\"1\" class=\"dataframe\">\n",
              "  <thead>\n",
              "    <tr style=\"text-align: right;\">\n",
              "      <th></th>\n",
              "      <th>0</th>\n",
              "    </tr>\n",
              "  </thead>\n",
              "  <tbody>\n",
              "    <tr>\n",
              "      <th>customer_unique_id</th>\n",
              "      <td>0</td>\n",
              "    </tr>\n",
              "    <tr>\n",
              "      <th>productId</th>\n",
              "      <td>0</td>\n",
              "    </tr>\n",
              "    <tr>\n",
              "      <th>estimator</th>\n",
              "      <td>0</td>\n",
              "    </tr>\n",
              "  </tbody>\n",
              "</table>\n",
              "</div><br><label><b>dtype:</b> int64</label>"
            ],
            "text/plain": [
              "customer_unique_id    0\n",
              "productId             0\n",
              "estimator             0\n",
              "dtype: int64"
            ]
          },
          "execution_count": 24,
          "metadata": {},
          "output_type": "execute_result"
        }
      ],
      "source": [
        "null =df_collaborative.isnull().sum()\n",
        "null"
      ]
    },
    {
      "cell_type": "code",
      "execution_count": 25,
      "metadata": {
        "id": "uRXNOsIzE5Xg"
      },
      "outputs": [],
      "source": [
        "df_collaborative = df_collaborative.dropna(subset=['estimator'])"
      ]
    },
    {
      "cell_type": "code",
      "execution_count": 26,
      "metadata": {
        "id": "EXsAPPamwTdo"
      },
      "outputs": [],
      "source": [
        "# Scaling for Feature of Raw Rating\n",
        "scaler = (df_collaborative.estimator.min(), df_collaborative.estimator.max())\n",
        "reader = Reader(rating_scale=scaler)"
      ]
    },
    {
      "cell_type": "code",
      "execution_count": 27,
      "metadata": {
        "id": "VhSgR3NEwzVe"
      },
      "outputs": [],
      "source": [
        "#Load the dataframe\n",
        "data = Dataset.load_from_df(df_collaborative[['customer_unique_id','productId', 'estimator']], reader)"
      ]
    },
    {
      "cell_type": "code",
      "execution_count": 28,
      "metadata": {
        "id": "n-ADojhvw74o"
      },
      "outputs": [],
      "source": [
        "import random\n",
        "\n",
        "random.seed(42)\n",
        "\n",
        "#shuffle the user, item, rating for unbiased result\n",
        "all_collab = data.raw_ratings\n",
        "random.shuffle(all_collab)"
      ]
    },
    {
      "cell_type": "code",
      "execution_count": 29,
      "metadata": {
        "id": "JQuczS_---sY"
      },
      "outputs": [],
      "source": [
        "#split data with ratio 80:20 into train (set A) and test data (set B)\n",
        "threshold = int(0.8 * len(all_collab))\n",
        "train_raw_collab = all_collab[:threshold]\n",
        "test_raw_collab = all_collab[threshold:]"
      ]
    },
    {
      "cell_type": "code",
      "execution_count": 30,
      "metadata": {
        "colab": {
          "base_uri": "https://localhost:8080/"
        },
        "id": "oUmBw1fb_J0n",
        "outputId": "0ecf23e2-fdc7-41ff-8c99-cfe6cd0b46a7"
      },
      "outputs": [
        {
          "name": "stdout",
          "output_type": "stream",
          "text": [
            "Shape of all_collab: 19908\n",
            "Shape of train_raw_ratings: 15926\n",
            "Shape of test_raw_ratings: 3982\n"
          ]
        }
      ],
      "source": [
        "listed = [all_collab, train_raw_collab, test_raw_collab]\n",
        "names = ['all_collab', 'train_raw_ratings', 'test_raw_ratings']\n",
        "\n",
        "for i, lis in enumerate(listed):\n",
        "    count = len(lis)\n",
        "    print(f\"Shape of {names[i]}: {count}\")"
      ]
    },
    {
      "cell_type": "code",
      "execution_count": 31,
      "metadata": {
        "id": "BP_wxjgq_S-d"
      },
      "outputs": [],
      "source": [
        "#insert train_raw_collab into data\n",
        "data.raw_ratings = train_raw_collab"
      ]
    },
    {
      "cell_type": "code",
      "execution_count": 32,
      "metadata": {
        "id": "DluSmZRcDBfo"
      },
      "outputs": [],
      "source": [
        "from surprise import accuracy, Reader, Dataset\n",
        "from surprise import NormalPredictor, KNNBasic, SVD, SVDpp, CoClustering, SlopeOne, NMF, KNNBaseline\n",
        "from surprise.model_selection import cross_validate, KFold, GridSearchCV, train_test_split"
      ]
    },
    {
      "cell_type": "markdown",
      "metadata": {
        "id": "R_GzE6yYQjqV"
      },
      "source": [
        "    5.2.1 Training and Testing Model for Collaborative Filtering "
      ]
    },
    {
      "cell_type": "code",
      "execution_count": 33,
      "metadata": {
        "id": "jrdcKahKCzBe"
      },
      "outputs": [],
      "source": [
        "# Define the NormalPredictor model\n",
        "normpr = NormalPredictor()\n",
        "\n",
        "# Cross-validation\n",
        "np_result = cross_validate(normpr, data, measures=['RMSE'], cv=5, verbose=False, n_jobs=2)\n",
        "\n",
        "# Training the model\n",
        "trainset = data.build_full_trainset()\n",
        "normpr.fit(trainset)\n",
        "\n",
        "# Calculate RMSE\n",
        "np_pred_train = normpr.test(trainset.build_testset())\n",
        "np_rmse_train = accuracy.rmse(np_pred_train, verbose=False)\n",
        "\n",
        "# Load and calculate RMSE on the testset\n",
        "testset = data.construct_testset(test_raw_collab)\n",
        "np_pred_test = normpr.test(testset)\n",
        "np_rmse_test = accuracy.rmse(np_pred_test, verbose=False)"
      ]
    },
    {
      "cell_type": "code",
      "execution_count": 34,
      "metadata": {
        "id": "X66fQXu6Vpk_"
      },
      "outputs": [],
      "source": [
        "# Define the SVD model\n",
        "svd = SVD(n_factors=30, n_epochs=25, biased=True, lr_all=0.00004, reg_all=0.4, verbose=False, random_state=47)\n",
        "\n",
        "# Cross-validation\n",
        "svd_result = cross_validate(svd, data, measures=['RMSE'], cv=5, verbose=False, n_jobs=2)\n",
        "\n",
        "# Training the model\n",
        "trainset = data.build_full_trainset()\n",
        "svd.fit(trainset)\n",
        "\n",
        "# Calculate RMSE\n",
        "svd_pred_train = svd.test(trainset.build_testset())\n",
        "svd_rmse_train = accuracy.rmse(svd_pred_train, verbose=False)\n",
        "\n",
        "# Load and calculate RMSE on the testset\n",
        "testset = data.construct_testset(test_raw_collab)\n",
        "svd_pred_test = svd.test(testset)\n",
        "svd_rmse_test = accuracy.rmse(svd_pred_test, verbose=False)"
      ]
    },
    {
      "cell_type": "code",
      "execution_count": 35,
      "metadata": {
        "id": "J1K4bv7_FRNH"
      },
      "outputs": [],
      "source": [
        "# Define the SVDpp model\n",
        "svdpp = SVDpp(n_factors=50, n_epochs=20, lr_all=0.00008, reg_all=0.4, verbose=False, random_state=47)\n",
        "\n",
        "# Cross-validation\n",
        "svdpp_result = cross_validate(svdpp, data, measures=['RMSE'], cv=5, verbose=False, n_jobs=2)\n",
        "\n",
        "# Training the model\n",
        "trainset = data.build_full_trainset()\n",
        "svdpp.fit(trainset)\n",
        "\n",
        "# Calculate RMSE\n",
        "svdpp_pred_train = svdpp.test(trainset.build_testset())\n",
        "svdpp_rmse_train = accuracy.rmse(svdpp_pred_train, verbose=False)\n",
        "\n",
        "# Load and calculate RMSE on the testset\n",
        "testset = data.construct_testset(test_raw_collab)\n",
        "svdpp_pred_test = svdpp.test(testset)\n",
        "svdpp_rmse_test = accuracy.rmse(svdpp_pred_test, verbose=False)\n"
      ]
    },
    {
      "cell_type": "code",
      "execution_count": 36,
      "metadata": {
        "id": "kNJVhpgCEcDg"
      },
      "outputs": [],
      "source": [
        "# Define the NMF model\n",
        "nmf = NMF(n_factors=20, n_epochs=30, lr_bu=0.0000001, lr_bi=0.0000001, reg_pu=5, reg_qi=5, biased=True, random_state=47)\n",
        "\n",
        "# Cross-validation\n",
        "nmf_result = cross_validate(nmf, data, measures=['RMSE'], cv=5, verbose=False, n_jobs=2)\n",
        "\n",
        "# Training the model\n",
        "trainset = data.build_full_trainset()\n",
        "nmf.fit(trainset)\n",
        "\n",
        "# Calculate RMSE\n",
        "nmf_pred_train = nmf.test(trainset.build_testset())\n",
        "nmf_rmse_train = accuracy.rmse(nmf_pred_train, verbose=False)\n",
        "\n",
        "# Load and calculate RMSE on the testset\n",
        "testset = data.construct_testset(test_raw_collab)\n",
        "nmf_pred_test = nmf.test(testset)\n",
        "nmf_rmse_test = accuracy.rmse(nmf_pred_test, verbose=False)\n"
      ]
    },
    {
      "cell_type": "code",
      "execution_count": 37,
      "metadata": {
        "id": "cnGF87vxFvjJ"
      },
      "outputs": [],
      "source": [
        "\n",
        "# Define the KNNBasic model\n",
        "knnb = KNNBasic(sim_options={'name': 'cosine', 'user_based': False}, verbose=False, random_state=47)\n",
        "\n",
        "# Cross-validation\n",
        "knnb_result = cross_validate(knnb, data, measures=['RMSE'], cv=5, verbose=False, n_jobs=2)\n",
        "\n",
        "# Training the model\n",
        "trainset = data.build_full_trainset()\n",
        "knnb.fit(trainset)\n",
        "\n",
        "# Calculate RMSE\n",
        "knnb_pred_train = knnb.test(trainset.build_testset())\n",
        "knnb_rmse_train = accuracy.rmse(knnb_pred_train, verbose=False)\n",
        "\n",
        "# Load and calculate RMSE on the testset\n",
        "testset = data.construct_testset(test_raw_collab)\n",
        "knnb_pred_test = knnb.test(testset)\n",
        "knnb_rmse_test = accuracy.rmse(knnb_pred_test, verbose=False)\n"
      ]
    },
    {
      "cell_type": "code",
      "execution_count": 38,
      "metadata": {
        "id": "LhXaIT6jQL9a"
      },
      "outputs": [],
      "source": [
        "# Define the CoClustering model\n",
        "coc = CoClustering(n_cltr_u=8, n_cltr_i=8, n_epochs=30, random_state=47)\n",
        "\n",
        "# Cross-validation\n",
        "coc_result = cross_validate(coc, data, measures=['RMSE'], cv=5, verbose=False, n_jobs=2)\n",
        "\n",
        "# Training the model\n",
        "trainset = data.build_full_trainset()\n",
        "coc.fit(trainset)\n",
        "\n",
        "# Calculate RMSE\n",
        "coc_pred_train = coc.test(trainset.build_testset())\n",
        "coc_rmse_train = accuracy.rmse(coc_pred_train, verbose=False)\n",
        "\n",
        "# Load and calculate RMSE on the testset\n",
        "testset = data.construct_testset(test_raw_collab)\n",
        "coc_pred_test = coc.test(testset)\n",
        "coc_rmse_test = accuracy.rmse(coc_pred_test, verbose=False)\n"
      ]
    },
    {
      "cell_type": "code",
      "execution_count": 39,
      "metadata": {
        "id": "-LcsQBAyQW9j"
      },
      "outputs": [],
      "source": [
        "# Define the SlopeOne model\n",
        "so = SlopeOne()\n",
        "\n",
        "# Cross-validation\n",
        "so_result = cross_validate(so, data, measures=['RMSE'], cv=5, verbose=False, n_jobs=2)\n",
        "\n",
        "# Training the model\n",
        "trainset = data.build_full_trainset()\n",
        "so.fit(trainset)\n",
        "\n",
        "# Calculate RMSE\n",
        "so_pred_train = so.test(trainset.build_testset())\n",
        "so_rmse_train = accuracy.rmse(so_pred_train, verbose=False)\n",
        "\n",
        "# Load and calculate RMSE on the testset\n",
        "testset = data.construct_testset(test_raw_collab)\n",
        "so_pred_test = so.test(testset)\n",
        "so_rmse_test = accuracy.rmse(so_pred_test, verbose=False)\n"
      ]
    },
    {
      "cell_type": "code",
      "execution_count": 40,
      "metadata": {
        "colab": {
          "base_uri": "https://localhost:8080/",
          "height": 112
        },
        "id": "KyPAYCxLQdxh",
        "outputId": "f4bb4b1c-8bfd-4381-dab9-d68f7222d24b"
      },
      "outputs": [
        {
          "data": {
            "application/vnd.google.colaboratory.intrinsic+json": {
              "summary": "{\n  \"name\": \"df_comparison\",\n  \"rows\": 2,\n  \"fields\": [\n    {\n      \"column\": \"normalpred\",\n      \"properties\": {\n        \"dtype\": \"number\",\n        \"std\": 0.0030929353481856663,\n        \"min\": 1.9486604782113217,\n        \"max\": 1.953034549328269,\n        \"num_unique_values\": 2,\n        \"samples\": [\n          1.953034549328269,\n          1.9486604782113217\n        ],\n        \"semantic_type\": \"\",\n        \"description\": \"\"\n      }\n    },\n    {\n      \"column\": \"SVD\",\n      \"properties\": {\n        \"dtype\": \"number\",\n        \"std\": 0.013390561653257632,\n        \"min\": 1.5170630462380403,\n        \"max\": 1.5360001601358704,\n        \"num_unique_values\": 2,\n        \"samples\": [\n          1.5360001601358704,\n          1.5170630462380403\n        ],\n        \"semantic_type\": \"\",\n        \"description\": \"\"\n      }\n    },\n    {\n      \"column\": \"SVD++\",\n      \"properties\": {\n        \"dtype\": \"number\",\n        \"std\": 0.01572596878975403,\n        \"min\": 1.5137602817919442,\n        \"max\": 1.5360001601358704,\n        \"num_unique_values\": 2,\n        \"samples\": [\n          1.5360001601358704,\n          1.5137602817919442\n        ],\n        \"semantic_type\": \"\",\n        \"description\": \"\"\n      }\n    },\n    {\n      \"column\": \"NMF\",\n      \"properties\": {\n        \"dtype\": \"number\",\n        \"std\": 0.011929108558123187,\n        \"min\": 1.5205514864686216,\n        \"max\": 1.5374217935785404,\n        \"num_unique_values\": 2,\n        \"samples\": [\n          1.5374217935785404,\n          1.5205514864686216\n        ],\n        \"semantic_type\": \"\",\n        \"description\": \"\"\n      }\n    },\n    {\n      \"column\": \"KNNBasic\",\n      \"properties\": {\n        \"dtype\": \"number\",\n        \"std\": 0.8426800614460719,\n        \"min\": 0.30378914836895743,\n        \"max\": 1.4955187200073854,\n        \"num_unique_values\": 2,\n        \"samples\": [\n          1.4955187200073854,\n          0.30378914836895743\n        ],\n        \"semantic_type\": \"\",\n        \"description\": \"\"\n      }\n    },\n    {\n      \"column\": \"CoClustering\",\n      \"properties\": {\n        \"dtype\": \"number\",\n        \"std\": 0.7204253795610831,\n        \"min\": 0.4091784593408422,\n        \"max\": 1.4280138017939106,\n        \"num_unique_values\": 2,\n        \"samples\": [\n          1.4280138017939106,\n          0.4091784593408422\n        ],\n        \"semantic_type\": \"\",\n        \"description\": \"\"\n      }\n    },\n    {\n      \"column\": \"SlopeOne\",\n      \"properties\": {\n        \"dtype\": \"number\",\n        \"std\": 0.9545311220963533,\n        \"min\": 0.03639363473264526,\n        \"max\": 1.3863044933085167,\n        \"num_unique_values\": 2,\n        \"samples\": [\n          1.3863044933085167,\n          0.03639363473264526\n        ],\n        \"semantic_type\": \"\",\n        \"description\": \"\"\n      }\n    }\n  ]\n}",
              "type": "dataframe"
            },
            "text/html": [
              "\n",
              "  <div id=\"df-73ba6ce6-2663-445a-bd4f-99e6d2b655f9\" class=\"colab-df-container\">\n",
              "    <div>\n",
              "<style scoped>\n",
              "    .dataframe tbody tr th:only-of-type {\n",
              "        vertical-align: middle;\n",
              "    }\n",
              "\n",
              "    .dataframe tbody tr th {\n",
              "        vertical-align: top;\n",
              "    }\n",
              "\n",
              "    .dataframe thead th {\n",
              "        text-align: right;\n",
              "    }\n",
              "</style>\n",
              "<table border=\"1\" class=\"dataframe\">\n",
              "  <thead>\n",
              "    <tr style=\"text-align: right;\">\n",
              "      <th></th>\n",
              "      <th>normalpred</th>\n",
              "      <th>SVD</th>\n",
              "      <th>SVD++</th>\n",
              "      <th>NMF</th>\n",
              "      <th>KNNBasic</th>\n",
              "      <th>CoClustering</th>\n",
              "      <th>SlopeOne</th>\n",
              "    </tr>\n",
              "  </thead>\n",
              "  <tbody>\n",
              "    <tr>\n",
              "      <th>RMSE train</th>\n",
              "      <td>1.948660</td>\n",
              "      <td>1.517063</td>\n",
              "      <td>1.51376</td>\n",
              "      <td>1.520551</td>\n",
              "      <td>0.303789</td>\n",
              "      <td>0.409178</td>\n",
              "      <td>0.036394</td>\n",
              "    </tr>\n",
              "    <tr>\n",
              "      <th>RMSE test</th>\n",
              "      <td>1.953035</td>\n",
              "      <td>1.536000</td>\n",
              "      <td>1.53600</td>\n",
              "      <td>1.537422</td>\n",
              "      <td>1.495519</td>\n",
              "      <td>1.428014</td>\n",
              "      <td>1.386304</td>\n",
              "    </tr>\n",
              "  </tbody>\n",
              "</table>\n",
              "</div>\n",
              "    <div class=\"colab-df-buttons\">\n",
              "\n",
              "  <div class=\"colab-df-container\">\n",
              "    <button class=\"colab-df-convert\" onclick=\"convertToInteractive('df-73ba6ce6-2663-445a-bd4f-99e6d2b655f9')\"\n",
              "            title=\"Convert this dataframe to an interactive table.\"\n",
              "            style=\"display:none;\">\n",
              "\n",
              "  <svg xmlns=\"http://www.w3.org/2000/svg\" height=\"24px\" viewBox=\"0 -960 960 960\">\n",
              "    <path d=\"M120-120v-720h720v720H120Zm60-500h600v-160H180v160Zm220 220h160v-160H400v160Zm0 220h160v-160H400v160ZM180-400h160v-160H180v160Zm440 0h160v-160H620v160ZM180-180h160v-160H180v160Zm440 0h160v-160H620v160Z\"/>\n",
              "  </svg>\n",
              "    </button>\n",
              "\n",
              "  <style>\n",
              "    .colab-df-container {\n",
              "      display:flex;\n",
              "      gap: 12px;\n",
              "    }\n",
              "\n",
              "    .colab-df-convert {\n",
              "      background-color: #E8F0FE;\n",
              "      border: none;\n",
              "      border-radius: 50%;\n",
              "      cursor: pointer;\n",
              "      display: none;\n",
              "      fill: #1967D2;\n",
              "      height: 32px;\n",
              "      padding: 0 0 0 0;\n",
              "      width: 32px;\n",
              "    }\n",
              "\n",
              "    .colab-df-convert:hover {\n",
              "      background-color: #E2EBFA;\n",
              "      box-shadow: 0px 1px 2px rgba(60, 64, 67, 0.3), 0px 1px 3px 1px rgba(60, 64, 67, 0.15);\n",
              "      fill: #174EA6;\n",
              "    }\n",
              "\n",
              "    .colab-df-buttons div {\n",
              "      margin-bottom: 4px;\n",
              "    }\n",
              "\n",
              "    [theme=dark] .colab-df-convert {\n",
              "      background-color: #3B4455;\n",
              "      fill: #D2E3FC;\n",
              "    }\n",
              "\n",
              "    [theme=dark] .colab-df-convert:hover {\n",
              "      background-color: #434B5C;\n",
              "      box-shadow: 0px 1px 3px 1px rgba(0, 0, 0, 0.15);\n",
              "      filter: drop-shadow(0px 1px 2px rgba(0, 0, 0, 0.3));\n",
              "      fill: #FFFFFF;\n",
              "    }\n",
              "  </style>\n",
              "\n",
              "    <script>\n",
              "      const buttonEl =\n",
              "        document.querySelector('#df-73ba6ce6-2663-445a-bd4f-99e6d2b655f9 button.colab-df-convert');\n",
              "      buttonEl.style.display =\n",
              "        google.colab.kernel.accessAllowed ? 'block' : 'none';\n",
              "\n",
              "      async function convertToInteractive(key) {\n",
              "        const element = document.querySelector('#df-73ba6ce6-2663-445a-bd4f-99e6d2b655f9');\n",
              "        const dataTable =\n",
              "          await google.colab.kernel.invokeFunction('convertToInteractive',\n",
              "                                                    [key], {});\n",
              "        if (!dataTable) return;\n",
              "\n",
              "        const docLinkHtml = 'Like what you see? Visit the ' +\n",
              "          '<a target=\"_blank\" href=https://colab.research.google.com/notebooks/data_table.ipynb>data table notebook</a>'\n",
              "          + ' to learn more about interactive tables.';\n",
              "        element.innerHTML = '';\n",
              "        dataTable['output_type'] = 'display_data';\n",
              "        await google.colab.output.renderOutput(dataTable, element);\n",
              "        const docLink = document.createElement('div');\n",
              "        docLink.innerHTML = docLinkHtml;\n",
              "        element.appendChild(docLink);\n",
              "      }\n",
              "    </script>\n",
              "  </div>\n",
              "\n",
              "\n",
              "<div id=\"df-82e6523e-8d20-4685-963c-b74af1945f58\">\n",
              "  <button class=\"colab-df-quickchart\" onclick=\"quickchart('df-82e6523e-8d20-4685-963c-b74af1945f58')\"\n",
              "            title=\"Suggest charts\"\n",
              "            style=\"display:none;\">\n",
              "\n",
              "<svg xmlns=\"http://www.w3.org/2000/svg\" height=\"24px\"viewBox=\"0 0 24 24\"\n",
              "     width=\"24px\">\n",
              "    <g>\n",
              "        <path d=\"M19 3H5c-1.1 0-2 .9-2 2v14c0 1.1.9 2 2 2h14c1.1 0 2-.9 2-2V5c0-1.1-.9-2-2-2zM9 17H7v-7h2v7zm4 0h-2V7h2v10zm4 0h-2v-4h2v4z\"/>\n",
              "    </g>\n",
              "</svg>\n",
              "  </button>\n",
              "\n",
              "<style>\n",
              "  .colab-df-quickchart {\n",
              "      --bg-color: #E8F0FE;\n",
              "      --fill-color: #1967D2;\n",
              "      --hover-bg-color: #E2EBFA;\n",
              "      --hover-fill-color: #174EA6;\n",
              "      --disabled-fill-color: #AAA;\n",
              "      --disabled-bg-color: #DDD;\n",
              "  }\n",
              "\n",
              "  [theme=dark] .colab-df-quickchart {\n",
              "      --bg-color: #3B4455;\n",
              "      --fill-color: #D2E3FC;\n",
              "      --hover-bg-color: #434B5C;\n",
              "      --hover-fill-color: #FFFFFF;\n",
              "      --disabled-bg-color: #3B4455;\n",
              "      --disabled-fill-color: #666;\n",
              "  }\n",
              "\n",
              "  .colab-df-quickchart {\n",
              "    background-color: var(--bg-color);\n",
              "    border: none;\n",
              "    border-radius: 50%;\n",
              "    cursor: pointer;\n",
              "    display: none;\n",
              "    fill: var(--fill-color);\n",
              "    height: 32px;\n",
              "    padding: 0;\n",
              "    width: 32px;\n",
              "  }\n",
              "\n",
              "  .colab-df-quickchart:hover {\n",
              "    background-color: var(--hover-bg-color);\n",
              "    box-shadow: 0 1px 2px rgba(60, 64, 67, 0.3), 0 1px 3px 1px rgba(60, 64, 67, 0.15);\n",
              "    fill: var(--button-hover-fill-color);\n",
              "  }\n",
              "\n",
              "  .colab-df-quickchart-complete:disabled,\n",
              "  .colab-df-quickchart-complete:disabled:hover {\n",
              "    background-color: var(--disabled-bg-color);\n",
              "    fill: var(--disabled-fill-color);\n",
              "    box-shadow: none;\n",
              "  }\n",
              "\n",
              "  .colab-df-spinner {\n",
              "    border: 2px solid var(--fill-color);\n",
              "    border-color: transparent;\n",
              "    border-bottom-color: var(--fill-color);\n",
              "    animation:\n",
              "      spin 1s steps(1) infinite;\n",
              "  }\n",
              "\n",
              "  @keyframes spin {\n",
              "    0% {\n",
              "      border-color: transparent;\n",
              "      border-bottom-color: var(--fill-color);\n",
              "      border-left-color: var(--fill-color);\n",
              "    }\n",
              "    20% {\n",
              "      border-color: transparent;\n",
              "      border-left-color: var(--fill-color);\n",
              "      border-top-color: var(--fill-color);\n",
              "    }\n",
              "    30% {\n",
              "      border-color: transparent;\n",
              "      border-left-color: var(--fill-color);\n",
              "      border-top-color: var(--fill-color);\n",
              "      border-right-color: var(--fill-color);\n",
              "    }\n",
              "    40% {\n",
              "      border-color: transparent;\n",
              "      border-right-color: var(--fill-color);\n",
              "      border-top-color: var(--fill-color);\n",
              "    }\n",
              "    60% {\n",
              "      border-color: transparent;\n",
              "      border-right-color: var(--fill-color);\n",
              "    }\n",
              "    80% {\n",
              "      border-color: transparent;\n",
              "      border-right-color: var(--fill-color);\n",
              "      border-bottom-color: var(--fill-color);\n",
              "    }\n",
              "    90% {\n",
              "      border-color: transparent;\n",
              "      border-bottom-color: var(--fill-color);\n",
              "    }\n",
              "  }\n",
              "</style>\n",
              "\n",
              "  <script>\n",
              "    async function quickchart(key) {\n",
              "      const quickchartButtonEl =\n",
              "        document.querySelector('#' + key + ' button');\n",
              "      quickchartButtonEl.disabled = true;  // To prevent multiple clicks.\n",
              "      quickchartButtonEl.classList.add('colab-df-spinner');\n",
              "      try {\n",
              "        const charts = await google.colab.kernel.invokeFunction(\n",
              "            'suggestCharts', [key], {});\n",
              "      } catch (error) {\n",
              "        console.error('Error during call to suggestCharts:', error);\n",
              "      }\n",
              "      quickchartButtonEl.classList.remove('colab-df-spinner');\n",
              "      quickchartButtonEl.classList.add('colab-df-quickchart-complete');\n",
              "    }\n",
              "    (() => {\n",
              "      let quickchartButtonEl =\n",
              "        document.querySelector('#df-82e6523e-8d20-4685-963c-b74af1945f58 button');\n",
              "      quickchartButtonEl.style.display =\n",
              "        google.colab.kernel.accessAllowed ? 'block' : 'none';\n",
              "    })();\n",
              "  </script>\n",
              "</div>\n",
              "\n",
              "    </div>\n",
              "  </div>\n"
            ],
            "text/plain": [
              "            normalpred       SVD    SVD++       NMF  KNNBasic  CoClustering  \\\n",
              "RMSE train    1.948660  1.517063  1.51376  1.520551  0.303789      0.409178   \n",
              "RMSE test     1.953035  1.536000  1.53600  1.537422  1.495519      1.428014   \n",
              "\n",
              "            SlopeOne  \n",
              "RMSE train  0.036394  \n",
              "RMSE test   1.386304  "
            ]
          },
          "execution_count": 40,
          "metadata": {},
          "output_type": "execute_result"
        }
      ],
      "source": [
        "rec_rmses = [[np_rmse_train, np_rmse_test],\n",
        "             [svd_rmse_train, svd_rmse_test],\n",
        "             [svdpp_rmse_train, svd_rmse_test],\n",
        "             [nmf_rmse_train, nmf_rmse_test],\n",
        "             [knnb_rmse_train, knnb_rmse_test],\n",
        "             [coc_rmse_train, coc_rmse_test],\n",
        "             [so_rmse_train, so_rmse_test]]\n",
        "\n",
        "rec_model_names = ['normalpred', 'SVD', 'SVD++', 'NMF','KNNBasic','CoClustering','SlopeOne']\n",
        "df_comparison = pd.DataFrame(rec_rmses, index=rec_model_names)\n",
        "df_comparison.rename(columns = {0:'RMSE train', 1:'RMSE test'}, inplace = True)\n",
        "df_comparison.T"
      ]
    },
    {
      "cell_type": "markdown",
      "metadata": {
        "id": "0-JbvqFfQxvs"
      },
      "source": [
        "    5.2.2 Hyperparameter Tuning for Best Model : SVD ++ "
      ]
    },
    {
      "cell_type": "code",
      "execution_count": 41,
      "metadata": {
        "id": "8sSUyHQjQkN4"
      },
      "outputs": [],
      "source": [
        "# Scaling for Feature of Raw Rating\n",
        "scaler = (df_collaborative.estimator.min(), df_collaborative.estimator.max())\n",
        "reader = Reader(rating_scale=scaler)\n",
        "#Load the dataframe\n",
        "data = Dataset.load_from_df(df_collaborative[['customer_unique_id','productId', 'estimator']], reader)"
      ]
    },
    {
      "cell_type": "code",
      "execution_count": 42,
      "metadata": {
        "colab": {
          "base_uri": "https://localhost:8080/"
        },
        "id": "iwE5tt26Q4IP",
        "outputId": "a898de1d-0fd2-4d1a-e825-432929c48048"
      },
      "outputs": [
        {
          "name": "stdout",
          "output_type": "stream",
          "text": [
            "Best score: 1.3643328551431844\n",
            "Best parameter: {'n_factors': 25, 'n_epochs': 50, 'lr_all': 0.01, 'reg_all': 0.1}\n"
          ]
        }
      ],
      "source": [
        "#Hyperparameter Tuning\n",
        "param_grid = {'n_factors': [25, 50],'n_epochs': [30,50],\n",
        "              'lr_all': [0.005,0.01],'reg_all':[0.02,0.1]}\n",
        "\n",
        "gs_svdpp = GridSearchCV(SVDpp, param_grid, measures=['rmse'], cv=5)\n",
        "gs_svdpp.fit(data)\n",
        "\n",
        "best_score_svdpp = gs_svdpp.best_score['rmse']\n",
        "best_param_svdpp = gs_svdpp.best_params['rmse']\n",
        "\n",
        "print(f'Best score: {best_score_svdpp}')\n",
        "print(f'Best parameter: {best_param_svdpp}')\n",
        "\n"
      ]
    },
    {
      "cell_type": "code",
      "execution_count": 43,
      "metadata": {
        "colab": {
          "base_uri": "https://localhost:8080/"
        },
        "id": "6a-3X5AATGZG",
        "outputId": "ac230686-ef32-404e-e452-d363a50d0ddb"
      },
      "outputs": [
        {
          "data": {
            "text/plain": [
              "<surprise.prediction_algorithms.matrix_factorization.SVDpp at 0x7de6699f2aa0>"
            ]
          },
          "execution_count": 43,
          "metadata": {},
          "output_type": "execute_result"
        }
      ],
      "source": [
        "# Create the model using the best parameters from GridSearchCV\n",
        "best_param_svdpp = gs_svdpp.best_params['rmse']\n",
        "best_model_svdpp = SVDpp(**best_param_svdpp)\n",
        "\n",
        "# Fit the model on the entire dataset\n",
        "best_model_svdpp.fit(data.build_full_trainset())"
      ]
    },
    {
      "cell_type": "markdown",
      "metadata": {
        "id": "_9FvhptNVtXz"
      },
      "source": [
        "##### **5.3 Content Based Filtering**"
      ]
    },
    {
      "cell_type": "code",
      "execution_count": 44,
      "metadata": {
        "id": "As3jJZOAVyFO"
      },
      "outputs": [],
      "source": [
        "# Handle missing values (if any)\n",
        "df_content['product_category_name'] = df_content['product_category_name'].fillna('unknown')"
      ]
    },
    {
      "cell_type": "code",
      "execution_count": 45,
      "metadata": {
        "id": "inOBbn7V-rdp"
      },
      "outputs": [],
      "source": [
        "tfidf = TfidfVectorizer(stop_words='english')\n",
        "tfidf_matrix = tfidf.fit_transform(df_content['product_category_name'])"
      ]
    },
    {
      "cell_type": "code",
      "execution_count": 46,
      "metadata": {
        "id": "OTYTXGNg-uxI"
      },
      "outputs": [],
      "source": [
        "cosine_sim = cosine_similarity(tfidf_matrix, tfidf_matrix)"
      ]
    },
    {
      "cell_type": "code",
      "execution_count": 47,
      "metadata": {
        "id": "PQQvtEHl-2dY"
      },
      "outputs": [],
      "source": [
        "def get_recommendations(product_id, df_content, cosine_sim, top_n=5):\n",
        "    idx = df_content[df_content['product_id'] == product_id].index[0]\n",
        "    sim_scores = list(enumerate(cosine_sim[idx]))\n",
        "    sim_scores = sorted(sim_scores, key=lambda x: x[1], reverse=True)\n",
        "    sim_scores = sim_scores[1:top_n+1]  # Skip the item itself\n",
        "\n",
        "    # Extract product IDs and categories\n",
        "    recommended_indices = [i[0] for i in sim_scores]\n",
        "    recommended_products = df_content.iloc[recommended_indices][['product_id', 'product_category_name']]\n",
        "\n",
        "    return recommended_products"
      ]
    },
    {
      "cell_type": "code",
      "execution_count": 48,
      "metadata": {
        "id": "P9CV6kCSpuuI"
      },
      "outputs": [],
      "source": [
        "def get_user_purchased_products(user_id, df_all):\n",
        "    # Filter df_all to get products bought by the specified user\n",
        "    user_purchases = df_all[df_all['customer_unique_id'] == user_id]\n",
        "\n",
        "    # Extract the product IDs of the products purchased by the user\n",
        "    purchased_product_ids = user_purchases['product_id'].unique()\n",
        "\n",
        "    return purchased_product_ids\n",
        "\n"
      ]
    },
    {
      "cell_type": "code",
      "execution_count": 49,
      "metadata": {
        "colab": {
          "base_uri": "https://localhost:8080/"
        },
        "id": "MF60yWDXqXis",
        "outputId": "8dc3d883-f609-4c8f-b632-7118e738f7f0"
      },
      "outputs": [
        {
          "name": "stdout",
          "output_type": "stream",
          "text": [
            "['P20845']\n",
            "    product_id product_category_name\n",
            "2       P23317      office_furniture\n",
            "3       P20373      office_furniture\n",
            "42      P17672      office_furniture\n",
            "72      P21112      office_furniture\n",
            "292     P29007      office_furniture\n"
          ]
        }
      ],
      "source": [
        "# Content Based Recommendation System Implementation\n",
        "\n",
        "user_id =   'C48272'\n",
        "get_product_id = get_user_purchased_products(user_id,df_all)\n",
        "product_id_str = get_product_id[0]\n",
        "recommendations = get_recommendations(product_id_str, df_content, cosine_sim, top_n=5)\n",
        "\n",
        "print(get_product_id)\n",
        "print(recommendations)\n"
      ]
    },
    {
      "cell_type": "markdown",
      "metadata": {
        "id": "NYQ4ndcpNwkl"
      },
      "source": [
        "##### **5.4 Hybrid Recommendation System**"
      ]
    },
    {
      "cell_type": "code",
      "execution_count": 50,
      "metadata": {
        "colab": {
          "base_uri": "https://localhost:8080/"
        },
        "id": "-YKIVoFNTj5g",
        "outputId": "9c17b666-15af-48d8-e424-bddcf7931042"
      },
      "outputs": [
        {
          "data": {
            "text/plain": [
              "Index(['product_id', 'product_category_name'], dtype='object')"
            ]
          },
          "execution_count": 50,
          "metadata": {},
          "output_type": "execute_result"
        }
      ],
      "source": [
        "df_content.columns"
      ]
    },
    {
      "cell_type": "code",
      "execution_count": 51,
      "metadata": {
        "colab": {
          "base_uri": "https://localhost:8080/"
        },
        "id": "HAES6GvgVngo",
        "outputId": "f6a2cbf9-5323-43a9-cf05-d10b5cb859d5"
      },
      "outputs": [
        {
          "data": {
            "text/plain": [
              "Index(['customer_unique_id', 'product_id', 'rating'], dtype='object')"
            ]
          },
          "execution_count": 51,
          "metadata": {},
          "output_type": "execute_result"
        }
      ],
      "source": [
        "df_collab.columns"
      ]
    },
    {
      "cell_type": "code",
      "execution_count": 52,
      "metadata": {
        "colab": {
          "base_uri": "https://localhost:8080/"
        },
        "id": "4cIzftRl_MtJ",
        "outputId": "96c1edb4-6ad1-49d8-dc09-7f80c12c7276"
      },
      "outputs": [
        {
          "data": {
            "text/plain": [
              "<surprise.prediction_algorithms.matrix_factorization.SVDpp at 0x7de66940dc60>"
            ]
          },
          "execution_count": 52,
          "metadata": {},
          "output_type": "execute_result"
        }
      ],
      "source": [
        "reader = Reader(rating_scale=(1, 5))  # Adjust rating scale if needed\n",
        "data = Dataset.load_from_df(df_collab[['customer_unique_id', 'product_id', 'rating']], reader)\n",
        "\n",
        "trainset = data.build_full_trainset()\n",
        "svdpp = SVDpp()\n",
        "svdpp.fit(trainset)"
      ]
    },
    {
      "cell_type": "code",
      "execution_count": 53,
      "metadata": {
        "id": "odF-oTRo1guq"
      },
      "outputs": [],
      "source": [
        "svdpp_model = best_model_svdpp"
      ]
    },
    {
      "cell_type": "code",
      "execution_count": 54,
      "metadata": {
        "id": "4oY05rZky7io"
      },
      "outputs": [],
      "source": [
        "def hybrid_recommendation_system(user_id, df_all, df_content, cosine_sim, svdpp_model, top_n=5):\n",
        "    # Step 1: Content-Based Recommendation\n",
        "    get_product_id = get_user_purchased_products(user_id, df_all)\n",
        "    content_based_recommendations = []\n",
        "\n",
        "    if get_product_id:  # Ensure user has purchased products\n",
        "        product_id_str = get_product_id[0]  # Get the first product ID from the list\n",
        "        content_based_recommendations = get_recommendations(product_id_str, df_content, cosine_sim, top_n=top_n)\n",
        "\n",
        "    # Step 2: Collaborative Filtering - Get top 2 recommended categories\n",
        "    user_rated_items = df_all[df_all['customer_unique_id'] == user_id]['product_id'].values\n",
        "\n",
        "    category_predictions = []\n",
        "    for product_id in df_content['product_id'].unique():\n",
        "        if product_id not in user_rated_items:\n",
        "            pred = svdpp_model.predict(user_id, product_id)\n",
        "            category = df_content[df_content['product_id'] == product_id]['product_category_name'].values[0]\n",
        "            category_predictions.append((category, pred.est))\n",
        "\n",
        "    # Sort and select top 2 categories based on the prediction score\n",
        "    top_categories = sorted(category_predictions, key=lambda x: x[1], reverse=True)[:2]\n",
        "    top_categories = [category for category, _ in top_categories]\n",
        "\n",
        "    # Step 3: Cascade into Content-Based for top 2 categories\n",
        "    cascade_recommendations = []\n",
        "    for category in top_categories:\n",
        "        # Filter products by category\n",
        "        category_products = df_content[df_content['product_category_name'] == category]['product_id'].values\n",
        "        for product_id in category_products[:2]:  # Select 2 products for each category\n",
        "            recs = get_recommendations(product_id, df_content, cosine_sim, top_n=top_n)\n",
        "            cascade_recommendations.extend(recs[['product_id', 'product_category_name']].values.tolist())\n",
        "\n",
        "    return {\n",
        "        \"content_based_recommendations\": content_based_recommendations,\n",
        "        \"collaborative_filtering_recommendations\": cascade_recommendations\n",
        "    }\n",
        "\n"
      ]
    },
    {
      "cell_type": "code",
      "execution_count": 55,
      "metadata": {
        "id": "zqp--c8PzBIw"
      },
      "outputs": [],
      "source": [
        "user_id = 'C48272'\n",
        "\n",
        "# Call the hybrid recommendation system function\n",
        "recommendations = hybrid_recommendation_system(user_id, df_all, df_content, cosine_sim, svdpp_model)"
      ]
    },
    {
      "cell_type": "code",
      "execution_count": 56,
      "metadata": {
        "colab": {
          "base_uri": "https://localhost:8080/"
        },
        "id": "poRsSes83DPj",
        "outputId": "af60875d-2118-4ba4-c9e8-68a26f45e6f4"
      },
      "outputs": [
        {
          "name": "stdout",
          "output_type": "stream",
          "text": [
            "Similar Items:\n",
            "\n",
            "Product ID: P23317, Category: office_furniture\n",
            "Product ID: P20373, Category: office_furniture\n",
            "Product ID: P17672, Category: office_furniture\n",
            "Product ID: P21112, Category: office_furniture\n",
            "Product ID: P29007, Category: office_furniture\n",
            "\n",
            "You might also like:\n",
            "\n",
            "Product ID: P11675, Category: consoles_games\n",
            "Product ID: P16377, Category: consoles_games\n",
            "Product ID: P18203, Category: consoles_games\n",
            "Product ID: P1318, Category: consoles_games\n",
            "Product ID: P10955, Category: consoles_games\n",
            "Product ID: P12310, Category: computers_accessories\n",
            "Product ID: P2403, Category: computers_accessories\n",
            "Product ID: P30580, Category: computers_accessories\n",
            "Product ID: P7743, Category: computers_accessories\n",
            "Product ID: P29467, Category: computers_accessories\n",
            "Product ID: P10103, Category: perfumery\n",
            "Product ID: P6578, Category: perfumery\n",
            "Product ID: P11134, Category: perfumery\n",
            "Product ID: P11833, Category: perfumery\n",
            "Product ID: P715, Category: perfumery\n",
            "Product ID: P16030, Category: auto\n",
            "Product ID: P11797, Category: auto\n",
            "Product ID: P27197, Category: auto\n",
            "Product ID: P3062, Category: auto\n",
            "Product ID: P20330, Category: auto\n"
          ]
        }
      ],
      "source": [
        "def print_recommendations(recommendations):\n",
        "    # Print Content-Based Recommendations\n",
        "    print(\"Similar Items:\\n\")\n",
        "    for index, row in recommendations[\"content_based_recommendations\"].iterrows():\n",
        "        print(f\"Product ID: {row['product_id']}, Category: {row['product_category_name']}\")\n",
        "\n",
        "    print(\"\\nYou might also like:\\n\")\n",
        "    for rec in recommendations[\"collaborative_filtering_recommendations\"]:\n",
        "        print(f\"Product ID: {rec[0]}, Category: {rec[1]}\")\n",
        "\n",
        "# Call the function to print recommendations\n",
        "print_recommendations(recommendations)\n"
      ]
    },
    {
      "cell_type": "code",
      "execution_count": 57,
      "metadata": {
        "colab": {
          "base_uri": "https://localhost:8080/",
          "height": 206
        },
        "id": "tS2Y-Lxv0kAi",
        "outputId": "25b88570-b7e7-4af3-d510-e20bf3583b05"
      },
      "outputs": [
        {
          "data": {
            "application/vnd.google.colaboratory.intrinsic+json": {
              "summary": "{\n  \"name\": \"df_all[['customer_unique_id','product_id','order_status','product_category_name']]\",\n  \"rows\": 5,\n  \"fields\": [\n    {\n      \"column\": \"customer_unique_id\",\n      \"properties\": {\n        \"dtype\": \"string\",\n        \"num_unique_values\": 5,\n        \"samples\": [\n          \"C14788\",\n          \"C18911\",\n          \"C2174\"\n        ],\n        \"semantic_type\": \"\",\n        \"description\": \"\"\n      }\n    },\n    {\n      \"column\": \"product_id\",\n      \"properties\": {\n        \"dtype\": \"string\",\n        \"num_unique_values\": 5,\n        \"samples\": [\n          \"P9335\",\n          \"P18210\",\n          \"P23317\"\n        ],\n        \"semantic_type\": \"\",\n        \"description\": \"\"\n      }\n    },\n    {\n      \"column\": \"order_status\",\n      \"properties\": {\n        \"dtype\": \"category\",\n        \"num_unique_values\": 1,\n        \"samples\": [\n          \"delivered\"\n        ],\n        \"semantic_type\": \"\",\n        \"description\": \"\"\n      }\n    },\n    {\n      \"column\": \"product_category_name\",\n      \"properties\": {\n        \"dtype\": \"string\",\n        \"num_unique_values\": 3,\n        \"samples\": [\n          \"office_furniture\"\n        ],\n        \"semantic_type\": \"\",\n        \"description\": \"\"\n      }\n    }\n  ]\n}",
              "type": "dataframe"
            },
            "text/html": [
              "\n",
              "  <div id=\"df-33bb2ca2-5100-40d0-90d1-a6908f5de1e5\" class=\"colab-df-container\">\n",
              "    <div>\n",
              "<style scoped>\n",
              "    .dataframe tbody tr th:only-of-type {\n",
              "        vertical-align: middle;\n",
              "    }\n",
              "\n",
              "    .dataframe tbody tr th {\n",
              "        vertical-align: top;\n",
              "    }\n",
              "\n",
              "    .dataframe thead th {\n",
              "        text-align: right;\n",
              "    }\n",
              "</style>\n",
              "<table border=\"1\" class=\"dataframe\">\n",
              "  <thead>\n",
              "    <tr style=\"text-align: right;\">\n",
              "      <th></th>\n",
              "      <th>customer_unique_id</th>\n",
              "      <th>product_id</th>\n",
              "      <th>order_status</th>\n",
              "      <th>product_category_name</th>\n",
              "    </tr>\n",
              "  </thead>\n",
              "  <tbody>\n",
              "    <tr>\n",
              "      <th>0</th>\n",
              "      <td>C48272</td>\n",
              "      <td>P20845</td>\n",
              "      <td>delivered</td>\n",
              "      <td>office_furniture</td>\n",
              "    </tr>\n",
              "    <tr>\n",
              "      <th>1</th>\n",
              "      <td>C14788</td>\n",
              "      <td>P9335</td>\n",
              "      <td>delivered</td>\n",
              "      <td>housewares</td>\n",
              "    </tr>\n",
              "    <tr>\n",
              "      <th>2</th>\n",
              "      <td>C2174</td>\n",
              "      <td>P23317</td>\n",
              "      <td>delivered</td>\n",
              "      <td>office_furniture</td>\n",
              "    </tr>\n",
              "    <tr>\n",
              "      <th>3</th>\n",
              "      <td>C13604</td>\n",
              "      <td>P20373</td>\n",
              "      <td>delivered</td>\n",
              "      <td>office_furniture</td>\n",
              "    </tr>\n",
              "    <tr>\n",
              "      <th>4</th>\n",
              "      <td>C18911</td>\n",
              "      <td>P18210</td>\n",
              "      <td>delivered</td>\n",
              "      <td>home_confort</td>\n",
              "    </tr>\n",
              "  </tbody>\n",
              "</table>\n",
              "</div>\n",
              "    <div class=\"colab-df-buttons\">\n",
              "\n",
              "  <div class=\"colab-df-container\">\n",
              "    <button class=\"colab-df-convert\" onclick=\"convertToInteractive('df-33bb2ca2-5100-40d0-90d1-a6908f5de1e5')\"\n",
              "            title=\"Convert this dataframe to an interactive table.\"\n",
              "            style=\"display:none;\">\n",
              "\n",
              "  <svg xmlns=\"http://www.w3.org/2000/svg\" height=\"24px\" viewBox=\"0 -960 960 960\">\n",
              "    <path d=\"M120-120v-720h720v720H120Zm60-500h600v-160H180v160Zm220 220h160v-160H400v160Zm0 220h160v-160H400v160ZM180-400h160v-160H180v160Zm440 0h160v-160H620v160ZM180-180h160v-160H180v160Zm440 0h160v-160H620v160Z\"/>\n",
              "  </svg>\n",
              "    </button>\n",
              "\n",
              "  <style>\n",
              "    .colab-df-container {\n",
              "      display:flex;\n",
              "      gap: 12px;\n",
              "    }\n",
              "\n",
              "    .colab-df-convert {\n",
              "      background-color: #E8F0FE;\n",
              "      border: none;\n",
              "      border-radius: 50%;\n",
              "      cursor: pointer;\n",
              "      display: none;\n",
              "      fill: #1967D2;\n",
              "      height: 32px;\n",
              "      padding: 0 0 0 0;\n",
              "      width: 32px;\n",
              "    }\n",
              "\n",
              "    .colab-df-convert:hover {\n",
              "      background-color: #E2EBFA;\n",
              "      box-shadow: 0px 1px 2px rgba(60, 64, 67, 0.3), 0px 1px 3px 1px rgba(60, 64, 67, 0.15);\n",
              "      fill: #174EA6;\n",
              "    }\n",
              "\n",
              "    .colab-df-buttons div {\n",
              "      margin-bottom: 4px;\n",
              "    }\n",
              "\n",
              "    [theme=dark] .colab-df-convert {\n",
              "      background-color: #3B4455;\n",
              "      fill: #D2E3FC;\n",
              "    }\n",
              "\n",
              "    [theme=dark] .colab-df-convert:hover {\n",
              "      background-color: #434B5C;\n",
              "      box-shadow: 0px 1px 3px 1px rgba(0, 0, 0, 0.15);\n",
              "      filter: drop-shadow(0px 1px 2px rgba(0, 0, 0, 0.3));\n",
              "      fill: #FFFFFF;\n",
              "    }\n",
              "  </style>\n",
              "\n",
              "    <script>\n",
              "      const buttonEl =\n",
              "        document.querySelector('#df-33bb2ca2-5100-40d0-90d1-a6908f5de1e5 button.colab-df-convert');\n",
              "      buttonEl.style.display =\n",
              "        google.colab.kernel.accessAllowed ? 'block' : 'none';\n",
              "\n",
              "      async function convertToInteractive(key) {\n",
              "        const element = document.querySelector('#df-33bb2ca2-5100-40d0-90d1-a6908f5de1e5');\n",
              "        const dataTable =\n",
              "          await google.colab.kernel.invokeFunction('convertToInteractive',\n",
              "                                                    [key], {});\n",
              "        if (!dataTable) return;\n",
              "\n",
              "        const docLinkHtml = 'Like what you see? Visit the ' +\n",
              "          '<a target=\"_blank\" href=https://colab.research.google.com/notebooks/data_table.ipynb>data table notebook</a>'\n",
              "          + ' to learn more about interactive tables.';\n",
              "        element.innerHTML = '';\n",
              "        dataTable['output_type'] = 'display_data';\n",
              "        await google.colab.output.renderOutput(dataTable, element);\n",
              "        const docLink = document.createElement('div');\n",
              "        docLink.innerHTML = docLinkHtml;\n",
              "        element.appendChild(docLink);\n",
              "      }\n",
              "    </script>\n",
              "  </div>\n",
              "\n",
              "\n",
              "<div id=\"df-4b85c228-f538-4608-ab18-941354f4bcd0\">\n",
              "  <button class=\"colab-df-quickchart\" onclick=\"quickchart('df-4b85c228-f538-4608-ab18-941354f4bcd0')\"\n",
              "            title=\"Suggest charts\"\n",
              "            style=\"display:none;\">\n",
              "\n",
              "<svg xmlns=\"http://www.w3.org/2000/svg\" height=\"24px\"viewBox=\"0 0 24 24\"\n",
              "     width=\"24px\">\n",
              "    <g>\n",
              "        <path d=\"M19 3H5c-1.1 0-2 .9-2 2v14c0 1.1.9 2 2 2h14c1.1 0 2-.9 2-2V5c0-1.1-.9-2-2-2zM9 17H7v-7h2v7zm4 0h-2V7h2v10zm4 0h-2v-4h2v4z\"/>\n",
              "    </g>\n",
              "</svg>\n",
              "  </button>\n",
              "\n",
              "<style>\n",
              "  .colab-df-quickchart {\n",
              "      --bg-color: #E8F0FE;\n",
              "      --fill-color: #1967D2;\n",
              "      --hover-bg-color: #E2EBFA;\n",
              "      --hover-fill-color: #174EA6;\n",
              "      --disabled-fill-color: #AAA;\n",
              "      --disabled-bg-color: #DDD;\n",
              "  }\n",
              "\n",
              "  [theme=dark] .colab-df-quickchart {\n",
              "      --bg-color: #3B4455;\n",
              "      --fill-color: #D2E3FC;\n",
              "      --hover-bg-color: #434B5C;\n",
              "      --hover-fill-color: #FFFFFF;\n",
              "      --disabled-bg-color: #3B4455;\n",
              "      --disabled-fill-color: #666;\n",
              "  }\n",
              "\n",
              "  .colab-df-quickchart {\n",
              "    background-color: var(--bg-color);\n",
              "    border: none;\n",
              "    border-radius: 50%;\n",
              "    cursor: pointer;\n",
              "    display: none;\n",
              "    fill: var(--fill-color);\n",
              "    height: 32px;\n",
              "    padding: 0;\n",
              "    width: 32px;\n",
              "  }\n",
              "\n",
              "  .colab-df-quickchart:hover {\n",
              "    background-color: var(--hover-bg-color);\n",
              "    box-shadow: 0 1px 2px rgba(60, 64, 67, 0.3), 0 1px 3px 1px rgba(60, 64, 67, 0.15);\n",
              "    fill: var(--button-hover-fill-color);\n",
              "  }\n",
              "\n",
              "  .colab-df-quickchart-complete:disabled,\n",
              "  .colab-df-quickchart-complete:disabled:hover {\n",
              "    background-color: var(--disabled-bg-color);\n",
              "    fill: var(--disabled-fill-color);\n",
              "    box-shadow: none;\n",
              "  }\n",
              "\n",
              "  .colab-df-spinner {\n",
              "    border: 2px solid var(--fill-color);\n",
              "    border-color: transparent;\n",
              "    border-bottom-color: var(--fill-color);\n",
              "    animation:\n",
              "      spin 1s steps(1) infinite;\n",
              "  }\n",
              "\n",
              "  @keyframes spin {\n",
              "    0% {\n",
              "      border-color: transparent;\n",
              "      border-bottom-color: var(--fill-color);\n",
              "      border-left-color: var(--fill-color);\n",
              "    }\n",
              "    20% {\n",
              "      border-color: transparent;\n",
              "      border-left-color: var(--fill-color);\n",
              "      border-top-color: var(--fill-color);\n",
              "    }\n",
              "    30% {\n",
              "      border-color: transparent;\n",
              "      border-left-color: var(--fill-color);\n",
              "      border-top-color: var(--fill-color);\n",
              "      border-right-color: var(--fill-color);\n",
              "    }\n",
              "    40% {\n",
              "      border-color: transparent;\n",
              "      border-right-color: var(--fill-color);\n",
              "      border-top-color: var(--fill-color);\n",
              "    }\n",
              "    60% {\n",
              "      border-color: transparent;\n",
              "      border-right-color: var(--fill-color);\n",
              "    }\n",
              "    80% {\n",
              "      border-color: transparent;\n",
              "      border-right-color: var(--fill-color);\n",
              "      border-bottom-color: var(--fill-color);\n",
              "    }\n",
              "    90% {\n",
              "      border-color: transparent;\n",
              "      border-bottom-color: var(--fill-color);\n",
              "    }\n",
              "  }\n",
              "</style>\n",
              "\n",
              "  <script>\n",
              "    async function quickchart(key) {\n",
              "      const quickchartButtonEl =\n",
              "        document.querySelector('#' + key + ' button');\n",
              "      quickchartButtonEl.disabled = true;  // To prevent multiple clicks.\n",
              "      quickchartButtonEl.classList.add('colab-df-spinner');\n",
              "      try {\n",
              "        const charts = await google.colab.kernel.invokeFunction(\n",
              "            'suggestCharts', [key], {});\n",
              "      } catch (error) {\n",
              "        console.error('Error during call to suggestCharts:', error);\n",
              "      }\n",
              "      quickchartButtonEl.classList.remove('colab-df-spinner');\n",
              "      quickchartButtonEl.classList.add('colab-df-quickchart-complete');\n",
              "    }\n",
              "    (() => {\n",
              "      let quickchartButtonEl =\n",
              "        document.querySelector('#df-4b85c228-f538-4608-ab18-941354f4bcd0 button');\n",
              "      quickchartButtonEl.style.display =\n",
              "        google.colab.kernel.accessAllowed ? 'block' : 'none';\n",
              "    })();\n",
              "  </script>\n",
              "</div>\n",
              "\n",
              "    </div>\n",
              "  </div>\n"
            ],
            "text/plain": [
              "  customer_unique_id product_id order_status product_category_name\n",
              "0             C48272     P20845    delivered      office_furniture\n",
              "1             C14788      P9335    delivered            housewares\n",
              "2              C2174     P23317    delivered      office_furniture\n",
              "3             C13604     P20373    delivered      office_furniture\n",
              "4             C18911     P18210    delivered          home_confort"
            ]
          },
          "execution_count": 57,
          "metadata": {},
          "output_type": "execute_result"
        }
      ],
      "source": [
        "df_all[['customer_unique_id','product_id','order_status','product_category_name']].head()"
      ]
    },
    {
      "cell_type": "code",
      "execution_count": 58,
      "metadata": {
        "colab": {
          "base_uri": "https://localhost:8080/",
          "height": 81
        },
        "id": "hSnzov2U0tBq",
        "outputId": "4760bcc3-4bbc-4876-ffa3-1623d309cce6"
      },
      "outputs": [
        {
          "data": {
            "application/vnd.google.colaboratory.intrinsic+json": {
              "summary": "{\n  \"name\": \"df_all[df_all['customer_unique_id']=='C48272'][['customer_unique_id','product_id','order_status','product_category_name']]\",\n  \"rows\": 1,\n  \"fields\": [\n    {\n      \"column\": \"customer_unique_id\",\n      \"properties\": {\n        \"dtype\": \"string\",\n        \"num_unique_values\": 1,\n        \"samples\": [\n          \"C48272\"\n        ],\n        \"semantic_type\": \"\",\n        \"description\": \"\"\n      }\n    },\n    {\n      \"column\": \"product_id\",\n      \"properties\": {\n        \"dtype\": \"string\",\n        \"num_unique_values\": 1,\n        \"samples\": [\n          \"P20845\"\n        ],\n        \"semantic_type\": \"\",\n        \"description\": \"\"\n      }\n    },\n    {\n      \"column\": \"order_status\",\n      \"properties\": {\n        \"dtype\": \"string\",\n        \"num_unique_values\": 1,\n        \"samples\": [\n          \"delivered\"\n        ],\n        \"semantic_type\": \"\",\n        \"description\": \"\"\n      }\n    },\n    {\n      \"column\": \"product_category_name\",\n      \"properties\": {\n        \"dtype\": \"string\",\n        \"num_unique_values\": 1,\n        \"samples\": [\n          \"office_furniture\"\n        ],\n        \"semantic_type\": \"\",\n        \"description\": \"\"\n      }\n    }\n  ]\n}",
              "type": "dataframe"
            },
            "text/html": [
              "\n",
              "  <div id=\"df-5bc47fec-07dc-4d64-875a-993d0277bfc2\" class=\"colab-df-container\">\n",
              "    <div>\n",
              "<style scoped>\n",
              "    .dataframe tbody tr th:only-of-type {\n",
              "        vertical-align: middle;\n",
              "    }\n",
              "\n",
              "    .dataframe tbody tr th {\n",
              "        vertical-align: top;\n",
              "    }\n",
              "\n",
              "    .dataframe thead th {\n",
              "        text-align: right;\n",
              "    }\n",
              "</style>\n",
              "<table border=\"1\" class=\"dataframe\">\n",
              "  <thead>\n",
              "    <tr style=\"text-align: right;\">\n",
              "      <th></th>\n",
              "      <th>customer_unique_id</th>\n",
              "      <th>product_id</th>\n",
              "      <th>order_status</th>\n",
              "      <th>product_category_name</th>\n",
              "    </tr>\n",
              "  </thead>\n",
              "  <tbody>\n",
              "    <tr>\n",
              "      <th>0</th>\n",
              "      <td>C48272</td>\n",
              "      <td>P20845</td>\n",
              "      <td>delivered</td>\n",
              "      <td>office_furniture</td>\n",
              "    </tr>\n",
              "  </tbody>\n",
              "</table>\n",
              "</div>\n",
              "    <div class=\"colab-df-buttons\">\n",
              "\n",
              "  <div class=\"colab-df-container\">\n",
              "    <button class=\"colab-df-convert\" onclick=\"convertToInteractive('df-5bc47fec-07dc-4d64-875a-993d0277bfc2')\"\n",
              "            title=\"Convert this dataframe to an interactive table.\"\n",
              "            style=\"display:none;\">\n",
              "\n",
              "  <svg xmlns=\"http://www.w3.org/2000/svg\" height=\"24px\" viewBox=\"0 -960 960 960\">\n",
              "    <path d=\"M120-120v-720h720v720H120Zm60-500h600v-160H180v160Zm220 220h160v-160H400v160Zm0 220h160v-160H400v160ZM180-400h160v-160H180v160Zm440 0h160v-160H620v160ZM180-180h160v-160H180v160Zm440 0h160v-160H620v160Z\"/>\n",
              "  </svg>\n",
              "    </button>\n",
              "\n",
              "  <style>\n",
              "    .colab-df-container {\n",
              "      display:flex;\n",
              "      gap: 12px;\n",
              "    }\n",
              "\n",
              "    .colab-df-convert {\n",
              "      background-color: #E8F0FE;\n",
              "      border: none;\n",
              "      border-radius: 50%;\n",
              "      cursor: pointer;\n",
              "      display: none;\n",
              "      fill: #1967D2;\n",
              "      height: 32px;\n",
              "      padding: 0 0 0 0;\n",
              "      width: 32px;\n",
              "    }\n",
              "\n",
              "    .colab-df-convert:hover {\n",
              "      background-color: #E2EBFA;\n",
              "      box-shadow: 0px 1px 2px rgba(60, 64, 67, 0.3), 0px 1px 3px 1px rgba(60, 64, 67, 0.15);\n",
              "      fill: #174EA6;\n",
              "    }\n",
              "\n",
              "    .colab-df-buttons div {\n",
              "      margin-bottom: 4px;\n",
              "    }\n",
              "\n",
              "    [theme=dark] .colab-df-convert {\n",
              "      background-color: #3B4455;\n",
              "      fill: #D2E3FC;\n",
              "    }\n",
              "\n",
              "    [theme=dark] .colab-df-convert:hover {\n",
              "      background-color: #434B5C;\n",
              "      box-shadow: 0px 1px 3px 1px rgba(0, 0, 0, 0.15);\n",
              "      filter: drop-shadow(0px 1px 2px rgba(0, 0, 0, 0.3));\n",
              "      fill: #FFFFFF;\n",
              "    }\n",
              "  </style>\n",
              "\n",
              "    <script>\n",
              "      const buttonEl =\n",
              "        document.querySelector('#df-5bc47fec-07dc-4d64-875a-993d0277bfc2 button.colab-df-convert');\n",
              "      buttonEl.style.display =\n",
              "        google.colab.kernel.accessAllowed ? 'block' : 'none';\n",
              "\n",
              "      async function convertToInteractive(key) {\n",
              "        const element = document.querySelector('#df-5bc47fec-07dc-4d64-875a-993d0277bfc2');\n",
              "        const dataTable =\n",
              "          await google.colab.kernel.invokeFunction('convertToInteractive',\n",
              "                                                    [key], {});\n",
              "        if (!dataTable) return;\n",
              "\n",
              "        const docLinkHtml = 'Like what you see? Visit the ' +\n",
              "          '<a target=\"_blank\" href=https://colab.research.google.com/notebooks/data_table.ipynb>data table notebook</a>'\n",
              "          + ' to learn more about interactive tables.';\n",
              "        element.innerHTML = '';\n",
              "        dataTable['output_type'] = 'display_data';\n",
              "        await google.colab.output.renderOutput(dataTable, element);\n",
              "        const docLink = document.createElement('div');\n",
              "        docLink.innerHTML = docLinkHtml;\n",
              "        element.appendChild(docLink);\n",
              "      }\n",
              "    </script>\n",
              "  </div>\n",
              "\n",
              "\n",
              "    </div>\n",
              "  </div>\n"
            ],
            "text/plain": [
              "  customer_unique_id product_id order_status product_category_name\n",
              "0             C48272     P20845    delivered      office_furniture"
            ]
          },
          "execution_count": 58,
          "metadata": {},
          "output_type": "execute_result"
        }
      ],
      "source": [
        "df_all[df_all['customer_unique_id']=='C48272'][['customer_unique_id','product_id','order_status','product_category_name']]"
      ]
    },
    {
      "cell_type": "markdown",
      "metadata": {
        "id": "8kRC02wcmJJ2"
      },
      "source": [
        "##### **5.5 Recommendation for New User (Cold Start)**\n",
        "\n",
        "In a cold-start scenario, where a new user has just joined the platform and there is no prior interaction data, our recommendation system will focus on suggesting popular items. These items are selected based on metrics such as the most purchased, most reviewed, and those trending in the user's geographic area. This approach ensures that new users receive relevant and appealing recommendations even without a personalized history."
      ]
    },
    {
      "cell_type": "code",
      "execution_count": 59,
      "metadata": {
        "id": "hyKknVKkmIfn"
      },
      "outputs": [],
      "source": [
        "def find_popular_items(data, n_recs):\n",
        "    top_n_items = data.product_id.value_counts().sort_values(ascending=False)[:n_recs].index\n",
        "    return list(top_n_items)"
      ]
    },
    {
      "cell_type": "code",
      "execution_count": 60,
      "metadata": {
        "id": "YdVjSswWmtB8"
      },
      "outputs": [],
      "source": [
        "def popular_in_your_area(data, state, n_recs):\n",
        "    location_df = data[data.customer_state == state]\n",
        "    top_n_items = location_df.product_id.value_counts().sort_values(ascending=False)[:n_recs].index\n",
        "    return list(top_n_items)"
      ]
    },
    {
      "cell_type": "code",
      "execution_count": 61,
      "metadata": {
        "id": "HKsanmb9mwO2"
      },
      "outputs": [],
      "source": [
        "def first_time_recommender(data, uid, n_recs):\n",
        "    hot_items = find_popular_items(data, n_recs)\n",
        "    state = data[data.customer_unique_id==uid].customer_state.max()\n",
        "    popular_in_area = popular_in_your_area(data, state, n_recs)\n",
        "\n",
        "    print(f\"Hot items you might like:\\n {hot_items}\\n\")\n",
        "    print(f\"Popular items in your area:{state}\\n {popular_in_area}\")\n",
        "\n",
        "    recommendation = {'Hot Items': hot_items, 'Area': popular_in_area}\n",
        "\n",
        "    return recommendation"
      ]
    },
    {
      "cell_type": "code",
      "execution_count": 62,
      "metadata": {
        "colab": {
          "base_uri": "https://localhost:8080/"
        },
        "id": "YBbpSWEPmyYQ",
        "outputId": "1957930e-4fdf-4890-c0ef-8b917fa3c1ce"
      },
      "outputs": [
        {
          "name": "stdout",
          "output_type": "stream",
          "text": [
            "Hot items you might like:\n",
            " ['P21247', 'P18956', 'P8281']\n",
            "\n",
            "Popular items in your area:SP\n",
            " ['P21247', 'P18956', 'P8281']\n"
          ]
        }
      ],
      "source": [
        "# Example Recommendation\n",
        "recommendation = first_time_recommender(df_all, 'C48272', 3)"
      ]
    },
    {
      "cell_type": "markdown",
      "metadata": {
        "id": "CYJ2XvpaQ8RS"
      },
      "source": [
        "#### **5.6 Machine Learning Implementation**\n"
      ]
    },
    {
      "cell_type": "code",
      "execution_count": 63,
      "metadata": {
        "id": "DGCkkGr8t92T"
      },
      "outputs": [],
      "source": [
        "def find_popular_items(df_all, n_recs):\n",
        "    # Group by product_id and count the number of occurrences (i.e., sales)\n",
        "    popular_items = df_all['product_id'].value_counts().head(n_recs).index.tolist()\n",
        "\n",
        "    # Get product details (e.g., name, category) based on product_id\n",
        "    popular_items_details = df_all[df_all['product_id'].isin(popular_items)][['product_id', 'product_category_name']].drop_duplicates()\n",
        "\n",
        "    return popular_items_details\n"
      ]
    },
    {
      "cell_type": "code",
      "execution_count": 64,
      "metadata": {
        "id": "Y6zyjG6XRsnK"
      },
      "outputs": [],
      "source": [
        "def popular_in_your_area(df_all, global_area, n_recs):\n",
        "    # Filter data for the specific global area\n",
        "    area_data = df_all[df_all['customer_state'] == global_area]\n",
        "\n",
        "    # Group by product_id and count the number of occurrences (i.e., sales) in the specified area\n",
        "    most_sold_items = area_data['product_id'].value_counts().head(n_recs).index.tolist()\n",
        "\n",
        "    # Get product details (e.g., name, category) based on product_id\n",
        "    most_sold_items_details = area_data[area_data['product_id'].isin(most_sold_items)][['product_id','product_category_name']].drop_duplicates()\n",
        "\n",
        "    return most_sold_items_details\n",
        "\n"
      ]
    },
    {
      "cell_type": "code",
      "execution_count": 65,
      "metadata": {
        "id": "DESdSKwCRBBS"
      },
      "outputs": [],
      "source": [
        "global_area = 'SP'\n",
        "n_recs = 3\n",
        "def check_and_recommend(user_id, df_all, df_content, cosine_sim, svdpp_model,data):\n",
        "    if user_id in df_all['customer_unique_id'].values:\n",
        "        # User exists in df_all, use the hybrid recommendation system\n",
        "        recommendations = hybrid_recommendation_system(user_id, df_all, df_content, cosine_sim, svdpp_model)\n",
        "    else:\n",
        "        # If the user does not exist in df_all, provide cold start recommendations\n",
        "        print(f\"New customer detected: {user_id}. Generating cold start recommendations.\")\n",
        "\n",
        "        # Cold start recommendations: find most sold products globally\n",
        "        hot_items = find_popular_items(df_all, n_recs)\n",
        "\n",
        "        # Cold start recommendations: find popular items in the global area\n",
        "        popular_in_area = popular_in_your_area(df_all, global_area, n_recs)\n",
        "\n",
        "        # Return cold start recommendations\n",
        "        return {\n",
        "            \"hot_items\": hot_items,\n",
        "            \"popular_in_area\": popular_in_area\n",
        "        }\n",
        "\n",
        "    return recommendations\n",
        "\n"
      ]
    },
    {
      "cell_type": "markdown",
      "metadata": {
        "id": "Ts2eRkhb62L5"
      },
      "source": [
        "5.6.1. Implementation On New User"
      ]
    },
    {
      "cell_type": "code",
      "execution_count": 66,
      "metadata": {
        "colab": {
          "base_uri": "https://localhost:8080/"
        },
        "id": "H8951VeE5Iwh",
        "outputId": "430924ae-f0a6-4c67-b2e7-9f8176025ebe"
      },
      "outputs": [
        {
          "name": "stdout",
          "output_type": "stream",
          "text": [
            "New customer detected: 81766705. Generating cold start recommendations.\n"
          ]
        }
      ],
      "source": [
        "# Example usage:\n",
        "user_id = '81766705'\n",
        "recommendations = check_and_recommend(user_id, df_all, df_content, cosine_sim, svdpp_model,data)"
      ]
    },
    {
      "cell_type": "code",
      "execution_count": 67,
      "metadata": {
        "colab": {
          "base_uri": "https://localhost:8080/"
        },
        "id": "JHZJCdNVhqST",
        "outputId": "d1e7f761-f595-42c8-9c3b-c0f79dc96483"
      },
      "outputs": [
        {
          "name": "stdout",
          "output_type": "stream",
          "text": [
            "Hot Items You Might Like:\n",
            "    product_id product_category_name\n",
            "17      P18956        bed_bath_table\n",
            "32       P8281          garden_tools\n",
            "329     P21247       furniture_decor\n",
            "\n",
            "Popular Items in Your Area:\n",
            "    product_id product_category_name\n",
            "17      P18956        bed_bath_table\n",
            "32       P8281          garden_tools\n",
            "390     P21247       furniture_decor\n"
          ]
        }
      ],
      "source": [
        "# Separate the hot items and popular items in the area\n",
        "hot_items = recommendations.get(\"hot_items\", pd.DataFrame())  # Fallback to empty DataFrame if not found\n",
        "popular_in_area = recommendations.get(\"popular_in_area\", pd.DataFrame())  # Fallback to empty DataFrame if not found\n",
        "\n",
        "# Print hot items\n",
        "print(\"Hot Items You Might Like:\")\n",
        "print(hot_items)\n",
        "\n",
        "# Print popular items in the area\n",
        "print(\"\\nPopular Items in Your Area:\")\n",
        "print(popular_in_area)"
      ]
    },
    {
      "cell_type": "markdown",
      "metadata": {
        "id": "AX7og_X97FaP"
      },
      "source": [
        "### Normal Customer ###"
      ]
    },
    {
      "cell_type": "code",
      "execution_count": 68,
      "metadata": {
        "id": "_my9YiCN65Bg"
      },
      "outputs": [],
      "source": [
        "# Example usage:\n",
        "user_id = 'C48272'\n",
        "recommendations = check_and_recommend(user_id, df_all,df_content, cosine_sim, svdpp_model,data)\n"
      ]
    },
    {
      "cell_type": "code",
      "execution_count": 69,
      "metadata": {
        "colab": {
          "base_uri": "https://localhost:8080/"
        },
        "id": "LsShKA1L75NZ",
        "outputId": "89762510-ff8a-4d45-cde9-0e08de21a820"
      },
      "outputs": [
        {
          "name": "stdout",
          "output_type": "stream",
          "text": [
            "Similar Items:\n",
            "\n",
            "Product ID: P23317, Category: office_furniture\n",
            "Product ID: P20373, Category: office_furniture\n",
            "Product ID: P17672, Category: office_furniture\n",
            "Product ID: P21112, Category: office_furniture\n",
            "Product ID: P29007, Category: office_furniture\n",
            "\n",
            "You might also like:\n",
            "\n",
            "Product ID: P11675, Category: consoles_games\n",
            "Product ID: P16377, Category: consoles_games\n",
            "Product ID: P18203, Category: consoles_games\n",
            "Product ID: P1318, Category: consoles_games\n",
            "Product ID: P10955, Category: consoles_games\n",
            "Product ID: P12310, Category: computers_accessories\n",
            "Product ID: P2403, Category: computers_accessories\n",
            "Product ID: P30580, Category: computers_accessories\n",
            "Product ID: P7743, Category: computers_accessories\n",
            "Product ID: P29467, Category: computers_accessories\n",
            "Product ID: P10103, Category: perfumery\n",
            "Product ID: P6578, Category: perfumery\n",
            "Product ID: P11134, Category: perfumery\n",
            "Product ID: P11833, Category: perfumery\n",
            "Product ID: P715, Category: perfumery\n",
            "Product ID: P16030, Category: auto\n",
            "Product ID: P11797, Category: auto\n",
            "Product ID: P27197, Category: auto\n",
            "Product ID: P3062, Category: auto\n",
            "Product ID: P20330, Category: auto\n"
          ]
        }
      ],
      "source": [
        "# Call the function to print recommendations\n",
        "print_recommendations(recommendations)"
      ]
    },
    {
      "cell_type": "markdown",
      "metadata": {
        "id": "FQcMZc6JQGYD"
      },
      "source": [
        "## 5.7 Batch Processing for Unseen Data ##"
      ]
    },
    {
      "cell_type": "markdown",
      "metadata": {
        "id": "DtrNl9BtUf0O"
      },
      "source": [
        "### 5.7.1 Batch Processing for 2nd Transaction of 100 Customers ###\n"
      ]
    },
    {
      "cell_type": "code",
      "execution_count": 70,
      "metadata": {
        "colab": {
          "base_uri": "https://localhost:8080/"
        },
        "id": "cGkNrVRTQFA9",
        "outputId": "9c34055e-6135-4b76-cfbe-94559eed054c"
      },
      "outputs": [
        {
          "name": "stdout",
          "output_type": "stream",
          "text": [
            "['C10000', 'C10012', 'C10084', 'C10273', 'C10285', 'C104', 'C10403', 'C10433', 'C1046', 'C10488', 'C10532', 'C1055', 'C10701', 'C10723', 'C10757', 'C10837', 'C10922', 'C11006', 'C11055', 'C11199', 'C11306', 'C1138', 'C11446', 'C11460', 'C11563', 'C11581', 'C11600', 'C11633', 'C11634', 'C11685', 'C11722', 'C11768', 'C11819', 'C12028', 'C12071', 'C12104', 'C12110', 'C12184', 'C12225', 'C12233', 'C12240', 'C12272', 'C12351', 'C12481', 'C12672', 'C12697', 'C12755', 'C12784', 'C1282', 'C12921', 'C12975', 'C13042', 'C13052', 'C13053', 'C13055', 'C13077', 'C1312', 'C13183', 'C13321', 'C13375', 'C13411', 'C13420', 'C13514', 'C13582', 'C13609', 'C13705', 'C1378', 'C13782', 'C1391', 'C13931', 'C14022', 'C14096', 'C1412', 'C14126', 'C14142', 'C14187', 'C14214', 'C14372', 'C14398', 'C14409', 'C14473', 'C14492', 'C14496', 'C14587', 'C14601', 'C14677', 'C14679', 'C14716', 'C14729', 'C14861', 'C14869', 'C14882', 'C14960', 'C15067', 'C15154', 'C15194', 'C15199', 'C15214', 'C15217', 'C15246']\n"
          ]
        }
      ],
      "source": [
        "# Extract 'customer_unique_id' from df_check and convert to a list\n",
        "customer_ids_list = df_check['customer_unique_id'].tolist()\n",
        "\n",
        "# Print the resulting list\n",
        "print(customer_ids_list)"
      ]
    },
    {
      "cell_type": "code",
      "execution_count": 71,
      "metadata": {
        "colab": {
          "base_uri": "https://localhost:8080/"
        },
        "id": "HMs9VrPsHY1x",
        "outputId": "1568c980-9696-4437-ba63-c6ad0fb923ee"
      },
      "outputs": [
        {
          "name": "stdout",
          "output_type": "stream",
          "text": [
            "CSV file saved successfully!\n"
          ]
        }
      ],
      "source": [
        "# Convert the list to a DataFrame\n",
        "df_customer_ids1 = pd.DataFrame(customer_ids_list, columns=['customer_unique_id'])\n",
        "\n",
        "# Save the DataFrame to a CSV file\n",
        "df_customer_ids1.to_csv('customer_ids1.csv', index=False)\n",
        "\n",
        "print(\"CSV file saved successfully!\")"
      ]
    },
    {
      "cell_type": "code",
      "execution_count": 72,
      "metadata": {
        "colab": {
          "base_uri": "https://localhost:8080/"
        },
        "id": "v_W0ZstrQ2Xn",
        "outputId": "9178ff8a-454b-4fae-f0fb-ffceb4c5db14"
      },
      "outputs": [
        {
          "data": {
            "text/plain": [
              "(100, 27)"
            ]
          },
          "execution_count": 72,
          "metadata": {},
          "output_type": "execute_result"
        }
      ],
      "source": [
        "# Filter df_all to include only rows where 'customer_unique_id' is in customer_ids_list\n",
        "df_first_transaction = df_all[df_all['customer_unique_id'].isin(customer_ids_list)]\n",
        "\n",
        "# Print the resulting DataFrame\n",
        "df_first_transaction.shape\n"
      ]
    },
    {
      "cell_type": "code",
      "execution_count": 81,
      "metadata": {
        "colab": {
          "base_uri": "https://localhost:8080/"
        },
        "id": "aNT_nPZIRNs7",
        "outputId": "16e357d4-3fc2-4703-e912-41361ea18d05"
      },
      "outputs": [
        {
          "name": "stdout",
          "output_type": "stream",
          "text": [
            "   user_id                                   top_5_categories\n",
            "0   C14882  [telephony, garden_tools, stationery, books_ge...\n",
            "1   C13705  [health_beauty, garden_tools, stationery, auto...\n",
            "2   C11768  [telephony, garden_tools, books_general_intere...\n",
            "3   C12784  [furniture_decor, garden_tools, stationery, co...\n",
            "4   C12975  [fashion_bags_accessories, auto, books_general...\n",
            "..     ...                                                ...\n",
            "95  C10922  [garden_tools, stationery, auto, cool_stuff, c...\n",
            "96  C13321  [watches_gifts, books_general_interest, cool_s...\n",
            "97  C15194  [stationery, stationery, auto, cool_stuff, cin...\n",
            "98  C12028  [bed_bath_table, books_general_interest, lugga...\n",
            "99  C11563  [sports_leisure, luggage_accessories, cool_stu...\n",
            "\n",
            "[100 rows x 2 columns]\n"
          ]
        }
      ],
      "source": [
        "import pandas as pd\n",
        "\n",
        "# Step 1: Extract unique user IDs from df_transaction\n",
        "user_ids = df_first_transaction['customer_unique_id'].unique()\n",
        "\n",
        "# Step 2: Initialize an empty list to store the top 3 recommendations for each user\n",
        "top_3_recommendations = []\n",
        "\n",
        "# Step 3: Loop through each user and generate predictions\n",
        "for user_id in user_ids:\n",
        "    predictions_list = []\n",
        "\n",
        "    # Get the list of all items (e.g., products) in your dataset\n",
        "    items = df_first_transaction['product_id'].unique()\n",
        "\n",
        "    # Predict for each item for the current user\n",
        "    for item_id in items:\n",
        "        prediction = svdpp.predict(user_id, item_id)\n",
        "\n",
        "        # Map item_id to product_category using df_first_transaction\n",
        "        product_category = df_first_transaction[df_first_transaction['product_id'] == item_id]['product_category_name'].values[0]\n",
        "\n",
        "        # Append the prediction details to the list\n",
        "        predictions_list.append({\n",
        "            'user_id': user_id,\n",
        "            'item_id': item_id,\n",
        "            'product_category': product_category,\n",
        "            'estimated_rating': prediction.est\n",
        "        })\n",
        "\n",
        "    # Convert the predictions list to a DataFrame\n",
        "    df_user_predictions = pd.DataFrame(predictions_list)\n",
        "\n",
        "    # Step 4: Group by product_category and calculate the average estimated rating\n",
        "    df_avg_ratings = df_user_predictions.groupby('product_category')['estimated_rating'].mean().reset_index()\n",
        "\n",
        "    # Step 5: Sort by estimated rating in descending order and get the top 2 categories\n",
        "    df_top_2 = df_avg_ratings.sort_values(by='estimated_rating', ascending=False).head(4)\n",
        "\n",
        "    # Step 6: Get the user's own product category (assuming it's the category of the user's last transaction)\n",
        "    own_category = df_first_transaction[df_first_transaction['customer_unique_id'] == user_id].iloc[-1]['product_category_name']\n",
        "\n",
        "    # Step 7: Append the user's own category to the front of the top 2 categories\n",
        "    top_3_categories = [own_category] + df_top_2['product_category'].tolist()\n",
        "\n",
        "    # Append the top 3 categories to the recommendations list\n",
        "    top_3_recommendations.append({\n",
        "        'user_id': user_id,\n",
        "        'top_5_categories': top_3_categories\n",
        "    })\n",
        "\n",
        "# Step 8: Convert the top 3 recommendations to a DataFrame\n",
        "df_top_3_recommendations = pd.DataFrame(top_3_recommendations)\n",
        "\n",
        "# Print the resulting DataFrame with top 3 product categories for each user\n",
        "print(df_top_3_recommendations)\n"
      ]
    },
    {
      "cell_type": "code",
      "execution_count": 85,
      "metadata": {
        "colab": {
          "base_uri": "https://localhost:8080/"
        },
        "id": "QPORjXwrKi2M",
        "outputId": "13fd43d7-115c-4a80-f276-04017a8370ab"
      },
      "outputs": [
        {
          "name": "stdout",
          "output_type": "stream",
          "text": [
            "The percentage of product categories in df_check that are in the top 5 recommendations is: 41.00%\n"
          ]
        }
      ],
      "source": [
        "# Step 1: Merge df_check with df_top_3_recommendations on user_id (customer_unique_id)\n",
        "merged_df = pd.merge(df_check, df_top_3_recommendations, left_on='customer_unique_id', right_on='user_id')\n",
        "\n",
        "# Step 2: Check if the product_category_name in df_check exists in the top 3 categories\n",
        "merged_df['is_in_top_3'] = merged_df.apply(\n",
        "    lambda row: row['product_category_name'] in row['top_5_categories'], axis=1\n",
        ")\n",
        "\n",
        "# Step 3: Calculate the percentage of product categories in df_check that are in the top 3 recommendations\n",
        "percentage_existing_prediction = merged_df['is_in_top_3'].mean() * 100\n",
        "\n",
        "# Print the percentage\n",
        "print(f\"The percentage of product categories in df_check that are in the top 5 recommendations is: {percentage_existing_prediction:.2f}%\")\n"
      ]
    },
    {
      "cell_type": "code",
      "execution_count": 86,
      "metadata": {
        "colab": {
          "base_uri": "https://localhost:8080/"
        },
        "id": "6LV3ur_hPQa0",
        "outputId": "c72cad22-35fd-4107-dd32-0d3a1ee0c319"
      },
      "outputs": [
        {
          "name": "stdout",
          "output_type": "stream",
          "text": [
            "The percentage of customers in df_check with the same product category for both transactions is: 34.00%\n"
          ]
        }
      ],
      "source": [
        "import pandas as pd\n",
        "\n",
        "# Step 1: Filter df_two_transactions to include only the customers in df_check\n",
        "df_filtered = df_two_transactions[df_two_transactions['customer_unique_id'].isin(df_check['customer_unique_id'])]\n",
        "\n",
        "# Step 2: Ensure the DataFrame is sorted by customer and transaction time/order (to differentiate 1st and 2nd transactions)\n",
        "df_filtered = df_filtered.sort_values(by=['customer_unique_id', 'order_id'])\n",
        "\n",
        "# Step 3: Compare the product categories of the 1st and 2nd transactions for each customer\n",
        "df_comparison = df_filtered.groupby('customer_unique_id').apply(lambda x: x.iloc[0]['product_category_name'] == x.iloc[1]['product_category_name']).reset_index()\n",
        "df_comparison.columns = ['customer_unique_id', 'same_category']\n",
        "\n",
        "# Step 4: Calculate the percentage of customers with the same product category for both transactions\n",
        "percentage_same_category = df_comparison['same_category'].mean() * 100\n",
        "\n",
        "# Print the percentage\n",
        "print(f\"The percentage of customers in df_check with the same product category for both transactions is: {percentage_same_category:.2f}%\")\n",
        "\n"
      ]
    },
    {
      "cell_type": "markdown",
      "metadata": {
        "id": "W_mY08HRU0e0"
      },
      "source": [
        "### Batch Processing for 2nd Transaction of 100 Customer with Cross-Categorical Transaction ###"
      ]
    },
    {
      "cell_type": "code",
      "execution_count": 76,
      "metadata": {
        "colab": {
          "base_uri": "https://localhost:8080/"
        },
        "id": "yOtKBhuyS6i0",
        "outputId": "ee402ac3-dd64-43e5-9e2e-597637f39f5e"
      },
      "outputs": [
        {
          "name": "stdout",
          "output_type": "stream",
          "text": [
            "['C10273', 'C10285', 'C104', 'C10433', 'C1046', 'C10488', 'C10532', 'C10701', 'C10723', 'C10837', 'C10922', 'C11006', 'C11306', 'C1138', 'C11446', 'C11460', 'C11581', 'C11633', 'C11634', 'C11685', 'C11722', 'C11768', 'C11819', 'C12071', 'C12104', 'C12184', 'C12225', 'C12233', 'C12240', 'C12272', 'C12351', 'C12481', 'C12697', 'C12784', 'C1282', 'C13055', 'C13077', 'C13183', 'C13321', 'C13375', 'C13411', 'C13420', 'C13514', 'C13582', 'C13609', 'C1378', 'C14022', 'C14096', 'C1412', 'C14142', 'C14214', 'C14398', 'C14473', 'C14492', 'C14496', 'C14587', 'C14601', 'C14677', 'C14679', 'C14716', 'C14869', 'C14882', 'C14960', 'C15194', 'C15199', 'C15214', 'C15459', 'C15524', 'C15597', 'C15608', 'C15640', 'C15669', 'C15804', 'C15819', 'C15953', 'C16001', 'C16072', 'C16151', 'C16210', 'C1622', 'C16253', 'C16331', 'C16364', 'C16525', 'C16545', 'C16629', 'C17016', 'C17081', 'C1711', 'C17159', 'C17236', 'C17300', 'C17617', 'C1764', 'C17839', 'C17950', 'C17996', 'C18128', 'C18189', 'C18223']\n"
          ]
        }
      ],
      "source": [
        "# Extract 'customer_unique_id' from df_check and convert to a list\n",
        "customer_ids_list2 = df_check_2['customer_unique_id'].tolist()\n",
        "\n",
        "# Print the resulting list\n",
        "print(customer_ids_list2)"
      ]
    },
    {
      "cell_type": "code",
      "execution_count": 77,
      "metadata": {
        "colab": {
          "base_uri": "https://localhost:8080/"
        },
        "id": "sNw76JI015TJ",
        "outputId": "06534480-84c9-404b-f412-314744055144"
      },
      "outputs": [
        {
          "name": "stdout",
          "output_type": "stream",
          "text": [
            "CSV file saved successfully!\n"
          ]
        }
      ],
      "source": [
        "# Convert the list to a DataFrame\n",
        "df_customer_ids = pd.DataFrame(customer_ids_list2, columns=['customer_unique_id'])\n",
        "\n",
        "# Save the DataFrame to a CSV file\n",
        "df_customer_ids.to_csv('customer_ids2.csv', index=False)\n",
        "\n",
        "print(\"CSV file saved successfully!\")"
      ]
    },
    {
      "cell_type": "code",
      "execution_count": 78,
      "metadata": {
        "colab": {
          "base_uri": "https://localhost:8080/"
        },
        "id": "_ugLYpT3TB20",
        "outputId": "4f37811f-0614-4d85-f100-48fdbd7551ae"
      },
      "outputs": [
        {
          "data": {
            "text/plain": [
              "(100, 27)"
            ]
          },
          "execution_count": 78,
          "metadata": {},
          "output_type": "execute_result"
        }
      ],
      "source": [
        "# Filter df_all to include only rows where 'customer_unique_id' is in customer_ids_list\n",
        "df_first_transaction2 = df_all[df_all['customer_unique_id'].isin(customer_ids_list2)]\n",
        "\n",
        "# Print the resulting DataFrame\n",
        "df_first_transaction2.shape"
      ]
    },
    {
      "cell_type": "code",
      "execution_count": 88,
      "metadata": {
        "colab": {
          "base_uri": "https://localhost:8080/"
        },
        "id": "a74kuv9jTIVw",
        "outputId": "8a4a762e-764e-46a8-bcd0-66ac8d5b44d6"
      },
      "outputs": [
        {
          "name": "stdout",
          "output_type": "stream",
          "text": [
            "   user_id                                   top_5_categories\n",
            "0   C14882  [sports_leisure, drinks, garden_tools, cool_st...\n",
            "1   C11768  [sports_leisure, drinks, cool_stuff, auto, sta...\n",
            "2   C15669  [sports_leisure, health_beauty, auto, baby, st...\n",
            "3   C12784  [sports_leisure, cool_stuff, stationery, drink...\n",
            "4    C1282  [sports_leisure, stationery, cool_stuff, baby,...\n",
            "..     ...                                                ...\n",
            "95  C14473  [sports_leisure, baby, consoles_games, cool_st...\n",
            "96  C12104  [sports_leisure, baby, cool_stuff, stationery,...\n",
            "97  C10922  [sports_leisure, cool_stuff, drinks, stationer...\n",
            "98  C13321  [sports_leisure, home_confort, baby, consoles_...\n",
            "99  C15194  [sports_leisure, drinks, cool_stuff, stationer...\n",
            "\n",
            "[100 rows x 2 columns]\n"
          ]
        }
      ],
      "source": [
        "import pandas as pd\n",
        "\n",
        "# Step 1: Extract unique user IDs from df_transaction\n",
        "user_ids = df_first_transaction2['customer_unique_id'].unique()\n",
        "\n",
        "# Step 2: Initialize an empty list to store the top 3 recommendations for each user\n",
        "top_3_recommendations2 = []\n",
        "\n",
        "# Step 3: Loop through each user and generate predictions\n",
        "for user_id in user_ids:\n",
        "    predictions_list = []\n",
        "\n",
        "    # Get the list of all items (e.g., products) in your dataset\n",
        "    items = df_first_transaction2['product_id'].unique()\n",
        "\n",
        "    # Predict for each item for the current user\n",
        "    for item_id in items:\n",
        "        prediction = svdpp.predict(user_id, item_id)\n",
        "\n",
        "        # Map item_id to product_category using df_first_transaction\n",
        "        product_category = df_first_transaction2[df_first_transaction2['product_id'] == item_id]['product_category_name'].values[0]\n",
        "\n",
        "        # Append the prediction details to the list\n",
        "        predictions_list.append({\n",
        "            'user_id': user_id,\n",
        "            'item_id': item_id,\n",
        "            'product_category': product_category,\n",
        "            'estimated_rating': prediction.est\n",
        "        })\n",
        "\n",
        "    # Convert the predictions list to a DataFrame\n",
        "    df_user_predictions2 = pd.DataFrame(predictions_list)\n",
        "\n",
        "    # Step 4: Group by product_category and calculate the average estimated rating\n",
        "    df_avg_ratings2 = df_user_predictions2.groupby('product_category')['estimated_rating'].mean().reset_index()\n",
        "\n",
        "    # Step 5: Sort by estimated rating in descending order and get the top 2 categories\n",
        "    df_top2 = df_avg_ratings2.sort_values(by='estimated_rating', ascending=False).head(4)\n",
        "\n",
        "    # Step 6: Get the user's own product category (assuming it's the category of the user's last transaction)\n",
        "    own_category2 = df_first_transaction2[df_first_transaction2['customer_unique_id'] == user_id].iloc[-1]['product_category_name']\n",
        "\n",
        "    # Step 7: Append the user's own category to the front of the top 2 categories\n",
        "    top_3_categories2 = [own_category] + df_top2['product_category'].tolist()\n",
        "\n",
        "    # Append the top 3 categories to the recommendations list\n",
        "    top_3_recommendations2.append({\n",
        "        'user_id': user_id,\n",
        "        'top_5_categories': top_3_categories2\n",
        "    })\n",
        "\n",
        "# Step 8: Convert the top 3 recommendations to a DataFrame\n",
        "df_top_3_recommendations2 = pd.DataFrame(top_3_recommendations2)\n",
        "\n",
        "# Print the resulting DataFrame with top 3 product categories for each user\n",
        "print(df_top_3_recommendations2)"
      ]
    },
    {
      "cell_type": "code",
      "execution_count": 90,
      "metadata": {
        "colab": {
          "base_uri": "https://localhost:8080/"
        },
        "id": "QqwcTC8ZTvBf",
        "outputId": "6c041365-94b3-4915-db07-e7bb31eb8918"
      },
      "outputs": [
        {
          "name": "stdout",
          "output_type": "stream",
          "text": [
            "The percentage of product categories in df_check that are in the top 5 recommendations is: 19.00%\n"
          ]
        }
      ],
      "source": [
        "# Step 1: Merge df_check with df_top_3_recommendations on user_id (customer_unique_id)\n",
        "merged_df2 = pd.merge(df_check_2, df_top_3_recommendations2, left_on='customer_unique_id', right_on='user_id')\n",
        "\n",
        "# Step 2: Check if the product_category_name in df_check exists in the top 3 categories\n",
        "merged_df2['is_in_top_3'] = merged_df2.apply(\n",
        "    lambda row: row['product_category_name'] in row['top_5_categories'], axis=1\n",
        ")\n",
        "\n",
        "# Step 3: Calculate the percentage of product categories in df_check that are in the top 3 recommendations\n",
        "percentage_existing_prediction2 = merged_df2['is_in_top_3'].mean() * 100\n",
        "\n",
        "# Print the percentage\n",
        "print(f\"The percentage of product categories in df_check that are in the top 5 recommendations is: {percentage_existing_prediction2:.2f}%\")"
      ]
    }
  ],
  "metadata": {
    "colab": {
      "collapsed_sections": [
        "KLCK3e4-QJ8P",
        "kb041fmICjPn",
        "FQcMZc6JQGYD"
      ],
      "provenance": []
    },
    "kernelspec": {
      "display_name": "Python 3",
      "name": "python3"
    },
    "language_info": {
      "name": "python"
    }
  },
  "nbformat": 4,
  "nbformat_minor": 0
}
