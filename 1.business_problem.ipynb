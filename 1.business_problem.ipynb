{
 "cells": [
  {
   "cell_type": "markdown",
   "metadata": {},
   "source": [
    "#### **1. BUSSINESS UNDERSTANDING**"
   ]
  },
  {
   "cell_type": "markdown",
   "metadata": {},
   "source": [
    "##### **1.1. Business Context**"
   ]
  },
  {
   "cell_type": "markdown",
   "metadata": {},
   "source": [
    "In today’s business world, customers are the most valuable asset. They are the driving force behind any company’s success, particularly in industries as competitive as e-commerce. As the market becomes more saturated and competition heats up, businesses need to focus more on retaining their customers. Why? Because loyal customers are not just repeat buyers—they’re also the key to sustained revenue and long-term growth. Without them, it’s nearly impossible for any business to thrive.\n",
    "\n",
    "Customer loyalty is the backbone of survival in e-commerce. Loyal customers tend to stick around, make more purchases, and even spread the word, helping companies save on marketing costs. Building strong relationships with customers isn’t just nice-to-have; it’s a must-have strategy for any business aiming to stay ahead of the competition.\n",
    "\n",
    "Let’s explore the booming e-commerce market in Brazil. According to the  report, Brazil is the 12th largest e-commerce market globally. It is projected to reach USD 40.63 billion in revenue by 2024. The market is expanding rapidly, with a forecasted compound annual growth rate (CAGR) of 8.9% from 2024 to 2028, potentially reaching USD 57.09 billion by 2028. In 2024, the market is expected to grow by 9.8%, contributing to a global e-commerce growth rate of 10.1%. Major categories driving this growth include Electronics (31.9% of revenue), Fashion (27.0%), Hobby & Leisure (14.1%), Furniture & Homeware (10.9%), Care Products (6.1%), DIY (5.4%), and Grocery (4.6%).\n",
    "\n",
    "Amid this growth, Olist has emerged as a game-changer for small and medium-sized businesses in Brazil. So, what exactly is Olist, and how does it work? Founded in 2015 by Tiago Dalvi, [Olist](https://olist.com/) is a powerful e-commerce platform that helps smaller businesses sell their products online by connecting them to 13 of Brazil’s biggest marketplaces—like Amazon, Submarino, and Americanas.com—all through a single platform.\n",
    "\n",
    "Olist operates with a straightforward and effective business model designed to support small and medium-sized businesses. By partnering with major e-commerce marketplaces across Brazil, Olist allows these businesses to list their products on multiple platforms with just one contract. This integration means that sellers can access a broad customer base through Olist’s network of partners, simplifying their online presence.\n",
    "\n",
    "Sellers list their products through Olist Store, and Olist’s logistics partners handle the delivery directly to the customers. Once a purchase is made, the seller receives all necessary details to fulfill the order. After the product is shipped and delivered, or if the estimated delivery date passes, Olist sends a satisfaction survey to the customer via email. This survey allows customers to provide feedback on their shopping experience, helping Olist and the sellers to continuously improve their services.\n",
    "\n",
    "Olist generates revenue through several key channels. Primarily based on [Olist Profit](https://medium.com/@fercanc/how-can-olist-increase-its-profit-ef58e3f274e#:~:text=P%26L%20Rules,each%20order%20delivered.), Olist takes a 10% commission on the product price (excluding freight) for each order delivered through its platform. Additionally, Olist charges a monthly subscription fee of BRL 80 or USD 14.63 per seller for access to its services. Beyond these, Olist may also generate income from premium services, such as enhanced product listings and advanced analytics, and potentially from additional advertising or promotional features. This multi-faceted approach to revenue generation ensures that Olist profits from both the volume of sales and the added value it offers to its sellers.\n",
    "\n",
    "Olist significantly impacts the Brazilian e-commerce landscape by enabling small businesses to compete on a larger scale. By simplifying the selling process and offering access to a broad network of marketplaces, Olist helps merchants reach more customers without the complexities of managing multiple sales channels and logistics on their own. This democratization of online selling supports the growth of Brazil’s e-commerce market and encourages entrepreneurship across the country."
   ]
  },
  {
   "cell_type": "markdown",
   "metadata": {},
   "source": [
    "##### **1.2. Problem Statement**"
   ]
  },
  {
   "cell_type": "markdown",
   "metadata": {},
   "source": [
    "Olist's average quarterly revenue of approximately BRL 171,170 from 2016 to 2018 represents a minor share of the Brazilian e-commerce market, which was valued at USD 19.5 billion in 2017, USD 20.2 billion in 2018, and USD 23.7 billion in 2019 [eCommerce market in Brazil](https://ecommercedb.com/markets/br/all#:~:text=market%20in%20Brazil-,Brazil%20is%20the%2012th%20largest%20market%20for%20eCommerce%20with%20a%20predicted,with%206.1%25%2C%20DIY%20with%205.4%25%2C%20and%20Grocery%20with%20the%20remaining%204.6%25.,-OVERVIEW). Despite the market's growth, Olist has struggled to increase its revenue and customer base, with data from 2016 to 2018 showing that 97% of customers make only one purchase and do not return, leaving only 3% as repeat buyers. This low retention rate significantly impacts Olist’s growth and revenue potential, indicating a misalignment between the products offered and customer needs, likely due to the lack of an effective recommendation system.\n",
    "\n",
    "Additionally, Olist faces a cold-start problem, where the system lacks sufficient data on new users and products, making it challenging to provide personalized recommendations that could enhance user engagement and retention. This issue is compounded by the fact that approximately 40% of Olist's customers tend to shop within the same segment, limiting the diversity of product exposure and reducing opportunities for cross-selling and upselling. Addressing these challenges is essential for expanding the customer base and increasing repeat purchases.\n",
    "\n",
    "Recommendation engines are crucial for personalization in e-commerce, significantly boosting conversion rates, average order value, retention rates, and enhancing customer experience. Studies have shown that product recommendations can account for up to 31% of e-commerce revenues [Barilliance](https://www.barilliance.com/personalized-product-recommendations-stats/), with conversion rates for visitors interacting with recommended items being more than five times higher than for those who do not. Moreover, personalization increases the likelihood of purchases by 75% [Accenture](https://www.accenture.com/), highlighting its importance in customer engagement.\n",
    "\n",
    "Without personalized recommendations, customers may not find relevant products, leading to a poor shopping experience, low engagement, and high churn rates. To address this, Olist should develop a recommendation system to better understand customer behavior, provide relevant product suggestions, improve engagement, encourage repeat purchases, and ultimately boost retention rates and revenue growth.\n",
    "\n",
    "Given this context, exploring the following questions is crucial to understanding customer behavior and developing strategies to enhance retention and drive revenue growth:\n",
    "\n",
    "1. Are there differences in product categories preferred by one-time versus repeat buyers?\n",
    "\n",
    "2. How does the purchase frequency of one-time versus repeat buyers vary across different cities and states?\n",
    "\n",
    "3. What are the satisfaction levels of one-time versus repeat buyers, and what factors influence these levels?\n",
    "\n",
    "4. Is there a difference in purchasing behavior based on the time of purchase?\n",
    "\n",
    "5. What is the contribution of one-time and repeat buyers to overall revenue, how it effect on company growth ?\n",
    "\n",
    "Converting even a small percentage of one-time buyers into repeat customers could substantially increase revenue, as repeat customers not only purchase more frequently but also contribute to a stable and predictable revenue stream."
   ]
  },
  {
   "cell_type": "markdown",
   "metadata": {},
   "source": [
    "##### **1.3. Objective / Goals**"
   ]
  },
  {
   "cell_type": "markdown",
   "metadata": {},
   "source": [
    "As stated in the problem statement above, a low customer retention rate negatively impacts the growth and stability of Olist e-commerce. As a data science team, we aim to provide solutions to the problems faced by the company through the following approaches:\n",
    "\n",
    "1. Conducting comprehensive business analysis to identify factors causing the low customer retention rate based on customer behavior from question that have stated.\n",
    "\n",
    "2. Developing an appropriate recommendation model based on the analysis of customer behavior to encourage customers to find products they are interested in, increase cross-selling opportunities, enhance their shopping experience, and thus encourage them to return, ultimately improving the customer retention rate.\n",
    "\n",
    "3. Provide a simulation illustrations how and to what extent an increase in customer retention rate can impact revenue and company growth through a recommendation system.\n",
    "\n",
    "Based on these objectives, the company is expected to create targeted business programs to increase the customer retention rate or retain customers. All findings and models developed will be presented to stakeholders so that they can make informed decisions and devise the next marketing strategy more efficiently."
   ]
  },
  {
   "cell_type": "markdown",
   "metadata": {},
   "source": [
    "##### **1.4. Analytical Approach (Models And Evaluation Metrics)**"
   ]
  },
  {
   "cell_type": "markdown",
   "metadata": {},
   "source": [
    "In this analytical process, we will explore three different recommendation system models:\n",
    "\n",
    "1. Content-Based Filtering: This model recommends items based on the similarity of products.\n",
    "\n",
    "2. Collaborative Filtering: This model makes recommendations based on considers user preferences from their ratings of other items.\n",
    "\n",
    "3. Hybrid Recommendation: This approach combines both Content-Based and Collaborative Filtering methods aims to provide more accurate and diverse recommendations.\n",
    "\n",
    "To evaluate the performance of these models, we will use Root Mean Squared Error (RMSE) as the evaluation metric. RMSE measures the average magnitude of the error between the predicted and actual ratings, providing insight into how well the recommendation system can predict customer preferences in terms of rankings. The lower the RMSE, the better the model's ability to match recommendations to user preferences."
   ]
  }
 ],
 "metadata": {
  "kernelspec": {
   "display_name": "Python 3",
   "language": "python",
   "name": "python3"
  },
  "language_info": {
   "codemirror_mode": {
    "name": "ipython",
    "version": 3
   },
   "file_extension": ".py",
   "mimetype": "text/x-python",
   "name": "python",
   "nbconvert_exporter": "python",
   "pygments_lexer": "ipython3",
   "version": "3.12.2"
  }
 },
 "nbformat": 4,
 "nbformat_minor": 2
}
