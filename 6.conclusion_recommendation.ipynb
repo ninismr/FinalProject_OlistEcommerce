{
 "cells": [
  {
   "cell_type": "markdown",
   "metadata": {},
   "source": [
    "#### **6. Conclusion And Recommendation**"
   ]
  },
  {
   "cell_type": "markdown",
   "metadata": {},
   "source": [
    "##### **6.1 Conclusion**"
   ]
  },
  {
   "cell_type": "markdown",
   "metadata": {},
   "source": [
    "\n",
    "1. Analysis result of factors causing the low customer retention rate and important insight based on customer behavior as follows :\n",
    "\n",
    "    1.1. The top three product preferences for repeat buyers are bed_bath_table, furniture, and sport_leisure, while the top three for one-time buyers are bed_bath_table, health_beauty, and sports_leisure. There is a noticeable difference where one-time buyers focus more on beauty and health-related items, which could be a good opportunity for personalized offers.\n",
    "\n",
    "    1.2. The largest purchase distribution for both one-time buyers and repeat buyers is concentrated in three cities: Sao Paulo, Rio de Janeiro, and Belo Horizonte. The top three regions are SP (Sao Paulo), RJ (Rio de Janeiro), and MG (Minas Gerais). Analysis shows that these cities and regions also have the highest customer and seller distribution and are among the three largest cities in Brazil, making them a potential focus for business growth through targeted promotional strategies.\n",
    "\n",
    "    1.3. Customer satisfaction analysis for both one-time and repeat buyers shows good scores, with satisfaction levels of 4 & 5 above 70%. However, the analysis also reveals high dissatisfaction scores of 1 & 2, exceeding 10% for both groups. One of the factors affecting these scores is the timeliness of the shipping process, which contributes to the 1 & 2 satisfaction scores but only accounts for about 30%. The remaining analysis from customer comments indicates that over 70% of customer dissatisfaction is due to issues such as incorrect deliveries, damaged goods, undelivered items, and errors in shipment quantity. This is a key area that needs improvement to enhance customer satisfaction, increase customer retention, and positively impact future business growth.\n",
    "\n",
    "    1.4. There is no significant difference in the choice of payment methods and payment installments between one-time buyers and repeat buyers. However, the analysis of purchase frequency by day shows that one-time buyers tend to make more purchases on Mondays, while repeat buyers tend to buy more on Tuesdays. Additionally, based on time, one-time buyers make most of their purchases between 10 AM and 4 PM, while repeat customers peak at 9 AM and 2 PM. Implementing business strategies based on these findings can help Olist improve the effectiveness of marketing campaigns and personalize the shopping experience.\n",
    "\n",
    "    1.5. Regarding the contribution to the company’s revenue, one-time buyers, who make up 97% of the total customer base, contribute 94% of the revenue, while repeat customers, who only make up 3% of the customer base, contribute nearly twice as much, with 5.5% of the revenue.\n",
    "\n",
    "2. The best performing collaborative filtering models is SVD++ Model after hyperparameter tuning with RMSE of user ratings = 1.364 Applying Cascade Hybrid approach with Content Based Recommendation system using TF-IDF Matrix and Cossine Similarities will result of succesfull recommendation accuracy by 19% of cross categorical repeat transactions  on unseen data. Based on the average percentage of cross-categorical transactions per quarter, which is 4.6%, the application of machine learning can increase cross-categorical transactions by 14.4%.\n",
    "\n",
    "\n",
    "3. The calculation below show simulation illustation that estimates the potential revenue growth per quarter from implementing the recommendation system with previous information :\n",
    "- Average Total Customers per Quarter: 11,685 customers\n",
    "- Average Number of Repeat Buyers per Quarter: 516 customers\n",
    "- Average Total Orders by Repeat Buyers per Quarter: 1,032 orders\n",
    "- Average Current Repeat Buyers Percentage per Quarter (Customer Retention Rate): 4.6%\n",
    "- Average Number of Purchases per Repeat Buyers per Quarter: 2 purchases\n",
    "- Average Quarterly Revenue per Customer's Order: BRL 12.14\n",
    "- Average Quarterly Revenue from Current Repeat Buyers: BRL 10,041\n",
    "- Average Current Quarterly Total Revenue from All Customers: BRL 171,170\n",
    "\n",
    "    3.1. Potential Quarterly Revenue from Recommendation System Implementation on Retention Rate*\n",
    "    - *Current Customer Retention Rate*: 4.6%\n",
    "    - *Increased Retention Rate*: 19%, increase in retention rate (+14.4%)\n",
    "    - *Estimated Increase in the Number of Repeat Buyers*:\n",
    "        - 19% of total customers = 19% × 11,685 customers = 2,220 customers\n",
    "        - 2,220 customers (14.4% increased) - 516 customers (current) = *1,704 customers*, number increase of repeat buyers for a 14.4% increase.\n",
    "    - *Potential Quarterly Revenue from Increased Repeat Buyers*:\n",
    "        - *Total Orders by Increased Repeat Buyers*: \n",
    "        - 2,220 customers × 2 purchases = 4,440 orders\n",
    "        - 4,440 orders (14.4% increased) - 1,032 orders (current) = *3,408 orders*, number increase of repeat buyers' orders for a 14.4% increase.\n",
    "        - *Potential Quarterly Revenue*: \n",
    "        - 4,440 orders × BRL 12.14 = *BRL 53,901*\n",
    "\n",
    "    3.2. Potential Quarterly Revenue Growth*\n",
    "    - *Increase in Quarterly Revenue from Increased Repeat Buyers*: \n",
    "    - BRL 53,901 (14.4% increased) - BRL 10,041 (current) = *BRL 43,860*, potential quarterly revenue increase from increased repeat buyers for a 14.4% increase.\n",
    "    - *Estimated Quarterly Total Revenue After Increase*:\n",
    "    - BRL 171,170 + BRL 43,860 = *BRL 215,030*\n",
    "    - *Potential Quarterly Revenue Growth (%) from a 14.4% Increase in Retention Rate*:\n",
    "    - ((BRL 215,030 - BRL 171,170) / BRL 171,170) × 100 = *25.6%*\n"
   ]
  },
  {
   "cell_type": "markdown",
   "metadata": {},
   "source": [
    "##### **6.2 Recommendation**"
   ]
  },
  {
   "cell_type": "markdown",
   "metadata": {},
   "source": [
    "    6.2.1 Recommendation For Bussiness\n"
   ]
  },
  {
   "cell_type": "markdown",
   "metadata": {},
   "source": [
    "1. Personalization Strategies for Health and Beauty Products: Given the different preferences between one-time buyers and repeat buyers regarding product categories, the company can leverage this data to improve personalized offers. Focusing on health and beauty products for one-time buyers who have shown a strong interest in these categories can help convert them into repeat buyers. This strategy could include tailored product recommendations based on previous preferences and marketing campaigns highlighting the benefits of health and beauty products.\n",
    "\n",
    "2. Targeted Promotions in Key Cities: With a high purchase distribution in the three major cities of Brazil — São Paulo, Rio de Janeiro, and Belo Horizonte — as well as the three largest regions, the company should focus its marketing and promotional efforts in these areas. Campaigns tailored to the needs and preferences of customers in these regions, including local promotions, events or collaborations with local businesses, and digital marketing focused on these cities, will help increase brand awareness and sales.\n",
    "\n",
    "3. Enhance Collaboration with Logistics Partners to Improve Shipping Accuracy : The primary issue affecting customer satisfaction is errors in product shipments, such as incorrect, damaged, or undelivered items, and mistakes in the number of items shipped. To address these issues, Olist should enhance its collaboration with logistics partners to ensure better shipping accuracy and service quality. This could involve setting up more stringent quality control measures, sharing detailed feedback with logistics partners to address common issues, and implementing robust tracking systems. Additionally, negotiating service level agreements (SLAs) that focus on reducing errors and improving delivery timelines could significantly enhance customer satisfaction and retention rates.\n",
    "\n",
    "4. Optimize Marketing Campaigns Based on Purchase Timing: Data shows that one-time buyers and repeat buyers have different purchasing patterns based on days and times. Olist can improve the effectiveness of its marketing campaigns by adjusting promotions and discount offers according to these purchasing patterns. For example, campaigns for one-time buyers can be focused on Mondays between 10:00 AM and 4:00 PM, while campaigns for repeat buyers can be targeted on Tuesdays and their peak purchasing hours. This tailored approach can help increase engagement and conversion rates."
   ]
  },
  {
   "cell_type": "markdown",
   "metadata": {},
   "source": [
    "    6.2.2 Recommendation for Machine Learning Model"
   ]
  },
  {
   "cell_type": "markdown",
   "metadata": {},
   "source": [
    "\n",
    "1. Provide more data of repeat transaction will improve the model performance in predicting / giving recommendation for next purchase based on collaborative filtering to mitigate sparsity problem. More data on customer demographics and product descriptions also can improve the overall performance of the model by allowing more variations of personalized recommendations.\n",
    "\n",
    "2. Explore more option for content based filtering and hybrid approach to recommend items in similar and cross categories. conduct the researc based on hystorical data of optimal item recommendation to improve model performance.\n",
    "\n",
    "3. Applying Implicit data based on customers items search history and shopping cart might be represent more actual condition of recommendation system for customer haven't make any transaction."
   ]
  },
  {
   "cell_type": "markdown",
   "metadata": {},
   "source": [
    "##### **6.3 Model Limitation**\n",
    "\n",
    "We realize that the machine learning model we developed in its application has several limitations. Here is several limitations that might be affect our recommendation system machine learning model prediction results :\n",
    "\n",
    "1. Inability to handle customers specific interest : our model is build on limited data related to product descriptions. Its only developed based on product category that represent broad kind of product. It might affect the result of models to .\n",
    "\n",
    "2. Scalability Issues : As the number of users, items, and categories increases, the system may face scalability challenges. Collaborative filtering and Content Based can become computationally expensive with large datasets.\n",
    "\n",
    "3. Cold Start for Categories: Similar to the cold start problem for users or items, if new product categories are introduced and do not have enough data, collaborative filtering may struggle to recommend them effectively.\n",
    "\n",
    "4. Category Bias: The system might favor categories that are more popular or have more data due to the collaborative filtering step. This could lead to less diverse recommendations if certain categories are overrepresented."
   ]
  }
 ],
 "metadata": {
  "language_info": {
   "name": "python"
  }
 },
 "nbformat": 4,
 "nbformat_minor": 2
}
